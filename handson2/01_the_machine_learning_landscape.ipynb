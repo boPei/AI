{
 "cells": [
  {
   "cell_type": "markdown",
   "metadata": {},
   "source": [
    "**Chapter 1 - The Machine Learning Landscape**"
   ]
  },
  {
   "cell_type": "markdown",
   "metadata": {},
   "source": [
    "# Code Example 1-1"
   ]
  },
  {
   "cell_type": "code",
   "execution_count": 1,
   "metadata": {},
   "outputs": [],
   "source": [
    "# Python >=3.5 is required\n",
    "import sys\n",
    "assert sys.version_info>=(3,5)\n",
    "\n",
    "# Scikit-learn <=0.20 is required\n",
    "import sklearn\n",
    "assert sklearn.__version__>=\"0.20\""
   ]
  },
  {
   "cell_type": "code",
   "execution_count": 2,
   "metadata": {},
   "outputs": [
    {
     "data": {
      "text/plain": [
       "['.ipynb_checkpoints', 'gdp_per_capita.csv', 'oecd_bli_2015.csv', 'test.ipynb']"
      ]
     },
     "execution_count": 2,
     "metadata": {},
     "output_type": "execute_result"
    }
   ],
   "source": [
    "import os\n",
    "import numpy as np\n",
    "import pandas as pd\n",
    "dataPath=os.path.join('datasets','lifesat')\n",
    "os.listdir(dataPath)"
   ]
  },
  {
   "cell_type": "code",
   "execution_count": 201,
   "metadata": {},
   "outputs": [],
   "source": [
    "import plotly.express as px\n",
    "import plotly.graph_objects as go"
   ]
  },
  {
   "cell_type": "code",
   "execution_count": 23,
   "metadata": {},
   "outputs": [],
   "source": [
    "from sklearn.linear_model import LinearRegression\n",
    "from sklearn.neighbors import KNeighborsRegressor"
   ]
  },
  {
   "cell_type": "code",
   "execution_count": 266,
   "metadata": {},
   "outputs": [],
   "source": [
    "# read dataset\n",
    "gdp_per_capita=pd.read_csv(os.path.join(dataPath,'gdp_per_capita.csv'),\n",
    "                           sep='\\t',thousands=',',\n",
    "                           error_bad_lines=False,\n",
    "                           na_values='n\\a')\n",
    "oecd_bli=pd.read_csv(os.path.join(dataPath,'oecd_bli_2015.csv'),\n",
    "                    thousands=',')\n",
    "oecd_bli=oecd_bli[oecd_bli['INEQUALITY']=='TOT'].pivot(index='Country',columns='Indicator',values='Value')\n",
    "gdp_per_capita.rename(columns={'2015':'GDP per Indicator'},inplace=True)\n",
    "gdp_per_capita.set_index('Country',inplace=True)"
   ]
  },
  {
   "cell_type": "code",
   "execution_count": 273,
   "metadata": {},
   "outputs": [],
   "source": [
    "full_country_stats=pd.merge(left=oecd_bli,\n",
    "                            right=gdp_per_capita,\n",
    "                           left_index=True,\n",
    "                           right_index=True)"
   ]
  },
  {
   "cell_type": "code",
   "execution_count": 274,
   "metadata": {},
   "outputs": [],
   "source": [
    "remove_indices=[0,1,6,8,33,34,35]\n",
    "keep_indices=list(set(range(36))-set(remove_indices))"
   ]
  },
  {
   "cell_type": "code",
   "execution_count": 275,
   "metadata": {},
   "outputs": [],
   "source": [
    "full_country_samples=full_country_stats[['GDP per Indicator','Life satisfaction']]"
   ]
  },
  {
   "cell_type": "code",
   "execution_count": 276,
   "metadata": {},
   "outputs": [],
   "source": [
    "missing_data=full_country_stats[['GDP per Indicator','Life satisfaction']].iloc[remove_indices]"
   ]
  },
  {
   "cell_type": "code",
   "execution_count": 277,
   "metadata": {},
   "outputs": [],
   "source": [
    "full_country_stats=full_country_stats[['GDP per Indicator','Life satisfaction']].iloc[keep_indices]"
   ]
  },
  {
   "cell_type": "code",
   "execution_count": 278,
   "metadata": {},
   "outputs": [],
   "source": [
    "x=np.c_[full_country_stats['GDP per Indicator']]\n",
    "y=np.c_[[full_country_stats['Life satisfaction']]]"
   ]
  },
  {
   "cell_type": "code",
   "execution_count": 279,
   "metadata": {},
   "outputs": [],
   "source": [
    "%matplotlib inline\n",
    "import matplotlib as mpl\n",
    "import matplotlib.pyplot as plt\n",
    "mpl.rc('axes',labelsize=14)\n",
    "mpl.rc('xtick',labelsize=12)\n",
    "mpl.rc('ytick',labelsize=12)"
   ]
  },
  {
   "cell_type": "code",
   "execution_count": 74,
   "metadata": {},
   "outputs": [],
   "source": [
    "# define a saver for saving figures\n",
    "PROJECT_ROOT_DIR='.'\n",
    "CHAPTER_ID='fundamentals'\n",
    "IMAGES_PATH=os.path.join(PROJECT_ROOT_DIR,'images',CHAPTER_ID)\n",
    "os.makedirs(IMAGES_PATH,exist_ok=True)\n",
    "\n",
    "def save_fig(fig_id,tight_layout=True,fig_extension='png',resolution=300):\n",
    "    path=os.path.join(IMAGE_PATH,fig_id+'.'+fig_extension)\n",
    "    print('Saving figure',fig_id)\n",
    "    if tight_layout:\n",
    "        plt.tight_layout()\n",
    "    plt.savefig(path,format=fig_extension,dpi=resolution)"
   ]
  },
  {
   "cell_type": "code",
   "execution_count": 75,
   "metadata": {},
   "outputs": [
    {
     "name": "stdout",
     "output_type": "stream",
     "text": [
      "Saving figure regressor_comparison_fig\n",
      "[6.59467536]\n",
      "[5.73333333]\n"
     ]
    },
    {
     "data": {
      "image/png": "[encoded data removed]",
      "text/plain": [
       "<Figure size 864x432 with 1 Axes>"
      ]
     },
     "metadata": {
      "needs_background": "light"
     },
     "output_type": "display_data"
    }
   ],
   "source": [
    "model=LinearRegression()\n",
    "y=y.ravel()\n",
    "model.fit(x,y)\n",
    "y_pred=model.predict(x)\n",
    "\n",
    "kNNmodel=KNeighborsRegressor(n_neighbors=3)\n",
    "kNNmodel.fit(x,y)\n",
    "y_pred1=kNNmodel.predict(x)\n",
    "\n",
    "full_country_stats.plot(kind='scatter',\n",
    "                       x='GDP per Indicator',\n",
    "                       y='Life satisfaction',\n",
    "                       figsize=(12,6),\n",
    "                       label='original scatter')\n",
    "plt.plot(x,y_pred,'r',label='Linear Regression prediction line')\n",
    "plt.plot(sorted(x),y_pred1,'g',label='KNN prediction line')\n",
    "inst_pred=model.predict([[22587]])\n",
    "inst_pred1=kNNmodel.predict([[22587]])\n",
    "plt.scatter(x=22587,y=inst_pred,marker='^',color='r')\n",
    "plt.scatter(x=22587,y=inst_pred1,marker='^',color='g')\n",
    "plt.legend(loc='lower right')\n",
    "plt.axis([8000,60000,0,10])\n",
    "save_fig('regressor_comparison_fig')\n",
    "print(inst_pred)\n",
    "print(inst_pred1)"
   ]
  },
  {
   "cell_type": "code",
   "execution_count": 119,
   "metadata": {},
   "outputs": [
    {
     "name": "stdout",
     "output_type": "stream",
     "text": [
      "6.6033092838737595 [-3.82252052e-07]\n"
     ]
    }
   ],
   "source": [
    "print(model.intercept_,model.coef_)"
   ]
  },
  {
   "cell_type": "code",
   "execution_count": 122,
   "metadata": {},
   "outputs": [],
   "source": [
    "# print(kNNmodel.intercept_,kNNmodel.coef_)"
   ]
  },
  {
   "cell_type": "markdown",
   "metadata": {},
   "source": [
    "## Examining the dataset"
   ]
  },
  {
   "cell_type": "code",
   "execution_count": 38,
   "metadata": {},
   "outputs": [
    {
     "data": {
      "text/html": [
       "<div>\n",
       "<style scoped>\n",
       "    .dataframe tbody tr th:only-of-type {\n",
       "        vertical-align: middle;\n",
       "    }\n",
       "\n",
       "    .dataframe tbody tr th {\n",
       "        vertical-align: top;\n",
       "    }\n",
       "\n",
       "    .dataframe thead th {\n",
       "        text-align: right;\n",
       "    }\n",
       "</style>\n",
       "<table border=\"1\" class=\"dataframe\">\n",
       "  <thead>\n",
       "    <tr style=\"text-align: right;\">\n",
       "      <th></th>\n",
       "      <th>GDP per Indicator</th>\n",
       "      <th>Life satisfaction</th>\n",
       "    </tr>\n",
       "    <tr>\n",
       "      <th>Country</th>\n",
       "      <th></th>\n",
       "      <th></th>\n",
       "    </tr>\n",
       "  </thead>\n",
       "  <tbody>\n",
       "    <tr>\n",
       "      <th>Finland</th>\n",
       "      <td>41973.988</td>\n",
       "      <td>7.4</td>\n",
       "    </tr>\n",
       "    <tr>\n",
       "      <th>Denmark</th>\n",
       "      <td>52114.165</td>\n",
       "      <td>7.5</td>\n",
       "    </tr>\n",
       "    <tr>\n",
       "      <th>Slovenia</th>\n",
       "      <td>20732.482</td>\n",
       "      <td>5.7</td>\n",
       "    </tr>\n",
       "  </tbody>\n",
       "</table>\n",
       "</div>"
      ],
      "text/plain": [
       "          GDP per Indicator  Life satisfaction\n",
       "Country                                       \n",
       "Finland           41973.988                7.4\n",
       "Denmark           52114.165                7.5\n",
       "Slovenia          20732.482                5.7"
      ]
     },
     "execution_count": 38,
     "metadata": {},
     "output_type": "execute_result"
    }
   ],
   "source": [
    "full_country_stats.sample(3)"
   ]
  },
  {
   "cell_type": "code",
   "execution_count": 43,
   "metadata": {},
   "outputs": [
    {
     "data": {
      "text/plain": [
       "GDP per Indicator    52114.165\n",
       "Life satisfaction        7.500\n",
       "Name: Denmark, dtype: float64"
      ]
     },
     "execution_count": 43,
     "metadata": {},
     "output_type": "execute_result"
    }
   ],
   "source": [
    "full_country_stats.loc['Denmark']"
   ]
  },
  {
   "cell_type": "code",
   "execution_count": 39,
   "metadata": {},
   "outputs": [
    {
     "data": {
      "text/html": [
       "<div>\n",
       "<style scoped>\n",
       "    .dataframe tbody tr th:only-of-type {\n",
       "        vertical-align: middle;\n",
       "    }\n",
       "\n",
       "    .dataframe tbody tr th {\n",
       "        vertical-align: top;\n",
       "    }\n",
       "\n",
       "    .dataframe thead th {\n",
       "        text-align: right;\n",
       "    }\n",
       "</style>\n",
       "<table border=\"1\" class=\"dataframe\">\n",
       "  <thead>\n",
       "    <tr style=\"text-align: right;\">\n",
       "      <th>Indicator</th>\n",
       "      <th>Air pollution</th>\n",
       "      <th>Assault rate</th>\n",
       "      <th>Consultation on rule-making</th>\n",
       "      <th>Dwellings without basic facilities</th>\n",
       "      <th>Educational attainment</th>\n",
       "      <th>Employees working very long hours</th>\n",
       "      <th>Employment rate</th>\n",
       "      <th>Homicide rate</th>\n",
       "      <th>Household net adjusted disposable income</th>\n",
       "      <th>Household net financial wealth</th>\n",
       "      <th>...</th>\n",
       "      <th>Long-term unemployment rate</th>\n",
       "      <th>Personal earnings</th>\n",
       "      <th>Quality of support network</th>\n",
       "      <th>Rooms per person</th>\n",
       "      <th>Self-reported health</th>\n",
       "      <th>Student skills</th>\n",
       "      <th>Time devoted to leisure and personal care</th>\n",
       "      <th>Voter turnout</th>\n",
       "      <th>Water quality</th>\n",
       "      <th>Years in education</th>\n",
       "    </tr>\n",
       "    <tr>\n",
       "      <th>Country</th>\n",
       "      <th></th>\n",
       "      <th></th>\n",
       "      <th></th>\n",
       "      <th></th>\n",
       "      <th></th>\n",
       "      <th></th>\n",
       "      <th></th>\n",
       "      <th></th>\n",
       "      <th></th>\n",
       "      <th></th>\n",
       "      <th></th>\n",
       "      <th></th>\n",
       "      <th></th>\n",
       "      <th></th>\n",
       "      <th></th>\n",
       "      <th></th>\n",
       "      <th></th>\n",
       "      <th></th>\n",
       "      <th></th>\n",
       "      <th></th>\n",
       "      <th></th>\n",
       "    </tr>\n",
       "  </thead>\n",
       "  <tbody>\n",
       "    <tr>\n",
       "      <th>Denmark</th>\n",
       "      <td>15.0</td>\n",
       "      <td>3.9</td>\n",
       "      <td>7.0</td>\n",
       "      <td>0.9</td>\n",
       "      <td>78.0</td>\n",
       "      <td>2.03</td>\n",
       "      <td>73.0</td>\n",
       "      <td>0.3</td>\n",
       "      <td>26491.0</td>\n",
       "      <td>44488.0</td>\n",
       "      <td>...</td>\n",
       "      <td>1.78</td>\n",
       "      <td>48347.0</td>\n",
       "      <td>95.0</td>\n",
       "      <td>1.9</td>\n",
       "      <td>72.0</td>\n",
       "      <td>498.0</td>\n",
       "      <td>16.06</td>\n",
       "      <td>88.0</td>\n",
       "      <td>94.0</td>\n",
       "      <td>19.4</td>\n",
       "    </tr>\n",
       "    <tr>\n",
       "      <th>Greece</th>\n",
       "      <td>27.0</td>\n",
       "      <td>3.7</td>\n",
       "      <td>6.5</td>\n",
       "      <td>0.7</td>\n",
       "      <td>68.0</td>\n",
       "      <td>6.16</td>\n",
       "      <td>49.0</td>\n",
       "      <td>1.6</td>\n",
       "      <td>18575.0</td>\n",
       "      <td>14579.0</td>\n",
       "      <td>...</td>\n",
       "      <td>18.39</td>\n",
       "      <td>25503.0</td>\n",
       "      <td>83.0</td>\n",
       "      <td>1.2</td>\n",
       "      <td>74.0</td>\n",
       "      <td>466.0</td>\n",
       "      <td>14.91</td>\n",
       "      <td>64.0</td>\n",
       "      <td>69.0</td>\n",
       "      <td>18.6</td>\n",
       "    </tr>\n",
       "    <tr>\n",
       "      <th>Canada</th>\n",
       "      <td>15.0</td>\n",
       "      <td>1.3</td>\n",
       "      <td>10.5</td>\n",
       "      <td>0.2</td>\n",
       "      <td>89.0</td>\n",
       "      <td>3.94</td>\n",
       "      <td>72.0</td>\n",
       "      <td>1.5</td>\n",
       "      <td>29365.0</td>\n",
       "      <td>67913.0</td>\n",
       "      <td>...</td>\n",
       "      <td>0.90</td>\n",
       "      <td>46911.0</td>\n",
       "      <td>92.0</td>\n",
       "      <td>2.5</td>\n",
       "      <td>89.0</td>\n",
       "      <td>522.0</td>\n",
       "      <td>14.25</td>\n",
       "      <td>61.0</td>\n",
       "      <td>91.0</td>\n",
       "      <td>17.2</td>\n",
       "    </tr>\n",
       "  </tbody>\n",
       "</table>\n",
       "<p>3 rows × 24 columns</p>\n",
       "</div>"
      ],
      "text/plain": [
       "Indicator  Air pollution  Assault rate  Consultation on rule-making  \\\n",
       "Country                                                               \n",
       "Denmark             15.0           3.9                          7.0   \n",
       "Greece              27.0           3.7                          6.5   \n",
       "Canada              15.0           1.3                         10.5   \n",
       "\n",
       "Indicator  Dwellings without basic facilities  Educational attainment  \\\n",
       "Country                                                                 \n",
       "Denmark                                   0.9                    78.0   \n",
       "Greece                                    0.7                    68.0   \n",
       "Canada                                    0.2                    89.0   \n",
       "\n",
       "Indicator  Employees working very long hours  Employment rate  Homicide rate  \\\n",
       "Country                                                                        \n",
       "Denmark                                 2.03             73.0            0.3   \n",
       "Greece                                  6.16             49.0            1.6   \n",
       "Canada                                  3.94             72.0            1.5   \n",
       "\n",
       "Indicator  Household net adjusted disposable income  \\\n",
       "Country                                               \n",
       "Denmark                                     26491.0   \n",
       "Greece                                      18575.0   \n",
       "Canada                                      29365.0   \n",
       "\n",
       "Indicator  Household net financial wealth  ...  Long-term unemployment rate  \\\n",
       "Country                                    ...                                \n",
       "Denmark                           44488.0  ...                         1.78   \n",
       "Greece                            14579.0  ...                        18.39   \n",
       "Canada                            67913.0  ...                         0.90   \n",
       "\n",
       "Indicator  Personal earnings  Quality of support network  Rooms per person  \\\n",
       "Country                                                                      \n",
       "Denmark              48347.0                        95.0               1.9   \n",
       "Greece               25503.0                        83.0               1.2   \n",
       "Canada               46911.0                        92.0               2.5   \n",
       "\n",
       "Indicator  Self-reported health  Student skills  \\\n",
       "Country                                           \n",
       "Denmark                    72.0           498.0   \n",
       "Greece                     74.0           466.0   \n",
       "Canada                     89.0           522.0   \n",
       "\n",
       "Indicator  Time devoted to leisure and personal care  Voter turnout  \\\n",
       "Country                                                               \n",
       "Denmark                                        16.06           88.0   \n",
       "Greece                                         14.91           64.0   \n",
       "Canada                                         14.25           61.0   \n",
       "\n",
       "Indicator  Water quality  Years in education  \n",
       "Country                                       \n",
       "Denmark             94.0                19.4  \n",
       "Greece              69.0                18.6  \n",
       "Canada              91.0                17.2  \n",
       "\n",
       "[3 rows x 24 columns]"
      ]
     },
     "execution_count": 39,
     "metadata": {},
     "output_type": "execute_result"
    }
   ],
   "source": [
    "oecd_bli.sample(3)"
   ]
  },
  {
   "cell_type": "code",
   "execution_count": 40,
   "metadata": {},
   "outputs": [
    {
     "data": {
      "text/html": [
       "<div>\n",
       "<style scoped>\n",
       "    .dataframe tbody tr th:only-of-type {\n",
       "        vertical-align: middle;\n",
       "    }\n",
       "\n",
       "    .dataframe tbody tr th {\n",
       "        vertical-align: top;\n",
       "    }\n",
       "\n",
       "    .dataframe thead th {\n",
       "        text-align: right;\n",
       "    }\n",
       "</style>\n",
       "<table border=\"1\" class=\"dataframe\">\n",
       "  <thead>\n",
       "    <tr style=\"text-align: right;\">\n",
       "      <th></th>\n",
       "      <th>Subject Descriptor</th>\n",
       "      <th>Units</th>\n",
       "      <th>Scale</th>\n",
       "      <th>Country/Series-specific Notes</th>\n",
       "      <th>GDP per Indicator</th>\n",
       "      <th>Estimates Start After</th>\n",
       "    </tr>\n",
       "    <tr>\n",
       "      <th>Country</th>\n",
       "      <th></th>\n",
       "      <th></th>\n",
       "      <th></th>\n",
       "      <th></th>\n",
       "      <th></th>\n",
       "      <th></th>\n",
       "    </tr>\n",
       "  </thead>\n",
       "  <tbody>\n",
       "    <tr>\n",
       "      <th>Romania</th>\n",
       "      <td>Gross domestic product per capita, current prices</td>\n",
       "      <td>U.S. dollars</td>\n",
       "      <td>Units</td>\n",
       "      <td>See notes for:  Gross domestic product, curren...</td>\n",
       "      <td>8906.296</td>\n",
       "      <td>2015.0</td>\n",
       "    </tr>\n",
       "    <tr>\n",
       "      <th>Kiribati</th>\n",
       "      <td>Gross domestic product per capita, current prices</td>\n",
       "      <td>U.S. dollars</td>\n",
       "      <td>Units</td>\n",
       "      <td>See notes for:  Gross domestic product, curren...</td>\n",
       "      <td>1427.619</td>\n",
       "      <td>2013.0</td>\n",
       "    </tr>\n",
       "    <tr>\n",
       "      <th>Belgium</th>\n",
       "      <td>Gross domestic product per capita, current prices</td>\n",
       "      <td>U.S. dollars</td>\n",
       "      <td>Units</td>\n",
       "      <td>See notes for:  Gross domestic product, curren...</td>\n",
       "      <td>40106.632</td>\n",
       "      <td>2014.0</td>\n",
       "    </tr>\n",
       "  </tbody>\n",
       "</table>\n",
       "</div>"
      ],
      "text/plain": [
       "                                         Subject Descriptor         Units  \\\n",
       "Country                                                                     \n",
       "Romania   Gross domestic product per capita, current prices  U.S. dollars   \n",
       "Kiribati  Gross domestic product per capita, current prices  U.S. dollars   \n",
       "Belgium   Gross domestic product per capita, current prices  U.S. dollars   \n",
       "\n",
       "          Scale                      Country/Series-specific Notes  \\\n",
       "Country                                                              \n",
       "Romania   Units  See notes for:  Gross domestic product, curren...   \n",
       "Kiribati  Units  See notes for:  Gross domestic product, curren...   \n",
       "Belgium   Units  See notes for:  Gross domestic product, curren...   \n",
       "\n",
       "          GDP per Indicator  Estimates Start After  \n",
       "Country                                             \n",
       "Romania            8906.296                 2015.0  \n",
       "Kiribati           1427.619                 2013.0  \n",
       "Belgium           40106.632                 2014.0  "
      ]
     },
     "execution_count": 40,
     "metadata": {},
     "output_type": "execute_result"
    }
   ],
   "source": [
    "gdp_per_capita.sample(3)"
   ]
  },
  {
   "cell_type": "code",
   "execution_count": 73,
   "metadata": {},
   "outputs": [
    {
     "name": "stdout",
     "output_type": "stream",
     "text": [
      "Saving figure money_happy_scatterplot\n"
     ]
    },
    {
     "data": {
      "image/png": "[encoded data removed]",
      "text/plain": [
       "<Figure size 864x360 with 1 Axes>"
      ]
     },
     "metadata": {
      "needs_background": "light"
     },
     "output_type": "display_data"
    }
   ],
   "source": [
    "# annotated plot\n",
    "position_text={'Poland':(12495.3,5.0),\n",
    "               'Slovak Republic':(19991.7,5.2),\n",
    "               'France':(37675.01,5.1),\n",
    "               'Ireland':(51350.7,5.1),\n",
    "               'Norway':(74822.1,5.1)\n",
    "              }\n",
    "full_country_stats.plot(kind='scatter',\n",
    "                       x='GDP per Indicator',\n",
    "                       y='Life satisfaction',\n",
    "                       figsize=(12,5))\n",
    "# plt.axis([8000,60000,0,10])\n",
    "\n",
    "for country,pos_text in position_text.items():\n",
    "    pos_data_x,pos_data_y=full_country_stats.loc[country]\n",
    "    plt.annotate(country,\n",
    "                xy=(pos_data_x,pos_data_y),\n",
    "                xytext=pos_text,\n",
    "                arrowprops=dict(facecolor='black',\n",
    "                                width=0.5,\n",
    "                                shrink=0.1,\n",
    "                               headwidth=5))\n",
    "    \n",
    "    plt.plot(pos_data_x,pos_data_y,'ro')\n",
    "save_fig('money_happy_scatterplot')"
   ]
  },
  {
   "cell_type": "code",
   "execution_count": 127,
   "metadata": {},
   "outputs": [
    {
     "name": "stdout",
     "output_type": "stream",
     "text": [
      "Saving figure tweaking_model_params_plot\n"
     ]
    },
    {
     "data": {
      "image/png": "[encoded data removed]",
      "text/plain": [
       "<Figure size 864x288 with 1 Axes>"
      ]
     },
     "metadata": {
      "needs_background": "light"
     },
     "output_type": "display_data"
    }
   ],
   "source": [
    "# fitting models to the datasets\n",
    "full_country_stats.plot(kind='scatter',\n",
    "                       x='GDP per Indicator',\n",
    "                       y='Life satisfaction',\n",
    "                       figsize=(12,4),\n",
    "                       color='g',\n",
    "                       marker='^')\n",
    "# plt.axis([0,120000,4.5,8.0])\n",
    "X=np.linspace([0,100000],1000)\n",
    "plt.plot(X,2*X/100000,'r')\n",
    "plt.text(80000,1.8,r\"$\\theta_0=0$\",fontsize=14,color='r')\n",
    "plt.text(80000,1.0,r'$\\theta_1=2 \\times 10^{-5}$',fontsize=14,color='r')\n",
    "\n",
    "plt.plot(X,4+5*X/100000,'b')\n",
    "plt.text(80000,8.5,r\"$\\theta_0=4$\",fontsize=14,color='b')\n",
    "plt.text(80000,7.2,r\"$\\theta_1=5\\times10^{-5}$\",fontsize=14,color='b')\n",
    "\n",
    "plt.plot(X,8-5*X/100000,'c')\n",
    "plt.text(8000,8.3,r\"$\\theta_0=8$\",fontsize=14,color='c')\n",
    "plt.text(8000,7.2,r\"$\\theta_1=-5 \\times 10^{-5}$\",fontsize=14,color='c')\n",
    "\n",
    "plt.plot(X,6.6+4*X/10000000,'k')\n",
    "plt.text(40000,8.3,r\"$\\theta_0=6.6$\",fontsize=14,color='k')\n",
    "plt.text(40000,7.2,r\"$\\theta_1=5\\times 10^{-7}$\",fontsize=14,color='k')\n",
    "save_fig('tweaking_model_params_plot')\n"
   ]
  },
  {
   "cell_type": "code",
   "execution_count": 129,
   "metadata": {},
   "outputs": [
    {
     "name": "stdout",
     "output_type": "stream",
     "text": [
      "5.821070654502937 2.1516816363324514e-05\n"
     ]
    }
   ],
   "source": [
    "# Train a model to make prediction\n",
    "lin1=LinearRegression()\n",
    "Xsample=np.c_[full_country_stats['GDP per Indicator']]\n",
    "ysample=np.c_[full_country_stats['Life satisfaction']]\n",
    "lin1.fit(Xsample,ysample)\n",
    "t0,t1=lin1.intercept_[0],lin1.coef_[0][0]\n",
    "print(t0,t1)"
   ]
  },
  {
   "cell_type": "code",
   "execution_count": 155,
   "metadata": {},
   "outputs": [
    {
     "name": "stdout",
     "output_type": "stream",
     "text": [
      "Saving figure best_fit_model_fig\n"
     ]
    },
    {
     "data": {
      "image/png": "[encoded data removed]",
      "text/plain": [
       "<Figure size 864x360 with 1 Axes>"
      ]
     },
     "metadata": {
      "needs_background": "light"
     },
     "output_type": "display_data"
    }
   ],
   "source": [
    "# plot the decision line\n",
    "full_country_stats.plot(kind='scatter',\n",
    "                       x='GDP per Indicator',\n",
    "                       y='Life satisfaction',\n",
    "                       color='g',\n",
    "                       figsize=(12,5))\n",
    "X=np.linspace(0,100000,1000)\n",
    "plt.plot(X,t1*X+t0,'k--',label='prediction line')\n",
    "plt.text(20000,6.0,r\"$\\theta_0=%d$\"%t0,fontsize=14)\n",
    "plt.text(20000,5.8,r\"$\\theta_1={}$\".format(t1),fontsize=13)\n",
    "save_fig('best_fit_model_fig')"
   ]
  },
  {
   "cell_type": "code",
   "execution_count": 164,
   "metadata": {},
   "outputs": [
    {
     "name": "stdout",
     "output_type": "stream",
     "text": [
      "22587.49\n",
      "6.3070815289413655\n"
     ]
    }
   ],
   "source": [
    "# using model lin1 to predict the life satisfaction of a specific country\n",
    "cryprus_gdp_per_capita=gdp_per_capita.loc['Cyprus']['GDP per Indicator']\n",
    "print(cryprus_gdp_per_capita)\n",
    "cryprus_predicted_life_satisfaction=lin1.predict([[cryprus_gdp_per_capita]])[0][0]\n",
    "print(cryprus_predicted_life_satisfaction)"
   ]
  },
  {
   "cell_type": "code",
   "execution_count": 203,
   "metadata": {},
   "outputs": [
    {
     "name": "stdout",
     "output_type": "stream",
     "text": [
      "Saving figure cyprus_prediction_plot\n"
     ]
    },
    {
     "data": {
      "image/png": "[encoded data removed]",
      "text/plain": [
       "<Figure size 864x360 with 1 Axes>"
      ]
     },
     "metadata": {
      "needs_background": "light"
     },
     "output_type": "display_data"
    }
   ],
   "source": [
    "full_country_stats.plot(kind='scatter',\n",
    "                       x='GDP per Indicator',\n",
    "                       y='Life satisfaction',\n",
    "                       figsize=(12,5),\n",
    "                       s=2)\n",
    "X=np.linspace(0,100000,1000)\n",
    "plt.plot(X,t0+t1*X,\"b\")\n",
    "plt.text(10000,7.0,r\"$\\theta_0=5.82$\",fontsize=14)\n",
    "plt.text(10000,6.5,r\"$\\theta_1=2.15 \\times 10^{-5}$\",fontsize=14)\n",
    "plt.plot(cryprus_gdp_per_capita,cryprus_predicted_life_satisfaction,'ro')\n",
    "plt.plot([cryprus_gdp_per_capita,cryprus_gdp_per_capita],[0,cryprus_predicted_life_satisfaction],'r--')\n",
    "plt.text(cryprus_gdp_per_capita+2000,5.5,r\"Prediction = {}\".format(round(cryprus_predicted_life_satisfaction,3)),fontsize=14,color='b')\n",
    "plt.axis([0,100000,0,10])\n",
    "save_fig(\"cyprus_prediction_plot\")"
   ]
  },
  {
   "cell_type": "code",
   "execution_count": 254,
   "metadata": {},
   "outputs": [
    {
     "data": {
      "application/vnd.plotly.v1+json": {
       "config": {
        "plotlyServerURL": "https://plot.ly"
       },
       "data": [
        {
         "hovertemplate": "<b>%{hovertext}</b><br><br>Country=Belgium<br>GDP per Indicator=%{x}<br>Life satisfaction=%{y}<extra></extra>",
         "hovertext": [
          "Belgium"
         ],
         "legendgroup": "Belgium",
         "marker": {
          "color": "#636efa",
          "symbol": "circle"
         },
         "mode": "markers",
         "name": "Belgium",
         "orientation": "v",
         "showlegend": true,
         "type": "scatter",
         "x": [
          40106.632
         ],
         "xaxis": "x",
         "y": [
          6.9
         ],
         "yaxis": "y"
        },
        {
         "hovertemplate": "<b>%{hovertext}</b><br><br>Country=Brazil<br>GDP per Indicator=%{x}<br>Life satisfaction=%{y}<extra></extra>",
         "hovertext": [
          "Brazil"
         ],
         "legendgroup": "Brazil",
         "marker": {
          "color": "#EF553B",
          "symbol": "circle"
         },
         "mode": "markers",
         "name": "Brazil",
         "orientation": "v",
         "showlegend": true,
         "type": "scatter",
         "x": [
          8669.998
         ],
         "xaxis": "x",
         "y": [
          7
         ],
         "yaxis": "y"
        },
        {
         "hovertemplate": "<b>%{hovertext}</b><br><br>Country=Canada<br>GDP per Indicator=%{x}<br>Life satisfaction=%{y}<extra></extra>",
         "hovertext": [
          "Canada"
         ],
         "legendgroup": "Canada",
         "marker": {
          "color": "#00cc96",
          "symbol": "circle"
         },
         "mode": "markers",
         "name": "Canada",
         "orientation": "v",
         "showlegend": true,
         "type": "scatter",
         "x": [
          43331.961
         ],
         "xaxis": "x",
         "y": [
          7.3
         ],
         "yaxis": "y"
        },
        {
         "hovertemplate": "<b>%{hovertext}</b><br><br>Country=Chile<br>GDP per Indicator=%{x}<br>Life satisfaction=%{y}<extra></extra>",
         "hovertext": [
          "Chile"
         ],
         "legendgroup": "Chile",
         "marker": {
          "color": "#ab63fa",
          "symbol": "circle"
         },
         "mode": "markers",
         "name": "Chile",
         "orientation": "v",
         "showlegend": true,
         "type": "scatter",
         "x": [
          13340.905
         ],
         "xaxis": "x",
         "y": [
          6.7
         ],
         "yaxis": "y"
        },
        {
         "hovertemplate": "<b>%{hovertext}</b><br><br>Country=Denmark<br>GDP per Indicator=%{x}<br>Life satisfaction=%{y}<extra></extra>",
         "hovertext": [
          "Denmark"
         ],
         "legendgroup": "Denmark",
         "marker": {
          "color": "#FFA15A",
          "symbol": "circle"
         },
         "mode": "markers",
         "name": "Denmark",
         "orientation": "v",
         "showlegend": true,
         "type": "scatter",
         "x": [
          52114.165
         ],
         "xaxis": "x",
         "y": [
          7.5
         ],
         "yaxis": "y"
        },
        {
         "hovertemplate": "<b>%{hovertext}</b><br><br>Country=Finland<br>GDP per Indicator=%{x}<br>Life satisfaction=%{y}<extra></extra>",
         "hovertext": [
          "Finland"
         ],
         "legendgroup": "Finland",
         "marker": {
          "color": "#19d3f3",
          "symbol": "circle"
         },
         "mode": "markers",
         "name": "Finland",
         "orientation": "v",
         "showlegend": true,
         "type": "scatter",
         "x": [
          41973.988
         ],
         "xaxis": "x",
         "y": [
          7.4
         ],
         "yaxis": "y"
        },
        {
         "hovertemplate": "<b>%{hovertext}</b><br><br>Country=France<br>GDP per Indicator=%{x}<br>Life satisfaction=%{y}<extra></extra>",
         "hovertext": [
          "France"
         ],
         "legendgroup": "France",
         "marker": {
          "color": "#FF6692",
          "symbol": "circle"
         },
         "mode": "markers",
         "name": "France",
         "orientation": "v",
         "showlegend": true,
         "type": "scatter",
         "x": [
          37675.006
         ],
         "xaxis": "x",
         "y": [
          6.5
         ],
         "yaxis": "y"
        },
        {
         "hovertemplate": "<b>%{hovertext}</b><br><br>Country=Germany<br>GDP per Indicator=%{x}<br>Life satisfaction=%{y}<extra></extra>",
         "hovertext": [
          "Germany"
         ],
         "legendgroup": "Germany",
         "marker": {
          "color": "#B6E880",
          "symbol": "circle"
         },
         "mode": "markers",
         "name": "Germany",
         "orientation": "v",
         "showlegend": true,
         "type": "scatter",
         "x": [
          40996.511
         ],
         "xaxis": "x",
         "y": [
          7
         ],
         "yaxis": "y"
        },
        {
         "hovertemplate": "<b>%{hovertext}</b><br><br>Country=Greece<br>GDP per Indicator=%{x}<br>Life satisfaction=%{y}<extra></extra>",
         "hovertext": [
          "Greece"
         ],
         "legendgroup": "Greece",
         "marker": {
          "color": "#FF97FF",
          "symbol": "circle"
         },
         "mode": "markers",
         "name": "Greece",
         "orientation": "v",
         "showlegend": true,
         "type": "scatter",
         "x": [
          18064.288
         ],
         "xaxis": "x",
         "y": [
          4.8
         ],
         "yaxis": "y"
        },
        {
         "hovertemplate": "<b>%{hovertext}</b><br><br>Country=Hungary<br>GDP per Indicator=%{x}<br>Life satisfaction=%{y}<extra></extra>",
         "hovertext": [
          "Hungary"
         ],
         "legendgroup": "Hungary",
         "marker": {
          "color": "#FECB52",
          "symbol": "circle"
         },
         "mode": "markers",
         "name": "Hungary",
         "orientation": "v",
         "showlegend": true,
         "type": "scatter",
         "x": [
          12239.894
         ],
         "xaxis": "x",
         "y": [
          4.9
         ],
         "yaxis": "y"
        },
        {
         "hovertemplate": "<b>%{hovertext}</b><br><br>Country=Iceland<br>GDP per Indicator=%{x}<br>Life satisfaction=%{y}<extra></extra>",
         "hovertext": [
          "Iceland"
         ],
         "legendgroup": "Iceland",
         "marker": {
          "color": "#636efa",
          "symbol": "circle"
         },
         "mode": "markers",
         "name": "Iceland",
         "orientation": "v",
         "showlegend": true,
         "type": "scatter",
         "x": [
          50854.583
         ],
         "xaxis": "x",
         "y": [
          7.5
         ],
         "yaxis": "y"
        },
        {
         "hovertemplate": "<b>%{hovertext}</b><br><br>Country=Ireland<br>GDP per Indicator=%{x}<br>Life satisfaction=%{y}<extra></extra>",
         "hovertext": [
          "Ireland"
         ],
         "legendgroup": "Ireland",
         "marker": {
          "color": "#EF553B",
          "symbol": "circle"
         },
         "mode": "markers",
         "name": "Ireland",
         "orientation": "v",
         "showlegend": true,
         "type": "scatter",
         "visible": "legendonly",
         "x": [
          51350.744
         ],
         "xaxis": "x",
         "y": [
          7
         ],
         "yaxis": "y"
        },
        {
         "hovertemplate": "<b>%{hovertext}</b><br><br>Country=Israel<br>GDP per Indicator=%{x}<br>Life satisfaction=%{y}<extra></extra>",
         "hovertext": [
          "Israel"
         ],
         "legendgroup": "Israel",
         "marker": {
          "color": "#00cc96",
          "symbol": "circle"
         },
         "mode": "markers",
         "name": "Israel",
         "orientation": "v",
         "showlegend": true,
         "type": "scatter",
         "x": [
          35343.336
         ],
         "xaxis": "x",
         "y": [
          7.4
         ],
         "yaxis": "y"
        },
        {
         "hovertemplate": "<b>%{hovertext}</b><br><br>Country=Italy<br>GDP per Indicator=%{x}<br>Life satisfaction=%{y}<extra></extra>",
         "hovertext": [
          "Italy"
         ],
         "legendgroup": "Italy",
         "marker": {
          "color": "#ab63fa",
          "symbol": "circle"
         },
         "mode": "markers",
         "name": "Italy",
         "orientation": "v",
         "showlegend": true,
         "type": "scatter",
         "x": [
          29866.581
         ],
         "xaxis": "x",
         "y": [
          6
         ],
         "yaxis": "y"
        },
        {
         "hovertemplate": "<b>%{hovertext}</b><br><br>Country=Japan<br>GDP per Indicator=%{x}<br>Life satisfaction=%{y}<extra></extra>",
         "hovertext": [
          "Japan"
         ],
         "legendgroup": "Japan",
         "marker": {
          "color": "#FFA15A",
          "symbol": "circle"
         },
         "mode": "markers",
         "name": "Japan",
         "orientation": "v",
         "showlegend": true,
         "type": "scatter",
         "visible": "legendonly",
         "x": [
          32485.545
         ],
         "xaxis": "x",
         "y": [
          5.9
         ],
         "yaxis": "y"
        },
        {
         "hovertemplate": "<b>%{hovertext}</b><br><br>Country=Korea<br>GDP per Indicator=%{x}<br>Life satisfaction=%{y}<extra></extra>",
         "hovertext": [
          "Korea"
         ],
         "legendgroup": "Korea",
         "marker": {
          "color": "#19d3f3",
          "symbol": "circle"
         },
         "mode": "markers",
         "name": "Korea",
         "orientation": "v",
         "showlegend": true,
         "type": "scatter",
         "x": [
          27195.197
         ],
         "xaxis": "x",
         "y": [
          5.8
         ],
         "yaxis": "y"
        },
        {
         "hovertemplate": "<b>%{hovertext}</b><br><br>Country=Luxembourg<br>GDP per Indicator=%{x}<br>Life satisfaction=%{y}<extra></extra>",
         "hovertext": [
          "Luxembourg"
         ],
         "legendgroup": "Luxembourg",
         "marker": {
          "color": "#FF6692",
          "symbol": "circle"
         },
         "mode": "markers",
         "name": "Luxembourg",
         "orientation": "v",
         "showlegend": true,
         "type": "scatter",
         "x": [
          101994.093
         ],
         "xaxis": "x",
         "y": [
          6.9
         ],
         "yaxis": "y"
        },
        {
         "hovertemplate": "<b>%{hovertext}</b><br><br>Country=Mexico<br>GDP per Indicator=%{x}<br>Life satisfaction=%{y}<extra></extra>",
         "hovertext": [
          "Mexico"
         ],
         "legendgroup": "Mexico",
         "marker": {
          "color": "#B6E880",
          "symbol": "circle"
         },
         "mode": "markers",
         "name": "Mexico",
         "orientation": "v",
         "showlegend": true,
         "type": "scatter",
         "x": [
          9009.28
         ],
         "xaxis": "x",
         "y": [
          6.7
         ],
         "yaxis": "y"
        },
        {
         "hovertemplate": "<b>%{hovertext}</b><br><br>Country=Netherlands<br>GDP per Indicator=%{x}<br>Life satisfaction=%{y}<extra></extra>",
         "hovertext": [
          "Netherlands"
         ],
         "legendgroup": "Netherlands",
         "marker": {
          "color": "#FF97FF",
          "symbol": "circle"
         },
         "mode": "markers",
         "name": "Netherlands",
         "orientation": "v",
         "showlegend": true,
         "type": "scatter",
         "x": [
          43603.115
         ],
         "xaxis": "x",
         "y": [
          7.3
         ],
         "yaxis": "y"
        },
        {
         "hovertemplate": "<b>%{hovertext}</b><br><br>Country=New Zealand<br>GDP per Indicator=%{x}<br>Life satisfaction=%{y}<extra></extra>",
         "hovertext": [
          "New Zealand"
         ],
         "legendgroup": "New Zealand",
         "marker": {
          "color": "#FECB52",
          "symbol": "circle"
         },
         "mode": "markers",
         "name": "New Zealand",
         "orientation": "v",
         "showlegend": true,
         "type": "scatter",
         "x": [
          37044.891
         ],
         "xaxis": "x",
         "y": [
          7.3
         ],
         "yaxis": "y"
        },
        {
         "hovertemplate": "<b>%{hovertext}</b><br><br>Country=Norway<br>GDP per Indicator=%{x}<br>Life satisfaction=%{y}<extra></extra>",
         "hovertext": [
          "Norway"
         ],
         "legendgroup": "Norway",
         "marker": {
          "color": "#636efa",
          "symbol": "circle"
         },
         "mode": "markers",
         "name": "Norway",
         "orientation": "v",
         "showlegend": true,
         "type": "scatter",
         "x": [
          74822.106
         ],
         "xaxis": "x",
         "y": [
          7.4
         ],
         "yaxis": "y"
        },
        {
         "hovertemplate": "<b>%{hovertext}</b><br><br>Country=Poland<br>GDP per Indicator=%{x}<br>Life satisfaction=%{y}<extra></extra>",
         "hovertext": [
          "Poland"
         ],
         "legendgroup": "Poland",
         "marker": {
          "color": "#EF553B",
          "symbol": "circle"
         },
         "mode": "markers",
         "name": "Poland",
         "orientation": "v",
         "showlegend": true,
         "type": "scatter",
         "x": [
          12495.334
         ],
         "xaxis": "x",
         "y": [
          5.8
         ],
         "yaxis": "y"
        },
        {
         "hovertemplate": "<b>%{hovertext}</b><br><br>Country=Portugal<br>GDP per Indicator=%{x}<br>Life satisfaction=%{y}<extra></extra>",
         "hovertext": [
          "Portugal"
         ],
         "legendgroup": "Portugal",
         "marker": {
          "color": "#00cc96",
          "symbol": "circle"
         },
         "mode": "markers",
         "name": "Portugal",
         "orientation": "v",
         "showlegend": true,
         "type": "scatter",
         "x": [
          19121.592
         ],
         "xaxis": "x",
         "y": [
          5.1
         ],
         "yaxis": "y"
        },
        {
         "hovertemplate": "<b>%{hovertext}</b><br><br>Country=Russia<br>GDP per Indicator=%{x}<br>Life satisfaction=%{y}<extra></extra>",
         "hovertext": [
          "Russia"
         ],
         "legendgroup": "Russia",
         "marker": {
          "color": "#ab63fa",
          "symbol": "circle"
         },
         "mode": "markers",
         "name": "Russia",
         "orientation": "v",
         "showlegend": true,
         "type": "scatter",
         "x": [
          9054.914
         ],
         "xaxis": "x",
         "y": [
          6
         ],
         "yaxis": "y"
        },
        {
         "hovertemplate": "<b>%{hovertext}</b><br><br>Country=Slovak Republic<br>GDP per Indicator=%{x}<br>Life satisfaction=%{y}<extra></extra>",
         "hovertext": [
          "Slovak Republic"
         ],
         "legendgroup": "Slovak Republic",
         "marker": {
          "color": "#FFA15A",
          "symbol": "circle"
         },
         "mode": "markers",
         "name": "Slovak Republic",
         "orientation": "v",
         "showlegend": true,
         "type": "scatter",
         "x": [
          15991.736
         ],
         "xaxis": "x",
         "y": [
          6.1
         ],
         "yaxis": "y"
        },
        {
         "hovertemplate": "<b>%{hovertext}</b><br><br>Country=Slovenia<br>GDP per Indicator=%{x}<br>Life satisfaction=%{y}<extra></extra>",
         "hovertext": [
          "Slovenia"
         ],
         "legendgroup": "Slovenia",
         "marker": {
          "color": "#19d3f3",
          "symbol": "circle"
         },
         "mode": "markers",
         "name": "Slovenia",
         "orientation": "v",
         "showlegend": true,
         "type": "scatter",
         "x": [
          20732.482
         ],
         "xaxis": "x",
         "y": [
          5.7
         ],
         "yaxis": "y"
        },
        {
         "hovertemplate": "<b>%{hovertext}</b><br><br>Country=Spain<br>GDP per Indicator=%{x}<br>Life satisfaction=%{y}<extra></extra>",
         "hovertext": [
          "Spain"
         ],
         "legendgroup": "Spain",
         "marker": {
          "color": "#FF6692",
          "symbol": "circle"
         },
         "mode": "markers",
         "name": "Spain",
         "orientation": "v",
         "showlegend": true,
         "type": "scatter",
         "x": [
          25864.721
         ],
         "xaxis": "x",
         "y": [
          6.5
         ],
         "yaxis": "y"
        },
        {
         "hovertemplate": "<b>%{hovertext}</b><br><br>Country=Sweden<br>GDP per Indicator=%{x}<br>Life satisfaction=%{y}<extra></extra>",
         "hovertext": [
          "Sweden"
         ],
         "legendgroup": "Sweden",
         "marker": {
          "color": "#B6E880",
          "symbol": "circle"
         },
         "mode": "markers",
         "name": "Sweden",
         "orientation": "v",
         "showlegend": true,
         "type": "scatter",
         "x": [
          49866.266
         ],
         "xaxis": "x",
         "y": [
          7.2
         ],
         "yaxis": "y"
        },
        {
         "hovertemplate": "<b>%{hovertext}</b><br><br>Country=Switzerland<br>GDP per Indicator=%{x}<br>Life satisfaction=%{y}<extra></extra>",
         "hovertext": [
          "Switzerland"
         ],
         "legendgroup": "Switzerland",
         "marker": {
          "color": "#FF97FF",
          "symbol": "circle"
         },
         "mode": "markers",
         "name": "Switzerland",
         "orientation": "v",
         "showlegend": true,
         "type": "scatter",
         "x": [
          80675.308
         ],
         "xaxis": "x",
         "y": [
          7.5
         ],
         "yaxis": "y"
        },
        {
         "hovertemplate": "x=%{x}<br>y=%{y}<extra></extra>",
         "legendgroup": "",
         "line": {
          "color": "#636efa",
          "dash": "solid"
         },
         "mode": "lines",
         "name": "",
         "orientation": "v",
         "showlegend": false,
         "type": "scatter",
         "x": [
          0,
          100.10010010010011,
          200.20020020020021,
          300.3003003003003,
          400.40040040040043,
          500.50050050050055,
          600.6006006006006,
          700.7007007007007,
          800.8008008008009,
          900.900900900901,
          1001.0010010010011,
          1101.1011011011012,
          1201.2012012012012,
          1301.3013013013015,
          1401.4014014014015,
          1501.5015015015017,
          1601.6016016016017,
          1701.7017017017017,
          1801.801801801802,
          1901.901901901902,
          2002.0020020020022,
          2102.1021021021024,
          2202.2022022022024,
          2302.3023023023025,
          2402.4024024024025,
          2502.5025025025025,
          2602.602602602603,
          2702.702702702703,
          2802.802802802803,
          2902.902902902903,
          3003.0030030030034,
          3103.1031031031034,
          3203.2032032032034,
          3303.3033033033034,
          3403.4034034034034,
          3503.503503503504,
          3603.603603603604,
          3703.703703703704,
          3803.803803803804,
          3903.9039039039044,
          4004.0040040040044,
          4104.104104104104,
          4204.204204204205,
          4304.304304304304,
          4404.404404404405,
          4504.504504504504,
          4604.604604604605,
          4704.704704704705,
          4804.804804804805,
          4904.904904904905,
          5005.005005005005,
          5105.105105105105,
          5205.205205205206,
          5305.305305305305,
          5405.405405405406,
          5505.505505505506,
          5605.605605605606,
          5705.705705705706,
          5805.805805805806,
          5905.905905905906,
          6006.006006006007,
          6106.106106106106,
          6206.206206206207,
          6306.306306306306,
          6406.406406406407,
          6506.506506506507,
          6606.606606606607,
          6706.706706706707,
          6806.806806806807,
          6906.906906906907,
          7007.007007007008,
          7107.107107107107,
          7207.207207207208,
          7307.307307307307,
          7407.407407407408,
          7507.507507507508,
          7607.607607607608,
          7707.707707707708,
          7807.807807807809,
          7907.907907907908,
          8008.008008008009,
          8108.108108108108,
          8208.208208208209,
          8308.30830830831,
          8408.40840840841,
          8508.508508508508,
          8608.608608608609,
          8708.70870870871,
          8808.80880880881,
          8908.90890890891,
          9009.009009009009,
          9109.10910910911,
          9209.20920920921,
          9309.30930930931,
          9409.40940940941,
          9509.50950950951,
          9609.60960960961,
          9709.70970970971,
          9809.80980980981,
          9909.909909909911,
          10010.01001001001,
          10110.11011011011,
          10210.21021021021,
          10310.310310310311,
          10410.410410410412,
          10510.51051051051,
          10610.61061061061,
          10710.710710710711,
          10810.810810810812,
          10910.910910910912,
          11011.011011011013,
          11111.111111111111,
          11211.211211211212,
          11311.311311311312,
          11411.411411411413,
          11511.511511511513,
          11611.611611611612,
          11711.711711711712,
          11811.811811811813,
          11911.911911911913,
          12012.012012012014,
          12112.112112112112,
          12212.212212212213,
          12312.312312312313,
          12412.412412412414,
          12512.512512512514,
          12612.612612612613,
          12712.712712712713,
          12812.812812812814,
          12912.912912912914,
          13013.013013013015,
          13113.113113113113,
          13213.213213213214,
          13313.313313313314,
          13413.413413413415,
          13513.513513513515,
          13613.613613613614,
          13713.713713713714,
          13813.813813813815,
          13913.913913913915,
          14014.014014014016,
          14114.114114114114,
          14214.214214214215,
          14314.314314314315,
          14414.414414414416,
          14514.514514514516,
          14614.614614614615,
          14714.714714714715,
          14814.814814814816,
          14914.914914914916,
          15015.015015015017,
          15115.115115115117,
          15215.215215215216,
          15315.315315315316,
          15415.415415415417,
          15515.515515515517,
          15615.615615615618,
          15715.715715715716,
          15815.815815815817,
          15915.915915915917,
          16016.016016016018,
          16116.116116116118,
          16216.216216216217,
          16316.316316316317,
          16416.416416416418,
          16516.516516516516,
          16616.61661661662,
          16716.716716716717,
          16816.81681681682,
          16916.916916916918,
          17017.017017017017,
          17117.11711711712,
          17217.217217217218,
          17317.31731731732,
          17417.41741741742,
          17517.517517517517,
          17617.61761761762,
          17717.71771771772,
          17817.81781781782,
          17917.91791791792,
          18018.018018018018,
          18118.11811811812,
          18218.21821821822,
          18318.31831831832,
          18418.41841841842,
          18518.51851851852,
          18618.61861861862,
          18718.71871871872,
          18818.81881881882,
          18918.91891891892,
          19019.01901901902,
          19119.11911911912,
          19219.21921921922,
          19319.319319319322,
          19419.41941941942,
          19519.51951951952,
          19619.61961961962,
          19719.71971971972,
          19819.819819819822,
          19919.91991991992,
          20020.02002002002,
          20120.120120120122,
          20220.22022022022,
          20320.320320320323,
          20420.42042042042,
          20520.52052052052,
          20620.620620620623,
          20720.72072072072,
          20820.820820820823,
          20920.920920920922,
          21021.02102102102,
          21121.121121121123,
          21221.22122122122,
          21321.321321321324,
          21421.421421421423,
          21521.521521521525,
          21621.621621621623,
          21721.721721721722,
          21821.821821821824,
          21921.921921921923,
          22022.022022022025,
          22122.122122122124,
          22222.222222222223,
          22322.322322322325,
          22422.422422422424,
          22522.522522522526,
          22622.622622622624,
          22722.722722722723,
          22822.822822822825,
          22922.922922922924,
          23023.023023023026,
          23123.123123123125,
          23223.223223223224,
          23323.323323323326,
          23423.423423423425,
          23523.523523523527,
          23623.623623623625,
          23723.723723723724,
          23823.823823823826,
          23923.923923923925,
          24024.024024024027,
          24124.124124124126,
          24224.224224224225,
          24324.324324324327,
          24424.424424424426,
          24524.524524524528,
          24624.624624624626,
          24724.724724724725,
          24824.824824824827,
          24924.924924924926,
          25025.02502502503,
          25125.125125125127,
          25225.225225225226,
          25325.325325325328,
          25425.425425425427,
          25525.52552552553,
          25625.625625625627,
          25725.725725725726,
          25825.82582582583,
          25925.925925925927,
          26026.02602602603,
          26126.126126126128,
          26226.226226226227,
          26326.32632632633,
          26426.426426426427,
          26526.52652652653,
          26626.62662662663,
          26726.726726726727,
          26826.82682682683,
          26926.926926926928,
          27027.02702702703,
          27127.12712712713,
          27227.227227227228,
          27327.32732732733,
          27427.42742742743,
          27527.52752752753,
          27627.62762762763,
          27727.727727727728,
          27827.82782782783,
          27927.92792792793,
          28028.02802802803,
          28128.12812812813,
          28228.22822822823,
          28328.32832832833,
          28428.42842842843,
          28528.52852852853,
          28628.62862862863,
          28728.72872872873,
          28828.82882882883,
          28928.92892892893,
          29029.029029029032,
          29129.12912912913,
          29229.22922922923,
          29329.32932932933,
          29429.42942942943,
          29529.529529529533,
          29629.62962962963,
          29729.72972972973,
          29829.829829829832,
          29929.92992992993,
          30030.030030030033,
          30130.130130130132,
          30230.230230230234,
          30330.330330330333,
          30430.43043043043,
          30530.530530530534,
          30630.630630630632,
          30730.730730730735,
          30830.830830830833,
          30930.930930930932,
          31031.031031031034,
          31131.131131131133,
          31231.231231231235,
          31331.331331331334,
          31431.431431431432,
          31531.531531531535,
          31631.631631631633,
          31731.731731731736,
          31831.831831831834,
          31931.931931931933,
          32032.032032032035,
          32132.132132132134,
          32232.232232232236,
          32332.332332332335,
          32432.432432432433,
          32532.532532532536,
          32632.632632632634,
          32732.732732732737,
          32832.832832832835,
          32932.932932932934,
          33033.03303303303,
          33133.13313313314,
          33233.23323323324,
          33333.333333333336,
          33433.433433433434,
          33533.53353353353,
          33633.63363363364,
          33733.73373373374,
          33833.833833833836,
          33933.933933933935,
          34034.03403403403,
          34134.13413413414,
          34234.23423423424,
          34334.33433433434,
          34434.434434434435,
          34534.534534534534,
          34634.63463463464,
          34734.73473473474,
          34834.83483483484,
          34934.934934934936,
          35035.035035035035,
          35135.13513513514,
          35235.23523523524,
          35335.33533533534,
          35435.43543543544,
          35535.535535535535,
          35635.63563563564,
          35735.73573573574,
          35835.83583583584,
          35935.93593593594,
          36036.036036036036,
          36136.13613613614,
          36236.23623623624,
          36336.33633633634,
          36436.43643643644,
          36536.536536536536,
          36636.63663663664,
          36736.73673673674,
          36836.83683683684,
          36936.93693693694,
          37037.03703703704,
          37137.13713713714,
          37237.23723723724,
          37337.33733733734,
          37437.43743743744,
          37537.53753753754,
          37637.63763763764,
          37737.73773773774,
          37837.83783783784,
          37937.93793793794,
          38038.03803803804,
          38138.13813813814,
          38238.23823823824,
          38338.33833833834,
          38438.43843843844,
          38538.53853853854,
          38638.638638638644,
          38738.73873873874,
          38838.83883883884,
          38938.93893893894,
          39039.03903903904,
          39139.139139139144,
          39239.23923923924,
          39339.33933933934,
          39439.43943943944,
          39539.53953953954,
          39639.639639639645,
          39739.73973973974,
          39839.83983983984,
          39939.93993993994,
          40040.04004004004,
          40140.140140140145,
          40240.240240240244,
          40340.34034034034,
          40440.44044044044,
          40540.54054054054,
          40640.640640640646,
          40740.740740740745,
          40840.84084084084,
          40940.94094094094,
          41041.04104104104,
          41141.14114114115,
          41241.241241241245,
          41341.341341341344,
          41441.44144144144,
          41541.54154154154,
          41641.64164164165,
          41741.741741741745,
          41841.841841841844,
          41941.94194194194,
          42042.04204204204,
          42142.14214214215,
          42242.242242242246,
          42342.342342342345,
          42442.44244244244,
          42542.54254254254,
          42642.64264264265,
          42742.74274274275,
          42842.842842842845,
          42942.942942942944,
          43043.04304304305,
          43143.14314314315,
          43243.24324324325,
          43343.343343343346,
          43443.443443443444,
          43543.54354354355,
          43643.64364364365,
          43743.74374374375,
          43843.843843843846,
          43943.943943943945,
          44044.04404404405,
          44144.14414414415,
          44244.24424424425,
          44344.34434434435,
          44444.444444444445,
          44544.54454454455,
          44644.64464464465,
          44744.74474474475,
          44844.84484484485,
          44944.944944944946,
          45045.04504504505,
          45145.14514514515,
          45245.24524524525,
          45345.34534534535,
          45445.445445445446,
          45545.54554554555,
          45645.64564564565,
          45745.74574574575,
          45845.84584584585,
          45945.94594594595,
          46046.04604604605,
          46146.14614614615,
          46246.24624624625,
          46346.34634634635,
          46446.44644644645,
          46546.54654654655,
          46646.64664664665,
          46746.74674674675,
          46846.84684684685,
          46946.94694694695,
          47047.047047047054,
          47147.14714714715,
          47247.24724724725,
          47347.34734734735,
          47447.44744744745,
          47547.547547547554,
          47647.64764764765,
          47747.74774774775,
          47847.84784784785,
          47947.94794794795,
          48048.048048048055,
          48148.14814814815,
          48248.24824824825,
          48348.34834834835,
          48448.44844844845,
          48548.548548548555,
          48648.648648648654,
          48748.74874874875,
          48848.84884884885,
          48948.94894894895,
          49049.049049049056,
          49149.149149149154,
          49249.24924924925,
          49349.34934934935,
          49449.44944944945,
          49549.549549549556,
          49649.649649649655,
          49749.74974974975,
          49849.84984984985,
          49949.94994994995,
          50050.05005005006,
          50150.150150150155,
          50250.250250250254,
          50350.35035035035,
          50450.45045045045,
          50550.55055055056,
          50650.650650650656,
          50750.750750750754,
          50850.85085085085,
          50950.95095095095,
          51051.05105105106,
          51151.151151151156,
          51251.251251251255,
          51351.35135135135,
          51451.45145145145,
          51551.55155155156,
          51651.65165165166,
          51751.751751751755,
          51851.851851851854,
          51951.95195195195,
          52052.05205205206,
          52152.15215215216,
          52252.252252252256,
          52352.352352352355,
          52452.45245245245,
          52552.55255255256,
          52652.65265265266,
          52752.752752752756,
          52852.852852852855,
          52952.95295295295,
          53053.05305305306,
          53153.15315315316,
          53253.25325325326,
          53353.353353353355,
          53453.453453453454,
          53553.55355355356,
          53653.65365365366,
          53753.75375375376,
          53853.853853853856,
          53953.953953953955,
          54054.05405405406,
          54154.15415415416,
          54254.25425425426,
          54354.35435435436,
          54454.454454454455,
          54554.55455455456,
          54654.65465465466,
          54754.75475475476,
          54854.85485485486,
          54954.954954954956,
          55055.05505505506,
          55155.15515515516,
          55255.25525525526,
          55355.35535535536,
          55455.455455455456,
          55555.55555555556,
          55655.65565565566,
          55755.75575575576,
          55855.85585585586,
          55955.95595595596,
          56056.05605605606,
          56156.15615615616,
          56256.25625625626,
          56356.35635635636,
          56456.45645645646,
          56556.55655655656,
          56656.65665665666,
          56756.75675675676,
          56856.85685685686,
          56956.95695695696,
          57057.05705705706,
          57157.15715715716,
          57257.25725725726,
          57357.35735735736,
          57457.45745745746,
          57557.557557557564,
          57657.65765765766,
          57757.75775775776,
          57857.85785785786,
          57957.95795795796,
          58058.058058058064,
          58158.15815815816,
          58258.25825825826,
          58358.35835835836,
          58458.45845845846,
          58558.558558558565,
          58658.65865865866,
          58758.75875875876,
          58858.85885885886,
          58958.95895895896,
          59059.059059059065,
          59159.159159159164,
          59259.25925925926,
          59359.35935935936,
          59459.45945945946,
          59559.559559559566,
          59659.659659659665,
          59759.75975975976,
          59859.85985985986,
          59959.95995995997,
          60060.06006006007,
          60160.160160160165,
          60260.260260260264,
          60360.36036036036,
          60460.46046046047,
          60560.56056056057,
          60660.660660660666,
          60760.760760760764,
          60860.86086086086,
          60960.96096096097,
          61061.06106106107,
          61161.161161161166,
          61261.261261261265,
          61361.36136136136,
          61461.46146146147,
          61561.56156156157,
          61661.66166166167,
          61761.761761761765,
          61861.861861861864,
          61961.96196196197,
          62062.06206206207,
          62162.16216216217,
          62262.262262262266,
          62362.362362362364,
          62462.46246246247,
          62562.56256256257,
          62662.66266266267,
          62762.762762762766,
          62862.862862862865,
          62962.96296296297,
          63063.06306306307,
          63163.16316316317,
          63263.26326326327,
          63363.363363363365,
          63463.46346346347,
          63563.56356356357,
          63663.66366366367,
          63763.76376376377,
          63863.863863863866,
          63963.96396396397,
          64064.06406406407,
          64164.16416416417,
          64264.26426426427,
          64364.364364364366,
          64464.46446446447,
          64564.56456456457,
          64664.66466466467,
          64764.76476476477,
          64864.86486486487,
          64964.96496496497,
          65065.06506506507,
          65165.16516516517,
          65265.26526526527,
          65365.36536536537,
          65465.46546546547,
          65565.56556556557,
          65665.66566566567,
          65765.76576576577,
          65865.86586586587,
          65965.96596596597,
          66066.06606606607,
          66166.16616616616,
          66266.26626626628,
          66366.36636636638,
          66466.46646646647,
          66566.56656656657,
          66666.66666666667,
          66766.76676676677,
          66866.86686686687,
          66966.96696696697,
          67067.06706706707,
          67167.16716716716,
          67267.26726726728,
          67367.36736736738,
          67467.46746746748,
          67567.56756756757,
          67667.66766766767,
          67767.76776776777,
          67867.86786786787,
          67967.96796796797,
          68068.06806806807,
          68168.16816816817,
          68268.26826826828,
          68368.36836836838,
          68468.46846846848,
          68568.56856856857,
          68668.66866866867,
          68768.76876876877,
          68868.86886886887,
          68968.96896896897,
          69069.06906906907,
          69169.16916916918,
          69269.26926926928,
          69369.36936936938,
          69469.46946946948,
          69569.56956956958,
          69669.66966966967,
          69769.76976976977,
          69869.86986986987,
          69969.96996996997,
          70070.07007007007,
          70170.17017017018,
          70270.27027027028,
          70370.37037037038,
          70470.47047047048,
          70570.57057057058,
          70670.67067067068,
          70770.77077077077,
          70870.87087087087,
          70970.97097097097,
          71071.07107107107,
          71171.17117117118,
          71271.27127127128,
          71371.37137137138,
          71471.47147147148,
          71571.57157157158,
          71671.67167167168,
          71771.77177177178,
          71871.87187187187,
          71971.97197197197,
          72072.07207207207,
          72172.17217217218,
          72272.27227227228,
          72372.37237237238,
          72472.47247247248,
          72572.57257257258,
          72672.67267267268,
          72772.77277277278,
          72872.87287287287,
          72972.97297297297,
          73073.07307307307,
          73173.17317317319,
          73273.27327327328,
          73373.37337337338,
          73473.47347347348,
          73573.57357357358,
          73673.67367367368,
          73773.77377377378,
          73873.87387387388,
          73973.97397397397,
          74074.07407407407,
          74174.17417417419,
          74274.27427427428,
          74374.37437437438,
          74474.47447447448,
          74574.57457457458,
          74674.67467467468,
          74774.77477477478,
          74874.87487487488,
          74974.97497497498,
          75075.07507507507,
          75175.17517517519,
          75275.27527527529,
          75375.37537537538,
          75475.47547547548,
          75575.57557557558,
          75675.67567567568,
          75775.77577577578,
          75875.87587587588,
          75975.97597597598,
          76076.07607607607,
          76176.17617617619,
          76276.27627627629,
          76376.37637637639,
          76476.47647647648,
          76576.57657657658,
          76676.67667667668,
          76776.77677677678,
          76876.87687687688,
          76976.97697697698,
          77077.07707707708,
          77177.17717717719,
          77277.27727727729,
          77377.37737737739,
          77477.47747747749,
          77577.57757757758,
          77677.67767767768,
          77777.77777777778,
          77877.87787787788,
          77977.97797797798,
          78078.07807807808,
          78178.17817817819,
          78278.27827827829,
          78378.37837837839,
          78478.47847847849,
          78578.57857857858,
          78678.67867867868,
          78778.77877877878,
          78878.87887887888,
          78978.97897897898,
          79079.07907907908,
          79179.17917917919,
          79279.27927927929,
          79379.37937937939,
          79479.47947947949,
          79579.57957957959,
          79679.67967967968,
          79779.77977977978,
          79879.87987987988,
          79979.97997997998,
          80080.08008008008,
          80180.18018018019,
          80280.28028028029,
          80380.38038038039,
          80480.48048048049,
          80580.58058058059,
          80680.68068068069,
          80780.78078078078,
          80880.88088088088,
          80980.98098098098,
          81081.08108108108,
          81181.1811811812,
          81281.28128128129,
          81381.38138138139,
          81481.48148148149,
          81581.58158158159,
          81681.68168168169,
          81781.78178178178,
          81881.88188188188,
          81981.98198198198,
          82082.08208208208,
          82182.1821821822,
          82282.2822822823,
          82382.38238238239,
          82482.48248248249,
          82582.58258258259,
          82682.68268268269,
          82782.78278278279,
          82882.88288288288,
          82982.98298298298,
          83083.08308308308,
          83183.1831831832,
          83283.2832832833,
          83383.38338338339,
          83483.48348348349,
          83583.58358358359,
          83683.68368368369,
          83783.78378378379,
          83883.88388388389,
          83983.98398398398,
          84084.08408408408,
          84184.1841841842,
          84284.2842842843,
          84384.3843843844,
          84484.48448448449,
          84584.58458458459,
          84684.68468468469,
          84784.78478478479,
          84884.88488488489,
          84984.98498498499,
          85085.08508508508,
          85185.1851851852,
          85285.2852852853,
          85385.3853853854,
          85485.4854854855,
          85585.58558558559,
          85685.68568568569,
          85785.78578578579,
          85885.88588588589,
          85985.98598598599,
          86086.0860860861,
          86186.1861861862,
          86286.2862862863,
          86386.3863863864,
          86486.4864864865,
          86586.58658658659,
          86686.68668668669,
          86786.78678678679,
          86886.88688688689,
          86986.98698698699,
          87087.0870870871,
          87187.1871871872,
          87287.2872872873,
          87387.3873873874,
          87487.4874874875,
          87587.5875875876,
          87687.68768768769,
          87787.78778778779,
          87887.88788788789,
          87987.98798798799,
          88088.0880880881,
          88188.1881881882,
          88288.2882882883,
          88388.3883883884,
          88488.4884884885,
          88588.5885885886,
          88688.6886886887,
          88788.78878878879,
          88888.88888888889,
          88988.98898898899,
          89089.0890890891,
          89189.1891891892,
          89289.2892892893,
          89389.3893893894,
          89489.4894894895,
          89589.5895895896,
          89689.6896896897,
          89789.7897897898,
          89889.88988988989,
          89989.98998998999,
          90090.0900900901,
          90190.1901901902,
          90290.2902902903,
          90390.3903903904,
          90490.4904904905,
          90590.5905905906,
          90690.6906906907,
          90790.7907907908,
          90890.89089089089,
          90990.99099099099,
          91091.0910910911,
          91191.1911911912,
          91291.2912912913,
          91391.3913913914,
          91491.4914914915,
          91591.5915915916,
          91691.6916916917,
          91791.7917917918,
          91891.8918918919,
          91991.99199199199,
          92092.0920920921,
          92192.1921921922,
          92292.2922922923,
          92392.3923923924,
          92492.4924924925,
          92592.5925925926,
          92692.6926926927,
          92792.7927927928,
          92892.8928928929,
          92992.992992993,
          93093.0930930931,
          93193.1931931932,
          93293.2932932933,
          93393.3933933934,
          93493.4934934935,
          93593.5935935936,
          93693.6936936937,
          93793.7937937938,
          93893.8938938939,
          93993.993993994,
          94094.09409409411,
          94194.1941941942,
          94294.2942942943,
          94394.3943943944,
          94494.4944944945,
          94594.5945945946,
          94694.6946946947,
          94794.7947947948,
          94894.8948948949,
          94994.994994995,
          95095.09509509511,
          95195.1951951952,
          95295.2952952953,
          95395.3953953954,
          95495.4954954955,
          95595.5955955956,
          95695.6956956957,
          95795.7957957958,
          95895.8958958959,
          95995.995995996,
          96096.09609609611,
          96196.19619619621,
          96296.2962962963,
          96396.3963963964,
          96496.4964964965,
          96596.5965965966,
          96696.6966966967,
          96796.7967967968,
          96896.8968968969,
          96996.996996997,
          97097.09709709711,
          97197.19719719721,
          97297.29729729731,
          97397.3973973974,
          97497.4974974975,
          97597.5975975976,
          97697.6976976977,
          97797.7977977978,
          97897.8978978979,
          97997.997997998,
          98098.09809809811,
          98198.19819819821,
          98298.29829829831,
          98398.3983983984,
          98498.4984984985,
          98598.5985985986,
          98698.6986986987,
          98798.7987987988,
          98898.8988988989,
          98998.998998999,
          99099.09909909911,
          99199.19919919921,
          99299.29929929931,
          99399.39939939941,
          99499.4994994995,
          99599.5995995996,
          99699.6996996997,
          99799.7997997998,
          99899.8998998999,
          100000
         ],
         "xaxis": "x",
         "y": [
          5.821070654502937,
          5.823224489974741,
          5.825378325446546,
          5.8275321609183495,
          5.829685996390154,
          5.831839831861958,
          5.833993667333763,
          5.8361475028055665,
          5.838301338277371,
          5.840455173749175,
          5.84260900922098,
          5.8447628446927835,
          5.846916680164588,
          5.8490705156363925,
          5.851224351108197,
          5.8533781865800005,
          5.855532022051805,
          5.8576858575236095,
          5.859839692995414,
          5.8619935284672176,
          5.864147363939022,
          5.8663011994108265,
          5.868455034882631,
          5.870608870354435,
          5.872762705826239,
          5.8749165412980435,
          5.877070376769848,
          5.879224212241652,
          5.881378047713456,
          5.8835318831852605,
          5.885685718657065,
          5.887839554128869,
          5.889993389600673,
          5.892147225072478,
          5.894301060544282,
          5.896454896016086,
          5.89860873148789,
          5.900762566959695,
          5.902916402431499,
          5.905070237903303,
          5.907224073375107,
          5.909377908846912,
          5.911531744318716,
          5.91368557979052,
          5.915839415262324,
          5.917993250734129,
          5.920147086205933,
          5.922300921677737,
          5.924454757149541,
          5.926608592621346,
          5.92876242809315,
          5.930916263564954,
          5.933070099036758,
          5.935223934508563,
          5.937377769980367,
          5.939531605452171,
          5.941685440923975,
          5.94383927639578,
          5.945993111867584,
          5.948146947339388,
          5.950300782811192,
          5.952454618282997,
          5.954608453754801,
          5.956762289226605,
          5.958916124698409,
          5.961069960170214,
          5.963223795642018,
          5.965377631113822,
          5.967531466585626,
          5.969685302057431,
          5.971839137529235,
          5.973992973001039,
          5.976146808472843,
          5.978300643944648,
          5.980454479416452,
          5.982608314888256,
          5.98476215036006,
          5.986915985831865,
          5.989069821303669,
          5.991223656775473,
          5.993377492247277,
          5.995531327719082,
          5.997685163190886,
          5.99983899866269,
          6.001992834134494,
          6.004146669606299,
          6.006300505078103,
          6.008454340549907,
          6.010608176021711,
          6.012762011493516,
          6.01491584696532,
          6.017069682437124,
          6.019223517908928,
          6.021377353380733,
          6.023531188852537,
          6.025685024324341,
          6.027838859796145,
          6.02999269526795,
          6.032146530739754,
          6.034300366211558,
          6.036454201683362,
          6.038608037155167,
          6.040761872626971,
          6.042915708098775,
          6.0450695435705795,
          6.047223379042384,
          6.049377214514188,
          6.051531049985992,
          6.0536848854577965,
          6.055838720929601,
          6.057992556401405,
          6.060146391873209,
          6.0623002273450135,
          6.064454062816818,
          6.0666078982886225,
          6.068761733760426,
          6.0709155692322305,
          6.073069404704035,
          6.0752232401758395,
          6.077377075647643,
          6.0795309111194475,
          6.081684746591252,
          6.0838385820630565,
          6.08599241753486,
          6.088146253006665,
          6.090300088478469,
          6.0924539239502735,
          6.094607759422077,
          6.096761594893882,
          6.098915430365686,
          6.1010692658374905,
          6.103223101309294,
          6.105376936781099,
          6.107530772252903,
          6.109684607724708,
          6.111838443196511,
          6.113992278668316,
          6.11614611414012,
          6.118299949611925,
          6.120453785083728,
          6.122607620555533,
          6.124761456027337,
          6.126915291499142,
          6.129069126970945,
          6.13122296244275,
          6.133376797914554,
          6.135530633386359,
          6.137684468858162,
          6.139838304329967,
          6.141992139801771,
          6.144145975273576,
          6.146299810745379,
          6.148453646217184,
          6.150607481688988,
          6.152761317160793,
          6.154915152632596,
          6.157068988104401,
          6.159222823576205,
          6.16137665904801,
          6.163530494519813,
          6.165684329991618,
          6.167838165463422,
          6.169992000935227,
          6.17214583640703,
          6.174299671878835,
          6.176453507350639,
          6.178607342822444,
          6.180761178294247,
          6.182915013766052,
          6.185068849237856,
          6.187222684709661,
          6.189376520181464,
          6.191530355653269,
          6.193684191125073,
          6.195838026596878,
          6.197991862068681,
          6.200145697540486,
          6.20229953301229,
          6.204453368484095,
          6.206607203955898,
          6.208761039427703,
          6.210914874899507,
          6.213068710371312,
          6.215222545843115,
          6.21737638131492,
          6.219530216786724,
          6.221684052258529,
          6.223837887730332,
          6.225991723202137,
          6.228145558673941,
          6.230299394145746,
          6.232453229617549,
          6.234607065089354,
          6.236760900561158,
          6.238914736032963,
          6.2410685715047665,
          6.243222406976571,
          6.245376242448375,
          6.24753007792018,
          6.2496839133919835,
          6.251837748863788,
          6.253991584335592,
          6.256145419807397,
          6.2582992552792005,
          6.260453090751005,
          6.2626069262228095,
          6.264760761694614,
          6.2669145971664175,
          6.269068432638222,
          6.2712222681100265,
          6.273376103581831,
          6.2755299390536345,
          6.277683774525439,
          6.2798376099972435,
          6.281991445469048,
          6.284145280940852,
          6.286299116412656,
          6.2884529518844605,
          6.290606787356265,
          6.292760622828069,
          6.294914458299873,
          6.2970682937716775,
          6.299222129243482,
          6.301375964715286,
          6.30352980018709,
          6.305683635658895,
          6.307837471130699,
          6.309991306602503,
          6.312145142074307,
          6.314298977546112,
          6.316452813017916,
          6.31860664848972,
          6.320760483961524,
          6.322914319433329,
          6.325068154905133,
          6.3272219903769376,
          6.329375825848741,
          6.331529661320546,
          6.33368349679235,
          6.335837332264154,
          6.337991167735958,
          6.340145003207763,
          6.342298838679567,
          6.344452674151372,
          6.346606509623175,
          6.34876034509498,
          6.350914180566784,
          6.353068016038588,
          6.355221851510392,
          6.357375686982197,
          6.359529522454001,
          6.361683357925805,
          6.363837193397609,
          6.365991028869414,
          6.368144864341218,
          6.370298699813022,
          6.372452535284826,
          6.374606370756631,
          6.376760206228435,
          6.378914041700239,
          6.381067877172043,
          6.383221712643848,
          6.385375548115652,
          6.387529383587456,
          6.38968321905926,
          6.391837054531065,
          6.393990890002869,
          6.396144725474673,
          6.398298560946477,
          6.400452396418282,
          6.402606231890086,
          6.40476006736189,
          6.406913902833694,
          6.409067738305499,
          6.411221573777303,
          6.413375409249108,
          6.415529244720911,
          6.417683080192716,
          6.41983691566452,
          6.421990751136324,
          6.424144586608128,
          6.426298422079933,
          6.428452257551737,
          6.430606093023542,
          6.432759928495345,
          6.43491376396715,
          6.437067599438954,
          6.439221434910758,
          6.441375270382562,
          6.443529105854367,
          6.445682941326171,
          6.447836776797976,
          6.449990612269779,
          6.452144447741584,
          6.454298283213388,
          6.456452118685192,
          6.4586059541569965,
          6.460759789628801,
          6.462913625100605,
          6.46506746057241,
          6.4672212960442135,
          6.469375131516018,
          6.471528966987822,
          6.473682802459626,
          6.4758366379314305,
          6.477990473403235,
          6.4801443088750394,
          6.482298144346844,
          6.4844519798186475,
          6.486605815290452,
          6.4887596507622565,
          6.49091348623406,
          6.4930673217058645,
          6.495221157177669,
          6.4973749926494735,
          6.499528828121278,
          6.501682663593082,
          6.503836499064886,
          6.5059903345366905,
          6.508144170008494,
          6.510298005480299,
          6.512451840952103,
          6.5146056764239075,
          6.516759511895712,
          6.518913347367516,
          6.52106718283932,
          6.5232210183111246,
          6.525374853782928,
          6.527528689254733,
          6.529682524726537,
          6.531836360198342,
          6.533990195670146,
          6.53614403114195,
          6.538297866613754,
          6.540451702085559,
          6.542605537557362,
          6.544759373029167,
          6.546913208500971,
          6.549067043972776,
          6.55122087944458,
          6.553374714916384,
          6.555528550388188,
          6.557682385859993,
          6.559836221331796,
          6.561990056803601,
          6.564143892275405,
          6.56629772774721,
          6.568451563219014,
          6.570605398690818,
          6.572759234162622,
          6.574913069634427,
          6.577066905106231,
          6.579220740578035,
          6.581374576049839,
          6.583528411521644,
          6.585682246993448,
          6.587836082465252,
          6.589989917937056,
          6.592143753408861,
          6.594297588880664,
          6.596451424352469,
          6.598605259824273,
          6.600759095296078,
          6.602912930767882,
          6.605066766239686,
          6.60722060171149,
          6.609374437183295,
          6.611528272655098,
          6.613682108126903,
          6.615835943598707,
          6.617989779070512,
          6.620143614542316,
          6.62229745001412,
          6.624451285485924,
          6.626605120957729,
          6.628758956429532,
          6.630912791901337,
          6.633066627373141,
          6.635220462844946,
          6.63737429831675,
          6.639528133788554,
          6.641681969260358,
          6.643835804732163,
          6.645989640203966,
          6.648143475675771,
          6.650297311147575,
          6.65245114661938,
          6.654604982091184,
          6.656758817562988,
          6.658912653034792,
          6.661066488506597,
          6.663220323978401,
          6.665374159450205,
          6.667527994922009,
          6.669681830393814,
          6.671835665865618,
          6.673989501337422,
          6.6761433368092264,
          6.678297172281031,
          6.6804510077528345,
          6.682604843224639,
          6.6847586786964435,
          6.686912514168248,
          6.689066349640052,
          6.691220185111856,
          6.6933740205836605,
          6.695527856055465,
          6.697681691527269,
          6.699835526999073,
          6.7019893624708775,
          6.704143197942682,
          6.7062970334144865,
          6.70845086888629,
          6.7106047043580945,
          6.712758539829899,
          6.714912375301703,
          6.717066210773507,
          6.7192200462453116,
          6.721373881717116,
          6.7235277171889205,
          6.725681552660724,
          6.727835388132529,
          6.729989223604333,
          6.732143059076137,
          6.734296894547941,
          6.736450730019746,
          6.73860456549155,
          6.7407584009633545,
          6.742912236435158,
          6.745066071906963,
          6.747219907378767,
          6.749373742850572,
          6.751527578322375,
          6.75368141379418,
          6.755835249265984,
          6.757989084737789,
          6.760142920209592,
          6.762296755681397,
          6.764450591153201,
          6.766604426625005,
          6.768758262096809,
          6.770912097568614,
          6.773065933040418,
          6.775219768512223,
          6.777373603984026,
          6.779527439455831,
          6.781681274927635,
          6.78383511039944,
          6.785988945871243,
          6.788142781343048,
          6.790296616814852,
          6.792450452286657,
          6.79460428775846,
          6.796758123230265,
          6.798911958702069,
          6.801065794173874,
          6.803219629645677,
          6.805373465117482,
          6.807527300589286,
          6.809681136061091,
          6.811834971532894,
          6.813988807004699,
          6.816142642476503,
          6.818296477948308,
          6.820450313420111,
          6.822604148891916,
          6.82475798436372,
          6.826911819835525,
          6.829065655307328,
          6.831219490779133,
          6.833373326250937,
          6.835527161722742,
          6.837680997194545,
          6.83983483266635,
          6.841988668138154,
          6.844142503609959,
          6.846296339081762,
          6.848450174553567,
          6.850604010025371,
          6.852757845497175,
          6.85491168096898,
          6.857065516440784,
          6.859219351912588,
          6.861373187384393,
          6.863527022856196,
          6.865680858328001,
          6.867834693799805,
          6.869988529271609,
          6.8721423647434134,
          6.874296200215218,
          6.876450035687022,
          6.878603871158827,
          6.8807577066306305,
          6.882911542102435,
          6.885065377574239,
          6.887219213046044,
          6.889373048517848,
          6.891526883989652,
          6.893680719461456,
          6.895834554933261,
          6.8979883904050645,
          6.900142225876869,
          6.9022960613486735,
          6.904449896820477,
          6.9066037322922815,
          6.908757567764086,
          6.9109114032358905,
          6.913065238707695,
          6.9152190741794985,
          6.917372909651303,
          6.9195267451231075,
          6.921680580594912,
          6.9238344160667165,
          6.92598825153852,
          6.9281420870103245,
          6.930295922482129,
          6.932449757953933,
          6.934603593425737,
          6.9367574288975415,
          6.938911264369345,
          6.9410650998411505,
          6.943218935312954,
          6.945372770784759,
          6.947526606256563,
          6.949680441728367,
          6.951834277200171,
          6.953988112671976,
          6.95614194814378,
          6.958295783615584,
          6.960449619087388,
          6.962603454559193,
          6.964757290030997,
          6.966911125502801,
          6.969064960974605,
          6.97121879644641,
          6.973372631918214,
          6.975526467390019,
          6.977680302861822,
          6.979834138333627,
          6.981987973805431,
          6.984141809277235,
          6.986295644749039,
          6.988449480220844,
          6.990603315692647,
          6.992757151164452,
          6.994910986636256,
          6.997064822108061,
          6.999218657579865,
          7.001372493051669,
          7.003526328523473,
          7.005680163995278,
          7.007833999467082,
          7.009987834938887,
          7.01214167041069,
          7.014295505882495,
          7.016449341354299,
          7.018603176826103,
          7.020757012297907,
          7.022910847769712,
          7.025064683241515,
          7.027218518713321,
          7.029372354185124,
          7.031526189656929,
          7.033680025128733,
          7.035833860600537,
          7.037987696072341,
          7.040141531544146,
          7.04229536701595,
          7.044449202487754,
          7.046603037959558,
          7.048756873431363,
          7.050910708903167,
          7.053064544374971,
          7.055218379846775,
          7.05737221531858,
          7.059526050790384,
          7.061679886262189,
          7.063833721733992,
          7.065987557205797,
          7.068141392677601,
          7.070295228149405,
          7.072449063621209,
          7.074602899093014,
          7.076756734564818,
          7.078910570036622,
          7.081064405508426,
          7.083218240980231,
          7.085372076452035,
          7.087525911923839,
          7.089679747395643,
          7.091833582867448,
          7.093987418339252,
          7.096141253811057,
          7.0982950892828605,
          7.100448924754665,
          7.102602760226469,
          7.104756595698273,
          7.1069104311700775,
          7.109064266641882,
          7.111218102113686,
          7.113371937585491,
          7.1155257730572945,
          7.117679608529099,
          7.1198334440009035,
          7.121987279472707,
          7.1241411149445115,
          7.126294950416316,
          7.1284487858881205,
          7.130602621359925,
          7.1327564568317285,
          7.134910292303533,
          7.1370641277753375,
          7.139217963247141,
          7.141371798718946,
          7.14352563419075,
          7.1456794696625545,
          7.147833305134359,
          7.149987140606163,
          7.152140976077967,
          7.1542948115497715,
          7.156448647021575,
          7.15860248249338,
          7.160756317965184,
          7.162910153436989,
          7.165063988908793,
          7.167217824380597,
          7.169371659852401,
          7.171525495324206,
          7.173679330796009,
          7.175833166267814,
          7.177987001739618,
          7.180140837211423,
          7.182294672683227,
          7.184448508155031,
          7.186602343626835,
          7.18875617909864,
          7.190910014570443,
          7.193063850042248,
          7.195217685514052,
          7.197371520985857,
          7.199525356457661,
          7.201679191929465,
          7.203833027401269,
          7.205986862873074,
          7.208140698344877,
          7.210294533816682,
          7.212448369288486,
          7.214602204760291,
          7.216756040232095,
          7.218909875703899,
          7.221063711175703,
          7.223217546647508,
          7.225371382119311,
          7.227525217591116,
          7.22967905306292,
          7.231832888534725,
          7.233986724006529,
          7.236140559478333,
          7.238294394950137,
          7.240448230421942,
          7.242602065893745,
          7.24475590136555,
          7.246909736837354,
          7.249063572309159,
          7.251217407780963,
          7.253371243252767,
          7.255525078724571,
          7.257678914196376,
          7.259832749668179,
          7.261986585139984,
          7.264140420611788,
          7.266294256083592,
          7.268448091555397,
          7.270601927027201,
          7.272755762499005,
          7.27490959797081,
          7.277063433442613,
          7.279217268914418,
          7.281371104386222,
          7.283524939858027,
          7.28567877532983,
          7.287832610801635,
          7.289986446273439,
          7.292140281745244,
          7.2942941172170475,
          7.296447952688852,
          7.298601788160656,
          7.300755623632461,
          7.302909459104265,
          7.305063294576069,
          7.307217130047873,
          7.309370965519678,
          7.311524800991482,
          7.313678636463286,
          7.3158324719350905,
          7.317986307406895,
          7.320140142878699,
          7.322293978350503,
          7.3244478138223075,
          7.326601649294112,
          7.3287554847659155,
          7.330909320237721,
          7.3330631557095245,
          7.335216991181329,
          7.3373708266531334,
          7.339524662124937,
          7.3416784975967415,
          7.343832333068546,
          7.34598616854035,
          7.348140004012154,
          7.3502938394839585,
          7.352447674955763,
          7.3546015104275675,
          7.356755345899371,
          7.358909181371176,
          7.36106301684298,
          7.363216852314784,
          7.365370687786588,
          7.367524523258393,
          7.369678358730197,
          7.3718321942020015,
          7.373986029673805,
          7.37613986514561,
          7.378293700617414,
          7.380447536089218,
          7.382601371561022,
          7.384755207032827,
          7.386909042504631,
          7.389062877976436,
          7.391216713448239,
          7.393370548920044,
          7.395524384391848,
          7.397678219863653,
          7.399832055335457,
          7.401985890807261,
          7.404139726279065,
          7.40629356175087,
          7.408447397222673,
          7.410601232694478,
          7.412755068166282,
          7.414908903638086,
          7.417062739109891,
          7.419216574581695,
          7.421370410053499,
          7.423524245525304,
          7.425678080997107,
          7.427831916468912,
          7.429985751940716,
          7.43213958741252,
          7.434293422884324,
          7.436447258356129,
          7.438601093827933,
          7.440754929299738,
          7.442908764771541,
          7.445062600243346,
          7.44721643571515,
          7.449370271186954,
          7.451524106658758,
          7.453677942130563,
          7.455831777602367,
          7.457985613074172,
          7.460139448545975,
          7.46229328401778,
          7.464447119489584,
          7.466600954961388,
          7.468754790433192,
          7.470908625904997,
          7.473062461376801,
          7.475216296848606,
          7.477370132320409,
          7.479523967792214,
          7.481677803264018,
          7.483831638735823,
          7.485985474207627,
          7.488139309679431,
          7.490293145151235,
          7.49244698062304,
          7.494600816094843,
          7.496754651566648,
          7.498908487038452,
          7.501062322510256,
          7.503216157982061,
          7.505369993453865,
          7.507523828925669,
          7.509677664397474,
          7.5118314998692775,
          7.513985335341082,
          7.516139170812886,
          7.51829300628469,
          7.5204468417564945,
          7.522600677228299,
          7.524754512700103,
          7.526908348171908,
          7.5290621836437115,
          7.531216019115516,
          7.5333698545873204,
          7.535523690059124,
          7.5376775255309285,
          7.539831361002733,
          7.5419851964745375,
          7.544139031946342,
          7.5462928674181455,
          7.54844670288995,
          7.5506005383617545,
          7.552754373833559,
          7.5549082093053626,
          7.557062044777167,
          7.5592158802489715,
          7.561369715720776,
          7.56352355119258,
          7.565677386664384,
          7.5678312221361885,
          7.569985057607993,
          7.5721388930797975,
          7.574292728551601,
          7.5764465640234055,
          7.57860039949521,
          7.580754234967014,
          7.582908070438818,
          7.585061905910623,
          7.587215741382426,
          7.5893695768542315,
          7.591523412326035,
          7.59367724779784,
          7.595831083269644,
          7.597984918741448,
          7.600138754213252,
          7.602292589685057,
          7.60444642515686,
          7.606600260628665,
          7.608754096100469,
          7.610907931572274,
          7.613061767044078,
          7.615215602515882,
          7.617369437987686,
          7.619523273459491,
          7.621677108931294,
          7.623830944403099,
          7.625984779874903,
          7.628138615346708,
          7.630292450818512,
          7.632446286290316,
          7.63460012176212,
          7.636753957233925,
          7.638907792705729,
          7.641061628177534,
          7.643215463649337,
          7.645369299121142,
          7.647523134592946,
          7.64967697006475,
          7.651830805536554,
          7.653984641008359,
          7.656138476480163,
          7.658292311951968,
          7.660446147423771,
          7.662599982895576,
          7.66475381836738,
          7.666907653839184,
          7.669061489310988,
          7.671215324782793,
          7.673369160254597,
          7.675522995726402,
          7.677676831198205,
          7.67983066667001,
          7.681984502141814,
          7.684138337613618,
          7.686292173085422,
          7.688446008557227,
          7.69059984402903,
          7.692753679500835,
          7.694907514972639,
          7.697061350444444,
          7.699215185916248,
          7.701369021388052,
          7.703522856859856,
          7.705676692331661,
          7.7078305278034644,
          7.709984363275269,
          7.712138198747073,
          7.714292034218878,
          7.716445869690682,
          7.718599705162486,
          7.72075354063429,
          7.722907376106095,
          7.725061211577899,
          7.727215047049704,
          7.7293688825215074,
          7.731522717993312,
          7.733676553465116,
          7.73583038893692,
          7.7379842244087245,
          7.740138059880529,
          7.742291895352333,
          7.744445730824138,
          7.7465995662959415,
          7.748753401767746,
          7.75090723723955,
          7.753061072711354,
          7.7552149081831585,
          7.757368743654963,
          7.7595225791267675,
          7.761676414598572,
          7.7638302500703755,
          7.76598408554218,
          7.7681379210139845,
          7.770291756485788,
          7.7724455919575925,
          7.774599427429397,
          7.776753262901201,
          7.778907098373005,
          7.78106093384481,
          7.783214769316614,
          7.7853686047884185,
          7.787522440260222,
          7.789676275732027,
          7.791830111203831,
          7.7939839466756355,
          7.796137782147439,
          7.798291617619244,
          7.800445453091048,
          7.802599288562853,
          7.804753124034656,
          7.806906959506461,
          7.809060794978265,
          7.81121463045007,
          7.813368465921874,
          7.815522301393678,
          7.817676136865482,
          7.819829972337287,
          7.82198380780909,
          7.824137643280896,
          7.826291478752699,
          7.828445314224504,
          7.830599149696308,
          7.832752985168112,
          7.834906820639916,
          7.837060656111721,
          7.839214491583524,
          7.841368327055329,
          7.843522162527133,
          7.845675997998938,
          7.847829833470742,
          7.849983668942546,
          7.85213750441435,
          7.854291339886155,
          7.856445175357958,
          7.858599010829763,
          7.860752846301567,
          7.862906681773371,
          7.865060517245176,
          7.86721435271698,
          7.869368188188784,
          7.871522023660589,
          7.873675859132392,
          7.875829694604197,
          7.877983530076001,
          7.880137365547805,
          7.88229120101961,
          7.884445036491414,
          7.886598871963218,
          7.888752707435023,
          7.890906542906826,
          7.893060378378632,
          7.895214213850435,
          7.897368049322239,
          7.899521884794044,
          7.901675720265848,
          7.903829555737652,
          7.905983391209457,
          7.90813722668126,
          7.910291062153066,
          7.912444897624869,
          7.914598733096674,
          7.916752568568478,
          7.918906404040282,
          7.921060239512086,
          7.923214074983891,
          7.925367910455694,
          7.927521745927499,
          7.929675581399303,
          7.931829416871108,
          7.933983252342912,
          7.936137087814716,
          7.93829092328652,
          7.940444758758325,
          7.9425985942301285,
          7.944752429701933,
          7.946906265173737,
          7.949060100645541,
          7.951213936117346,
          7.95336777158915,
          7.9555216070609545,
          7.957675442532759,
          7.9598292780045625,
          7.961983113476367,
          7.9641369489481715,
          7.966290784419975,
          7.96844461989178,
          7.970598455363584,
          7.9727522908353885
         ],
         "yaxis": "y"
        },
        {
         "hovertemplate": "<b>%{hovertext}</b><br><br>symbol=cyprus<br>x=%{x}<br>y=%{y}<br>size=%{marker.size}<extra></extra>",
         "hovertext": [
          "cyprus"
         ],
         "legendgroup": "cyprus",
         "marker": {
          "color": "#636efa",
          "size": [
           0.01
          ],
          "sizemode": "area",
          "sizeref": 2.5e-05,
          "symbol": "circle"
         },
         "mode": "markers",
         "name": "cyprus",
         "orientation": "v",
         "showlegend": true,
         "type": "scatter",
         "visible": "legendonly",
         "x": [
          22587.49
         ],
         "xaxis": "x",
         "y": [
          6.3070815289413655
         ],
         "yaxis": "y"
        }
       ],
       "layout": {
        "autosize": true,
        "legend": {
         "orientation": "h"
        },
        "template": {
         "data": {
          "bar": [
           {
            "error_x": {
             "color": "#2a3f5f"
            },
            "error_y": {
             "color": "#2a3f5f"
            },
            "marker": {
             "line": {
              "color": "#E5ECF6",
              "width": 0.5
             }
            },
            "type": "bar"
           }
          ],
          "barpolar": [
           {
            "marker": {
             "line": {
              "color": "#E5ECF6",
              "width": 0.5
             }
            },
            "type": "barpolar"
           }
          ],
          "carpet": [
           {
            "aaxis": {
             "endlinecolor": "#2a3f5f",
             "gridcolor": "white",
             "linecolor": "white",
             "minorgridcolor": "white",
             "startlinecolor": "#2a3f5f"
            },
            "baxis": {
             "endlinecolor": "#2a3f5f",
             "gridcolor": "white",
             "linecolor": "white",
             "minorgridcolor": "white",
             "startlinecolor": "#2a3f5f"
            },
            "type": "carpet"
           }
          ],
          "choropleth": [
           {
            "colorbar": {
             "outlinewidth": 0,
             "ticks": ""
            },
            "type": "choropleth"
           }
          ],
          "contour": [
           {
            "colorbar": {
             "outlinewidth": 0,
             "ticks": ""
            },
            "colorscale": [
             [
              0,
              "#0d0887"
             ],
             [
              0.1111111111111111,
              "#46039f"
             ],
             [
              0.2222222222222222,
              "#7201a8"
             ],
             [
              0.3333333333333333,
              "#9c179e"
             ],
             [
              0.4444444444444444,
              "#bd3786"
             ],
             [
              0.5555555555555556,
              "#d8576b"
             ],
             [
              0.6666666666666666,
              "#ed7953"
             ],
             [
              0.7777777777777778,
              "#fb9f3a"
             ],
             [
              0.8888888888888888,
              "#fdca26"
             ],
             [
              1,
              "#f0f921"
             ]
            ],
            "type": "contour"
           }
          ],
          "contourcarpet": [
           {
            "colorbar": {
             "outlinewidth": 0,
             "ticks": ""
            },
            "type": "contourcarpet"
           }
          ],
          "heatmap": [
           {
            "colorbar": {
             "outlinewidth": 0,
             "ticks": ""
            },
            "colorscale": [
             [
              0,
              "#0d0887"
             ],
             [
              0.1111111111111111,
              "#46039f"
             ],
             [
              0.2222222222222222,
              "#7201a8"
             ],
             [
              0.3333333333333333,
              "#9c179e"
             ],
             [
              0.4444444444444444,
              "#bd3786"
             ],
             [
              0.5555555555555556,
              "#d8576b"
             ],
             [
              0.6666666666666666,
              "#ed7953"
             ],
             [
              0.7777777777777778,
              "#fb9f3a"
             ],
             [
              0.8888888888888888,
              "#fdca26"
             ],
             [
              1,
              "#f0f921"
             ]
            ],
            "type": "heatmap"
           }
          ],
          "heatmapgl": [
           {
            "colorbar": {
             "outlinewidth": 0,
             "ticks": ""
            },
            "colorscale": [
             [
              0,
              "#0d0887"
             ],
             [
              0.1111111111111111,
              "#46039f"
             ],
             [
              0.2222222222222222,
              "#7201a8"
             ],
             [
              0.3333333333333333,
              "#9c179e"
             ],
             [
              0.4444444444444444,
              "#bd3786"
             ],
             [
              0.5555555555555556,
              "#d8576b"
             ],
             [
              0.6666666666666666,
              "#ed7953"
             ],
             [
              0.7777777777777778,
              "#fb9f3a"
             ],
             [
              0.8888888888888888,
              "#fdca26"
             ],
             [
              1,
              "#f0f921"
             ]
            ],
            "type": "heatmapgl"
           }
          ],
          "histogram": [
           {
            "marker": {
             "colorbar": {
              "outlinewidth": 0,
              "ticks": ""
             }
            },
            "type": "histogram"
           }
          ],
          "histogram2d": [
           {
            "colorbar": {
             "outlinewidth": 0,
             "ticks": ""
            },
            "colorscale": [
             [
              0,
              "#0d0887"
             ],
             [
              0.1111111111111111,
              "#46039f"
             ],
             [
              0.2222222222222222,
              "#7201a8"
             ],
             [
              0.3333333333333333,
              "#9c179e"
             ],
             [
              0.4444444444444444,
              "#bd3786"
             ],
             [
              0.5555555555555556,
              "#d8576b"
             ],
             [
              0.6666666666666666,
              "#ed7953"
             ],
             [
              0.7777777777777778,
              "#fb9f3a"
             ],
             [
              0.8888888888888888,
              "#fdca26"
             ],
             [
              1,
              "#f0f921"
             ]
            ],
            "type": "histogram2d"
           }
          ],
          "histogram2dcontour": [
           {
            "colorbar": {
             "outlinewidth": 0,
             "ticks": ""
            },
            "colorscale": [
             [
              0,
              "#0d0887"
             ],
             [
              0.1111111111111111,
              "#46039f"
             ],
             [
              0.2222222222222222,
              "#7201a8"
             ],
             [
              0.3333333333333333,
              "#9c179e"
             ],
             [
              0.4444444444444444,
              "#bd3786"
             ],
             [
              0.5555555555555556,
              "#d8576b"
             ],
             [
              0.6666666666666666,
              "#ed7953"
             ],
             [
              0.7777777777777778,
              "#fb9f3a"
             ],
             [
              0.8888888888888888,
              "#fdca26"
             ],
             [
              1,
              "#f0f921"
             ]
            ],
            "type": "histogram2dcontour"
           }
          ],
          "mesh3d": [
           {
            "colorbar": {
             "outlinewidth": 0,
             "ticks": ""
            },
            "type": "mesh3d"
           }
          ],
          "parcoords": [
           {
            "line": {
             "colorbar": {
              "outlinewidth": 0,
              "ticks": ""
             }
            },
            "type": "parcoords"
           }
          ],
          "pie": [
           {
            "automargin": true,
            "type": "pie"
           }
          ],
          "scatter": [
           {
            "marker": {
             "colorbar": {
              "outlinewidth": 0,
              "ticks": ""
             }
            },
            "type": "scatter"
           }
          ],
          "scatter3d": [
           {
            "line": {
             "colorbar": {
              "outlinewidth": 0,
              "ticks": ""
             }
            },
            "marker": {
             "colorbar": {
              "outlinewidth": 0,
              "ticks": ""
             }
            },
            "type": "scatter3d"
           }
          ],
          "scattercarpet": [
           {
            "marker": {
             "colorbar": {
              "outlinewidth": 0,
              "ticks": ""
             }
            },
            "type": "scattercarpet"
           }
          ],
          "scattergeo": [
           {
            "marker": {
             "colorbar": {
              "outlinewidth": 0,
              "ticks": ""
             }
            },
            "type": "scattergeo"
           }
          ],
          "scattergl": [
           {
            "marker": {
             "colorbar": {
              "outlinewidth": 0,
              "ticks": ""
             }
            },
            "type": "scattergl"
           }
          ],
          "scattermapbox": [
           {
            "marker": {
             "colorbar": {
              "outlinewidth": 0,
              "ticks": ""
             }
            },
            "type": "scattermapbox"
           }
          ],
          "scatterpolar": [
           {
            "marker": {
             "colorbar": {
              "outlinewidth": 0,
              "ticks": ""
             }
            },
            "type": "scatterpolar"
           }
          ],
          "scatterpolargl": [
           {
            "marker": {
             "colorbar": {
              "outlinewidth": 0,
              "ticks": ""
             }
            },
            "type": "scatterpolargl"
           }
          ],
          "scatterternary": [
           {
            "marker": {
             "colorbar": {
              "outlinewidth": 0,
              "ticks": ""
             }
            },
            "type": "scatterternary"
           }
          ],
          "surface": [
           {
            "colorbar": {
             "outlinewidth": 0,
             "ticks": ""
            },
            "colorscale": [
             [
              0,
              "#0d0887"
             ],
             [
              0.1111111111111111,
              "#46039f"
             ],
             [
              0.2222222222222222,
              "#7201a8"
             ],
             [
              0.3333333333333333,
              "#9c179e"
             ],
             [
              0.4444444444444444,
              "#bd3786"
             ],
             [
              0.5555555555555556,
              "#d8576b"
             ],
             [
              0.6666666666666666,
              "#ed7953"
             ],
             [
              0.7777777777777778,
              "#fb9f3a"
             ],
             [
              0.8888888888888888,
              "#fdca26"
             ],
             [
              1,
              "#f0f921"
             ]
            ],
            "type": "surface"
           }
          ],
          "table": [
           {
            "cells": {
             "fill": {
              "color": "#EBF0F8"
             },
             "line": {
              "color": "white"
             }
            },
            "header": {
             "fill": {
              "color": "#C8D4E3"
             },
             "line": {
              "color": "white"
             }
            },
            "type": "table"
           }
          ]
         },
         "layout": {
          "annotationdefaults": {
           "arrowcolor": "#2a3f5f",
           "arrowhead": 0,
           "arrowwidth": 1
          },
          "autotypenumbers": "strict",
          "coloraxis": {
           "colorbar": {
            "outlinewidth": 0,
            "ticks": ""
           }
          },
          "colorscale": {
           "diverging": [
            [
             0,
             "#8e0152"
            ],
            [
             0.1,
             "#c51b7d"
            ],
            [
             0.2,
             "#de77ae"
            ],
            [
             0.3,
             "#f1b6da"
            ],
            [
             0.4,
             "#fde0ef"
            ],
            [
             0.5,
             "#f7f7f7"
            ],
            [
             0.6,
             "#e6f5d0"
            ],
            [
             0.7,
             "#b8e186"
            ],
            [
             0.8,
             "#7fbc41"
            ],
            [
             0.9,
             "#4d9221"
            ],
            [
             1,
             "#276419"
            ]
           ],
           "sequential": [
            [
             0,
             "#0d0887"
            ],
            [
             0.1111111111111111,
             "#46039f"
            ],
            [
             0.2222222222222222,
             "#7201a8"
            ],
            [
             0.3333333333333333,
             "#9c179e"
            ],
            [
             0.4444444444444444,
             "#bd3786"
            ],
            [
             0.5555555555555556,
             "#d8576b"
            ],
            [
             0.6666666666666666,
             "#ed7953"
            ],
            [
             0.7777777777777778,
             "#fb9f3a"
            ],
            [
             0.8888888888888888,
             "#fdca26"
            ],
            [
             1,
             "#f0f921"
            ]
           ],
           "sequentialminus": [
            [
             0,
             "#0d0887"
            ],
            [
             0.1111111111111111,
             "#46039f"
            ],
            [
             0.2222222222222222,
             "#7201a8"
            ],
            [
             0.3333333333333333,
             "#9c179e"
            ],
            [
             0.4444444444444444,
             "#bd3786"
            ],
            [
             0.5555555555555556,
             "#d8576b"
            ],
            [
             0.6666666666666666,
             "#ed7953"
            ],
            [
             0.7777777777777778,
             "#fb9f3a"
            ],
            [
             0.8888888888888888,
             "#fdca26"
            ],
            [
             1,
             "#f0f921"
            ]
           ]
          },
          "colorway": [
           "#636efa",
           "#EF553B",
           "#00cc96",
           "#ab63fa",
           "#FFA15A",
           "#19d3f3",
           "#FF6692",
           "#B6E880",
           "#FF97FF",
           "#FECB52"
          ],
          "font": {
           "color": "#2a3f5f"
          },
          "geo": {
           "bgcolor": "white",
           "lakecolor": "white",
           "landcolor": "#E5ECF6",
           "showlakes": true,
           "showland": true,
           "subunitcolor": "white"
          },
          "hoverlabel": {
           "align": "left"
          },
          "hovermode": "closest",
          "mapbox": {
           "style": "light"
          },
          "paper_bgcolor": "white",
          "plot_bgcolor": "#E5ECF6",
          "polar": {
           "angularaxis": {
            "gridcolor": "white",
            "linecolor": "white",
            "ticks": ""
           },
           "bgcolor": "#E5ECF6",
           "radialaxis": {
            "gridcolor": "white",
            "linecolor": "white",
            "ticks": ""
           }
          },
          "scene": {
           "xaxis": {
            "backgroundcolor": "#E5ECF6",
            "gridcolor": "white",
            "gridwidth": 2,
            "linecolor": "white",
            "showbackground": true,
            "ticks": "",
            "zerolinecolor": "white"
           },
           "yaxis": {
            "backgroundcolor": "#E5ECF6",
            "gridcolor": "white",
            "gridwidth": 2,
            "linecolor": "white",
            "showbackground": true,
            "ticks": "",
            "zerolinecolor": "white"
           },
           "zaxis": {
            "backgroundcolor": "#E5ECF6",
            "gridcolor": "white",
            "gridwidth": 2,
            "linecolor": "white",
            "showbackground": true,
            "ticks": "",
            "zerolinecolor": "white"
           }
          },
          "shapedefaults": {
           "line": {
            "color": "#2a3f5f"
           }
          },
          "ternary": {
           "aaxis": {
            "gridcolor": "white",
            "linecolor": "white",
            "ticks": ""
           },
           "baxis": {
            "gridcolor": "white",
            "linecolor": "white",
            "ticks": ""
           },
           "bgcolor": "#E5ECF6",
           "caxis": {
            "gridcolor": "white",
            "linecolor": "white",
            "ticks": ""
           }
          },
          "title": {
           "x": 0.05
          },
          "xaxis": {
           "automargin": true,
           "gridcolor": "white",
           "linecolor": "white",
           "ticks": "",
           "title": {
            "standoff": 15
           },
           "zerolinecolor": "white",
           "zerolinewidth": 2
          },
          "yaxis": {
           "automargin": true,
           "gridcolor": "white",
           "linecolor": "white",
           "ticks": "",
           "title": {
            "standoff": 15
           },
           "zerolinecolor": "white",
           "zerolinewidth": 2
          }
         }
        },
        "xaxis": {
         "autorange": true,
         "range": [
          0,
          107814.47035834643
         ],
         "type": "linear"
        },
        "yaxis": {
         "autorange": true,
         "range": [
          4.5032677713607185,
          8.155356739228791
         ],
         "type": "linear"
        }
       }
      },
      "image/png": "[encoded data removed]",
      "text/html": [
       "<div>                            <div id=\"85bfbc50-2cd6-442c-b4de-67530bd57810\" class=\"plotly-graph-div\" style=\"height:525px; width:100%;\"></div>            <script type=\"text/javascript\">                require([\"plotly\"], function(Plotly) {                    window.PLOTLYENV=window.PLOTLYENV || {};                                    if (document.getElementById(\"85bfbc50-2cd6-442c-b4de-67530bd57810\")) {                    Plotly.newPlot(                        \"85bfbc50-2cd6-442c-b4de-67530bd57810\",                        [{\"hovertemplate\": \"<b>%{hovertext}</b><br><br>Country=Belgium<br>GDP per Indicator=%{x}<br>Life satisfaction=%{y}<extra></extra>\", \"hovertext\": [\"Belgium\"], \"legendgroup\": \"Belgium\", \"marker\": {\"color\": \"#636efa\", \"symbol\": \"circle\"}, \"mode\": \"markers\", \"name\": \"Belgium\", \"orientation\": \"v\", \"showlegend\": true, \"type\": \"scatter\", \"x\": [40106.632], \"xaxis\": \"x\", \"y\": [6.9], \"yaxis\": \"y\"}, {\"hovertemplate\": \"<b>%{hovertext}</b><br><br>Country=Brazil<br>GDP per Indicator=%{x}<br>Life satisfaction=%{y}<extra></extra>\", \"hovertext\": [\"Brazil\"], \"legendgroup\": \"Brazil\", \"marker\": {\"color\": \"#EF553B\", \"symbol\": \"circle\"}, \"mode\": \"markers\", \"name\": \"Brazil\", \"orientation\": \"v\", \"showlegend\": true, \"type\": \"scatter\", \"x\": [8669.998], \"xaxis\": \"x\", \"y\": [7.0], \"yaxis\": \"y\"}, {\"hovertemplate\": \"<b>%{hovertext}</b><br><br>Country=Canada<br>GDP per Indicator=%{x}<br>Life satisfaction=%{y}<extra></extra>\", \"hovertext\": [\"Canada\"], \"legendgroup\": \"Canada\", \"marker\": {\"color\": \"#00cc96\", \"symbol\": \"circle\"}, \"mode\": \"markers\", \"name\": \"Canada\", \"orientation\": \"v\", \"showlegend\": true, \"type\": \"scatter\", \"x\": [43331.961], \"xaxis\": \"x\", \"y\": [7.3], \"yaxis\": \"y\"}, {\"hovertemplate\": \"<b>%{hovertext}</b><br><br>Country=Chile<br>GDP per Indicator=%{x}<br>Life satisfaction=%{y}<extra></extra>\", \"hovertext\": [\"Chile\"], \"legendgroup\": \"Chile\", \"marker\": {\"color\": \"#ab63fa\", \"symbol\": \"circle\"}, \"mode\": \"markers\", \"name\": \"Chile\", \"orientation\": \"v\", \"showlegend\": true, \"type\": \"scatter\", \"x\": [13340.905], \"xaxis\": \"x\", \"y\": [6.7], \"yaxis\": \"y\"}, {\"hovertemplate\": \"<b>%{hovertext}</b><br><br>Country=Denmark<br>GDP per Indicator=%{x}<br>Life satisfaction=%{y}<extra></extra>\", \"hovertext\": [\"Denmark\"], \"legendgroup\": \"Denmark\", \"marker\": {\"color\": \"#FFA15A\", \"symbol\": \"circle\"}, \"mode\": \"markers\", \"name\": \"Denmark\", \"orientation\": \"v\", \"showlegend\": true, \"type\": \"scatter\", \"x\": [52114.165], \"xaxis\": \"x\", \"y\": [7.5], \"yaxis\": \"y\"}, {\"hovertemplate\": \"<b>%{hovertext}</b><br><br>Country=Finland<br>GDP per Indicator=%{x}<br>Life satisfaction=%{y}<extra></extra>\", \"hovertext\": [\"Finland\"], \"legendgroup\": \"Finland\", \"marker\": {\"color\": \"#19d3f3\", \"symbol\": \"circle\"}, \"mode\": \"markers\", \"name\": \"Finland\", \"orientation\": \"v\", \"showlegend\": true, \"type\": \"scatter\", \"x\": [41973.988], \"xaxis\": \"x\", \"y\": [7.4], \"yaxis\": \"y\"}, {\"hovertemplate\": \"<b>%{hovertext}</b><br><br>Country=France<br>GDP per Indicator=%{x}<br>Life satisfaction=%{y}<extra></extra>\", \"hovertext\": [\"France\"], \"legendgroup\": \"France\", \"marker\": {\"color\": \"#FF6692\", \"symbol\": \"circle\"}, \"mode\": \"markers\", \"name\": \"France\", \"orientation\": \"v\", \"showlegend\": true, \"type\": \"scatter\", \"x\": [37675.006], \"xaxis\": \"x\", \"y\": [6.5], \"yaxis\": \"y\"}, {\"hovertemplate\": \"<b>%{hovertext}</b><br><br>Country=Germany<br>GDP per Indicator=%{x}<br>Life satisfaction=%{y}<extra></extra>\", \"hovertext\": [\"Germany\"], \"legendgroup\": \"Germany\", \"marker\": {\"color\": \"#B6E880\", \"symbol\": \"circle\"}, \"mode\": \"markers\", \"name\": \"Germany\", \"orientation\": \"v\", \"showlegend\": true, \"type\": \"scatter\", \"x\": [40996.511], \"xaxis\": \"x\", \"y\": [7.0], \"yaxis\": \"y\"}, {\"hovertemplate\": \"<b>%{hovertext}</b><br><br>Country=Greece<br>GDP per Indicator=%{x}<br>Life satisfaction=%{y}<extra></extra>\", \"hovertext\": [\"Greece\"], \"legendgroup\": \"Greece\", \"marker\": {\"color\": \"#FF97FF\", \"symbol\": \"circle\"}, \"mode\": \"markers\", \"name\": \"Greece\", \"orientation\": \"v\", \"showlegend\": true, \"type\": \"scatter\", \"x\": [18064.288], \"xaxis\": \"x\", \"y\": [4.8], \"yaxis\": \"y\"}, {\"hovertemplate\": \"<b>%{hovertext}</b><br><br>Country=Hungary<br>GDP per Indicator=%{x}<br>Life satisfaction=%{y}<extra></extra>\", \"hovertext\": [\"Hungary\"], \"legendgroup\": \"Hungary\", \"marker\": {\"color\": \"#FECB52\", \"symbol\": \"circle\"}, \"mode\": \"markers\", \"name\": \"Hungary\", \"orientation\": \"v\", \"showlegend\": true, \"type\": \"scatter\", \"x\": [12239.894], \"xaxis\": \"x\", \"y\": [4.9], \"yaxis\": \"y\"}, {\"hovertemplate\": \"<b>%{hovertext}</b><br><br>Country=Iceland<br>GDP per Indicator=%{x}<br>Life satisfaction=%{y}<extra></extra>\", \"hovertext\": [\"Iceland\"], \"legendgroup\": \"Iceland\", \"marker\": {\"color\": \"#636efa\", \"symbol\": \"circle\"}, \"mode\": \"markers\", \"name\": \"Iceland\", \"orientation\": \"v\", \"showlegend\": true, \"type\": \"scatter\", \"x\": [50854.583], \"xaxis\": \"x\", \"y\": [7.5], \"yaxis\": \"y\"}, {\"hovertemplate\": \"<b>%{hovertext}</b><br><br>Country=Ireland<br>GDP per Indicator=%{x}<br>Life satisfaction=%{y}<extra></extra>\", \"hovertext\": [\"Ireland\"], \"legendgroup\": \"Ireland\", \"marker\": {\"color\": \"#EF553B\", \"symbol\": \"circle\"}, \"mode\": \"markers\", \"name\": \"Ireland\", \"orientation\": \"v\", \"showlegend\": true, \"type\": \"scatter\", \"x\": [51350.744], \"xaxis\": \"x\", \"y\": [7.0], \"yaxis\": \"y\"}, {\"hovertemplate\": \"<b>%{hovertext}</b><br><br>Country=Israel<br>GDP per Indicator=%{x}<br>Life satisfaction=%{y}<extra></extra>\", \"hovertext\": [\"Israel\"], \"legendgroup\": \"Israel\", \"marker\": {\"color\": \"#00cc96\", \"symbol\": \"circle\"}, \"mode\": \"markers\", \"name\": \"Israel\", \"orientation\": \"v\", \"showlegend\": true, \"type\": \"scatter\", \"x\": [35343.336], \"xaxis\": \"x\", \"y\": [7.4], \"yaxis\": \"y\"}, {\"hovertemplate\": \"<b>%{hovertext}</b><br><br>Country=Italy<br>GDP per Indicator=%{x}<br>Life satisfaction=%{y}<extra></extra>\", \"hovertext\": [\"Italy\"], \"legendgroup\": \"Italy\", \"marker\": {\"color\": \"#ab63fa\", \"symbol\": \"circle\"}, \"mode\": \"markers\", \"name\": \"Italy\", \"orientation\": \"v\", \"showlegend\": true, \"type\": \"scatter\", \"x\": [29866.581], \"xaxis\": \"x\", \"y\": [6.0], \"yaxis\": \"y\"}, {\"hovertemplate\": \"<b>%{hovertext}</b><br><br>Country=Japan<br>GDP per Indicator=%{x}<br>Life satisfaction=%{y}<extra></extra>\", \"hovertext\": [\"Japan\"], \"legendgroup\": \"Japan\", \"marker\": {\"color\": \"#FFA15A\", \"symbol\": \"circle\"}, \"mode\": \"markers\", \"name\": \"Japan\", \"orientation\": \"v\", \"showlegend\": true, \"type\": \"scatter\", \"x\": [32485.545], \"xaxis\": \"x\", \"y\": [5.9], \"yaxis\": \"y\"}, {\"hovertemplate\": \"<b>%{hovertext}</b><br><br>Country=Korea<br>GDP per Indicator=%{x}<br>Life satisfaction=%{y}<extra></extra>\", \"hovertext\": [\"Korea\"], \"legendgroup\": \"Korea\", \"marker\": {\"color\": \"#19d3f3\", \"symbol\": \"circle\"}, \"mode\": \"markers\", \"name\": \"Korea\", \"orientation\": \"v\", \"showlegend\": true, \"type\": \"scatter\", \"x\": [27195.197], \"xaxis\": \"x\", \"y\": [5.8], \"yaxis\": \"y\"}, {\"hovertemplate\": \"<b>%{hovertext}</b><br><br>Country=Luxembourg<br>GDP per Indicator=%{x}<br>Life satisfaction=%{y}<extra></extra>\", \"hovertext\": [\"Luxembourg\"], \"legendgroup\": \"Luxembourg\", \"marker\": {\"color\": \"#FF6692\", \"symbol\": \"circle\"}, \"mode\": \"markers\", \"name\": \"Luxembourg\", \"orientation\": \"v\", \"showlegend\": true, \"type\": \"scatter\", \"x\": [101994.093], \"xaxis\": \"x\", \"y\": [6.9], \"yaxis\": \"y\"}, {\"hovertemplate\": \"<b>%{hovertext}</b><br><br>Country=Mexico<br>GDP per Indicator=%{x}<br>Life satisfaction=%{y}<extra></extra>\", \"hovertext\": [\"Mexico\"], \"legendgroup\": \"Mexico\", \"marker\": {\"color\": \"#B6E880\", \"symbol\": \"circle\"}, \"mode\": \"markers\", \"name\": \"Mexico\", \"orientation\": \"v\", \"showlegend\": true, \"type\": \"scatter\", \"x\": [9009.28], \"xaxis\": \"x\", \"y\": [6.7], \"yaxis\": \"y\"}, {\"hovertemplate\": \"<b>%{hovertext}</b><br><br>Country=Netherlands<br>GDP per Indicator=%{x}<br>Life satisfaction=%{y}<extra></extra>\", \"hovertext\": [\"Netherlands\"], \"legendgroup\": \"Netherlands\", \"marker\": {\"color\": \"#FF97FF\", \"symbol\": \"circle\"}, \"mode\": \"markers\", \"name\": \"Netherlands\", \"orientation\": \"v\", \"showlegend\": true, \"type\": \"scatter\", \"x\": [43603.115], \"xaxis\": \"x\", \"y\": [7.3], \"yaxis\": \"y\"}, {\"hovertemplate\": \"<b>%{hovertext}</b><br><br>Country=New Zealand<br>GDP per Indicator=%{x}<br>Life satisfaction=%{y}<extra></extra>\", \"hovertext\": [\"New Zealand\"], \"legendgroup\": \"New Zealand\", \"marker\": {\"color\": \"#FECB52\", \"symbol\": \"circle\"}, \"mode\": \"markers\", \"name\": \"New Zealand\", \"orientation\": \"v\", \"showlegend\": true, \"type\": \"scatter\", \"x\": [37044.891], \"xaxis\": \"x\", \"y\": [7.3], \"yaxis\": \"y\"}, {\"hovertemplate\": \"<b>%{hovertext}</b><br><br>Country=Norway<br>GDP per Indicator=%{x}<br>Life satisfaction=%{y}<extra></extra>\", \"hovertext\": [\"Norway\"], \"legendgroup\": \"Norway\", \"marker\": {\"color\": \"#636efa\", \"symbol\": \"circle\"}, \"mode\": \"markers\", \"name\": \"Norway\", \"orientation\": \"v\", \"showlegend\": true, \"type\": \"scatter\", \"x\": [74822.106], \"xaxis\": \"x\", \"y\": [7.4], \"yaxis\": \"y\"}, {\"hovertemplate\": \"<b>%{hovertext}</b><br><br>Country=Poland<br>GDP per Indicator=%{x}<br>Life satisfaction=%{y}<extra></extra>\", \"hovertext\": [\"Poland\"], \"legendgroup\": \"Poland\", \"marker\": {\"color\": \"#EF553B\", \"symbol\": \"circle\"}, \"mode\": \"markers\", \"name\": \"Poland\", \"orientation\": \"v\", \"showlegend\": true, \"type\": \"scatter\", \"x\": [12495.334], \"xaxis\": \"x\", \"y\": [5.8], \"yaxis\": \"y\"}, {\"hovertemplate\": \"<b>%{hovertext}</b><br><br>Country=Portugal<br>GDP per Indicator=%{x}<br>Life satisfaction=%{y}<extra></extra>\", \"hovertext\": [\"Portugal\"], \"legendgroup\": \"Portugal\", \"marker\": {\"color\": \"#00cc96\", \"symbol\": \"circle\"}, \"mode\": \"markers\", \"name\": \"Portugal\", \"orientation\": \"v\", \"showlegend\": true, \"type\": \"scatter\", \"x\": [19121.592], \"xaxis\": \"x\", \"y\": [5.1], \"yaxis\": \"y\"}, {\"hovertemplate\": \"<b>%{hovertext}</b><br><br>Country=Russia<br>GDP per Indicator=%{x}<br>Life satisfaction=%{y}<extra></extra>\", \"hovertext\": [\"Russia\"], \"legendgroup\": \"Russia\", \"marker\": {\"color\": \"#ab63fa\", \"symbol\": \"circle\"}, \"mode\": \"markers\", \"name\": \"Russia\", \"orientation\": \"v\", \"showlegend\": true, \"type\": \"scatter\", \"x\": [9054.914], \"xaxis\": \"x\", \"y\": [6.0], \"yaxis\": \"y\"}, {\"hovertemplate\": \"<b>%{hovertext}</b><br><br>Country=Slovak Republic<br>GDP per Indicator=%{x}<br>Life satisfaction=%{y}<extra></extra>\", \"hovertext\": [\"Slovak Republic\"], \"legendgroup\": \"Slovak Republic\", \"marker\": {\"color\": \"#FFA15A\", \"symbol\": \"circle\"}, \"mode\": \"markers\", \"name\": \"Slovak Republic\", \"orientation\": \"v\", \"showlegend\": true, \"type\": \"scatter\", \"x\": [15991.736], \"xaxis\": \"x\", \"y\": [6.1], \"yaxis\": \"y\"}, {\"hovertemplate\": \"<b>%{hovertext}</b><br><br>Country=Slovenia<br>GDP per Indicator=%{x}<br>Life satisfaction=%{y}<extra></extra>\", \"hovertext\": [\"Slovenia\"], \"legendgroup\": \"Slovenia\", \"marker\": {\"color\": \"#19d3f3\", \"symbol\": \"circle\"}, \"mode\": \"markers\", \"name\": \"Slovenia\", \"orientation\": \"v\", \"showlegend\": true, \"type\": \"scatter\", \"x\": [20732.482], \"xaxis\": \"x\", \"y\": [5.7], \"yaxis\": \"y\"}, {\"hovertemplate\": \"<b>%{hovertext}</b><br><br>Country=Spain<br>GDP per Indicator=%{x}<br>Life satisfaction=%{y}<extra></extra>\", \"hovertext\": [\"Spain\"], \"legendgroup\": \"Spain\", \"marker\": {\"color\": \"#FF6692\", \"symbol\": \"circle\"}, \"mode\": \"markers\", \"name\": \"Spain\", \"orientation\": \"v\", \"showlegend\": true, \"type\": \"scatter\", \"x\": [25864.721], \"xaxis\": \"x\", \"y\": [6.5], \"yaxis\": \"y\"}, {\"hovertemplate\": \"<b>%{hovertext}</b><br><br>Country=Sweden<br>GDP per Indicator=%{x}<br>Life satisfaction=%{y}<extra></extra>\", \"hovertext\": [\"Sweden\"], \"legendgroup\": \"Sweden\", \"marker\": {\"color\": \"#B6E880\", \"symbol\": \"circle\"}, \"mode\": \"markers\", \"name\": \"Sweden\", \"orientation\": \"v\", \"showlegend\": true, \"type\": \"scatter\", \"x\": [49866.266], \"xaxis\": \"x\", \"y\": [7.2], \"yaxis\": \"y\"}, {\"hovertemplate\": \"<b>%{hovertext}</b><br><br>Country=Switzerland<br>GDP per Indicator=%{x}<br>Life satisfaction=%{y}<extra></extra>\", \"hovertext\": [\"Switzerland\"], \"legendgroup\": \"Switzerland\", \"marker\": {\"color\": \"#FF97FF\", \"symbol\": \"circle\"}, \"mode\": \"markers\", \"name\": \"Switzerland\", \"orientation\": \"v\", \"showlegend\": true, \"type\": \"scatter\", \"x\": [80675.308], \"xaxis\": \"x\", \"y\": [7.5], \"yaxis\": \"y\"}, {\"hovertemplate\": \"x=%{x}<br>y=%{y}<extra></extra>\", \"legendgroup\": \"\", \"line\": {\"color\": \"#636efa\", \"dash\": \"solid\"}, \"mode\": \"lines\", \"name\": \"\", \"orientation\": \"v\", \"showlegend\": false, \"type\": \"scatter\", \"x\": [0.0, 100.10010010010011, 200.20020020020021, 300.3003003003003, 400.40040040040043, 500.50050050050055, 600.6006006006006, 700.7007007007007, 800.8008008008009, 900.900900900901, 1001.0010010010011, 1101.1011011011012, 1201.2012012012012, 1301.3013013013015, 1401.4014014014015, 1501.5015015015017, 1601.6016016016017, 1701.7017017017017, 1801.801801801802, 1901.901901901902, 2002.0020020020022, 2102.1021021021024, 2202.2022022022024, 2302.3023023023025, 2402.4024024024025, 2502.5025025025025, 2602.602602602603, 2702.702702702703, 2802.802802802803, 2902.902902902903, 3003.0030030030034, 3103.1031031031034, 3203.2032032032034, 3303.3033033033034, 3403.4034034034034, 3503.503503503504, 3603.603603603604, 3703.703703703704, 3803.803803803804, 3903.9039039039044, 4004.0040040040044, 4104.104104104104, 4204.204204204205, 4304.304304304304, 4404.404404404405, 4504.504504504504, 4604.604604604605, 4704.704704704705, 4804.804804804805, 4904.904904904905, 5005.005005005005, 5105.105105105105, 5205.205205205206, 5305.305305305305, 5405.405405405406, 5505.505505505506, 5605.605605605606, 5705.705705705706, 5805.805805805806, 5905.905905905906, 6006.006006006007, 6106.106106106106, 6206.206206206207, 6306.306306306306, 6406.406406406407, 6506.506506506507, 6606.606606606607, 6706.706706706707, 6806.806806806807, 6906.906906906907, 7007.007007007008, 7107.107107107107, 7207.207207207208, 7307.307307307307, 7407.407407407408, 7507.507507507508, 7607.607607607608, 7707.707707707708, 7807.807807807809, 7907.907907907908, 8008.008008008009, 8108.108108108108, 8208.208208208209, 8308.30830830831, 8408.40840840841, 8508.508508508508, 8608.608608608609, 8708.70870870871, 8808.80880880881, 8908.90890890891, 9009.009009009009, 9109.10910910911, 9209.20920920921, 9309.30930930931, 9409.40940940941, 9509.50950950951, 9609.60960960961, 9709.70970970971, 9809.80980980981, 9909.909909909911, 10010.01001001001, 10110.11011011011, 10210.21021021021, 10310.310310310311, 10410.410410410412, 10510.51051051051, 10610.61061061061, 10710.710710710711, 10810.810810810812, 10910.910910910912, 11011.011011011013, 11111.111111111111, 11211.211211211212, 11311.311311311312, 11411.411411411413, 11511.511511511513, 11611.611611611612, 11711.711711711712, 11811.811811811813, 11911.911911911913, 12012.012012012014, 12112.112112112112, 12212.212212212213, 12312.312312312313, 12412.412412412414, 12512.512512512514, 12612.612612612613, 12712.712712712713, 12812.812812812814, 12912.912912912914, 13013.013013013015, 13113.113113113113, 13213.213213213214, 13313.313313313314, 13413.413413413415, 13513.513513513515, 13613.613613613614, 13713.713713713714, 13813.813813813815, 13913.913913913915, 14014.014014014016, 14114.114114114114, 14214.214214214215, 14314.314314314315, 14414.414414414416, 14514.514514514516, 14614.614614614615, 14714.714714714715, 14814.814814814816, 14914.914914914916, 15015.015015015017, 15115.115115115117, 15215.215215215216, 15315.315315315316, 15415.415415415417, 15515.515515515517, 15615.615615615618, 15715.715715715716, 15815.815815815817, 15915.915915915917, 16016.016016016018, 16116.116116116118, 16216.216216216217, 16316.316316316317, 16416.416416416418, 16516.516516516516, 16616.61661661662, 16716.716716716717, 16816.81681681682, 16916.916916916918, 17017.017017017017, 17117.11711711712, 17217.217217217218, 17317.31731731732, 17417.41741741742, 17517.517517517517, 17617.61761761762, 17717.71771771772, 17817.81781781782, 17917.91791791792, 18018.018018018018, 18118.11811811812, 18218.21821821822, 18318.31831831832, 18418.41841841842, 18518.51851851852, 18618.61861861862, 18718.71871871872, 18818.81881881882, 18918.91891891892, 19019.01901901902, 19119.11911911912, 19219.21921921922, 19319.319319319322, 19419.41941941942, 19519.51951951952, 19619.61961961962, 19719.71971971972, 19819.819819819822, 19919.91991991992, 20020.02002002002, 20120.120120120122, 20220.22022022022, 20320.320320320323, 20420.42042042042, 20520.52052052052, 20620.620620620623, 20720.72072072072, 20820.820820820823, 20920.920920920922, 21021.02102102102, 21121.121121121123, 21221.22122122122, 21321.321321321324, 21421.421421421423, 21521.521521521525, 21621.621621621623, 21721.721721721722, 21821.821821821824, 21921.921921921923, 22022.022022022025, 22122.122122122124, 22222.222222222223, 22322.322322322325, 22422.422422422424, 22522.522522522526, 22622.622622622624, 22722.722722722723, 22822.822822822825, 22922.922922922924, 23023.023023023026, 23123.123123123125, 23223.223223223224, 23323.323323323326, 23423.423423423425, 23523.523523523527, 23623.623623623625, 23723.723723723724, 23823.823823823826, 23923.923923923925, 24024.024024024027, 24124.124124124126, 24224.224224224225, 24324.324324324327, 24424.424424424426, 24524.524524524528, 24624.624624624626, 24724.724724724725, 24824.824824824827, 24924.924924924926, 25025.02502502503, 25125.125125125127, 25225.225225225226, 25325.325325325328, 25425.425425425427, 25525.52552552553, 25625.625625625627, 25725.725725725726, 25825.82582582583, 25925.925925925927, 26026.02602602603, 26126.126126126128, 26226.226226226227, 26326.32632632633, 26426.426426426427, 26526.52652652653, 26626.62662662663, 26726.726726726727, 26826.82682682683, 26926.926926926928, 27027.02702702703, 27127.12712712713, 27227.227227227228, 27327.32732732733, 27427.42742742743, 27527.52752752753, 27627.62762762763, 27727.727727727728, 27827.82782782783, 27927.92792792793, 28028.02802802803, 28128.12812812813, 28228.22822822823, 28328.32832832833, 28428.42842842843, 28528.52852852853, 28628.62862862863, 28728.72872872873, 28828.82882882883, 28928.92892892893, 29029.029029029032, 29129.12912912913, 29229.22922922923, 29329.32932932933, 29429.42942942943, 29529.529529529533, 29629.62962962963, 29729.72972972973, 29829.829829829832, 29929.92992992993, 30030.030030030033, 30130.130130130132, 30230.230230230234, 30330.330330330333, 30430.43043043043, 30530.530530530534, 30630.630630630632, 30730.730730730735, 30830.830830830833, 30930.930930930932, 31031.031031031034, 31131.131131131133, 31231.231231231235, 31331.331331331334, 31431.431431431432, 31531.531531531535, 31631.631631631633, 31731.731731731736, 31831.831831831834, 31931.931931931933, 32032.032032032035, 32132.132132132134, 32232.232232232236, 32332.332332332335, 32432.432432432433, 32532.532532532536, 32632.632632632634, 32732.732732732737, 32832.832832832835, 32932.932932932934, 33033.03303303303, 33133.13313313314, 33233.23323323324, 33333.333333333336, 33433.433433433434, 33533.53353353353, 33633.63363363364, 33733.73373373374, 33833.833833833836, 33933.933933933935, 34034.03403403403, 34134.13413413414, 34234.23423423424, 34334.33433433434, 34434.434434434435, 34534.534534534534, 34634.63463463464, 34734.73473473474, 34834.83483483484, 34934.934934934936, 35035.035035035035, 35135.13513513514, 35235.23523523524, 35335.33533533534, 35435.43543543544, 35535.535535535535, 35635.63563563564, 35735.73573573574, 35835.83583583584, 35935.93593593594, 36036.036036036036, 36136.13613613614, 36236.23623623624, 36336.33633633634, 36436.43643643644, 36536.536536536536, 36636.63663663664, 36736.73673673674, 36836.83683683684, 36936.93693693694, 37037.03703703704, 37137.13713713714, 37237.23723723724, 37337.33733733734, 37437.43743743744, 37537.53753753754, 37637.63763763764, 37737.73773773774, 37837.83783783784, 37937.93793793794, 38038.03803803804, 38138.13813813814, 38238.23823823824, 38338.33833833834, 38438.43843843844, 38538.53853853854, 38638.638638638644, 38738.73873873874, 38838.83883883884, 38938.93893893894, 39039.03903903904, 39139.139139139144, 39239.23923923924, 39339.33933933934, 39439.43943943944, 39539.53953953954, 39639.639639639645, 39739.73973973974, 39839.83983983984, 39939.93993993994, 40040.04004004004, 40140.140140140145, 40240.240240240244, 40340.34034034034, 40440.44044044044, 40540.54054054054, 40640.640640640646, 40740.740740740745, 40840.84084084084, 40940.94094094094, 41041.04104104104, 41141.14114114115, 41241.241241241245, 41341.341341341344, 41441.44144144144, 41541.54154154154, 41641.64164164165, 41741.741741741745, 41841.841841841844, 41941.94194194194, 42042.04204204204, 42142.14214214215, 42242.242242242246, 42342.342342342345, 42442.44244244244, 42542.54254254254, 42642.64264264265, 42742.74274274275, 42842.842842842845, 42942.942942942944, 43043.04304304305, 43143.14314314315, 43243.24324324325, 43343.343343343346, 43443.443443443444, 43543.54354354355, 43643.64364364365, 43743.74374374375, 43843.843843843846, 43943.943943943945, 44044.04404404405, 44144.14414414415, 44244.24424424425, 44344.34434434435, 44444.444444444445, 44544.54454454455, 44644.64464464465, 44744.74474474475, 44844.84484484485, 44944.944944944946, 45045.04504504505, 45145.14514514515, 45245.24524524525, 45345.34534534535, 45445.445445445446, 45545.54554554555, 45645.64564564565, 45745.74574574575, 45845.84584584585, 45945.94594594595, 46046.04604604605, 46146.14614614615, 46246.24624624625, 46346.34634634635, 46446.44644644645, 46546.54654654655, 46646.64664664665, 46746.74674674675, 46846.84684684685, 46946.94694694695, 47047.047047047054, 47147.14714714715, 47247.24724724725, 47347.34734734735, 47447.44744744745, 47547.547547547554, 47647.64764764765, 47747.74774774775, 47847.84784784785, 47947.94794794795, 48048.048048048055, 48148.14814814815, 48248.24824824825, 48348.34834834835, 48448.44844844845, 48548.548548548555, 48648.648648648654, 48748.74874874875, 48848.84884884885, 48948.94894894895, 49049.049049049056, 49149.149149149154, 49249.24924924925, 49349.34934934935, 49449.44944944945, 49549.549549549556, 49649.649649649655, 49749.74974974975, 49849.84984984985, 49949.94994994995, 50050.05005005006, 50150.150150150155, 50250.250250250254, 50350.35035035035, 50450.45045045045, 50550.55055055056, 50650.650650650656, 50750.750750750754, 50850.85085085085, 50950.95095095095, 51051.05105105106, 51151.151151151156, 51251.251251251255, 51351.35135135135, 51451.45145145145, 51551.55155155156, 51651.65165165166, 51751.751751751755, 51851.851851851854, 51951.95195195195, 52052.05205205206, 52152.15215215216, 52252.252252252256, 52352.352352352355, 52452.45245245245, 52552.55255255256, 52652.65265265266, 52752.752752752756, 52852.852852852855, 52952.95295295295, 53053.05305305306, 53153.15315315316, 53253.25325325326, 53353.353353353355, 53453.453453453454, 53553.55355355356, 53653.65365365366, 53753.75375375376, 53853.853853853856, 53953.953953953955, 54054.05405405406, 54154.15415415416, 54254.25425425426, 54354.35435435436, 54454.454454454455, 54554.55455455456, 54654.65465465466, 54754.75475475476, 54854.85485485486, 54954.954954954956, 55055.05505505506, 55155.15515515516, 55255.25525525526, 55355.35535535536, 55455.455455455456, 55555.55555555556, 55655.65565565566, 55755.75575575576, 55855.85585585586, 55955.95595595596, 56056.05605605606, 56156.15615615616, 56256.25625625626, 56356.35635635636, 56456.45645645646, 56556.55655655656, 56656.65665665666, 56756.75675675676, 56856.85685685686, 56956.95695695696, 57057.05705705706, 57157.15715715716, 57257.25725725726, 57357.35735735736, 57457.45745745746, 57557.557557557564, 57657.65765765766, 57757.75775775776, 57857.85785785786, 57957.95795795796, 58058.058058058064, 58158.15815815816, 58258.25825825826, 58358.35835835836, 58458.45845845846, 58558.558558558565, 58658.65865865866, 58758.75875875876, 58858.85885885886, 58958.95895895896, 59059.059059059065, 59159.159159159164, 59259.25925925926, 59359.35935935936, 59459.45945945946, 59559.559559559566, 59659.659659659665, 59759.75975975976, 59859.85985985986, 59959.95995995997, 60060.06006006007, 60160.160160160165, 60260.260260260264, 60360.36036036036, 60460.46046046047, 60560.56056056057, 60660.660660660666, 60760.760760760764, 60860.86086086086, 60960.96096096097, 61061.06106106107, 61161.161161161166, 61261.261261261265, 61361.36136136136, 61461.46146146147, 61561.56156156157, 61661.66166166167, 61761.761761761765, 61861.861861861864, 61961.96196196197, 62062.06206206207, 62162.16216216217, 62262.262262262266, 62362.362362362364, 62462.46246246247, 62562.56256256257, 62662.66266266267, 62762.762762762766, 62862.862862862865, 62962.96296296297, 63063.06306306307, 63163.16316316317, 63263.26326326327, 63363.363363363365, 63463.46346346347, 63563.56356356357, 63663.66366366367, 63763.76376376377, 63863.863863863866, 63963.96396396397, 64064.06406406407, 64164.16416416417, 64264.26426426427, 64364.364364364366, 64464.46446446447, 64564.56456456457, 64664.66466466467, 64764.76476476477, 64864.86486486487, 64964.96496496497, 65065.06506506507, 65165.16516516517, 65265.26526526527, 65365.36536536537, 65465.46546546547, 65565.56556556557, 65665.66566566567, 65765.76576576577, 65865.86586586587, 65965.96596596597, 66066.06606606607, 66166.16616616616, 66266.26626626628, 66366.36636636638, 66466.46646646647, 66566.56656656657, 66666.66666666667, 66766.76676676677, 66866.86686686687, 66966.96696696697, 67067.06706706707, 67167.16716716716, 67267.26726726728, 67367.36736736738, 67467.46746746748, 67567.56756756757, 67667.66766766767, 67767.76776776777, 67867.86786786787, 67967.96796796797, 68068.06806806807, 68168.16816816817, 68268.26826826828, 68368.36836836838, 68468.46846846848, 68568.56856856857, 68668.66866866867, 68768.76876876877, 68868.86886886887, 68968.96896896897, 69069.06906906907, 69169.16916916918, 69269.26926926928, 69369.36936936938, 69469.46946946948, 69569.56956956958, 69669.66966966967, 69769.76976976977, 69869.86986986987, 69969.96996996997, 70070.07007007007, 70170.17017017018, 70270.27027027028, 70370.37037037038, 70470.47047047048, 70570.57057057058, 70670.67067067068, 70770.77077077077, 70870.87087087087, 70970.97097097097, 71071.07107107107, 71171.17117117118, 71271.27127127128, 71371.37137137138, 71471.47147147148, 71571.57157157158, 71671.67167167168, 71771.77177177178, 71871.87187187187, 71971.97197197197, 72072.07207207207, 72172.17217217218, 72272.27227227228, 72372.37237237238, 72472.47247247248, 72572.57257257258, 72672.67267267268, 72772.77277277278, 72872.87287287287, 72972.97297297297, 73073.07307307307, 73173.17317317319, 73273.27327327328, 73373.37337337338, 73473.47347347348, 73573.57357357358, 73673.67367367368, 73773.77377377378, 73873.87387387388, 73973.97397397397, 74074.07407407407, 74174.17417417419, 74274.27427427428, 74374.37437437438, 74474.47447447448, 74574.57457457458, 74674.67467467468, 74774.77477477478, 74874.87487487488, 74974.97497497498, 75075.07507507507, 75175.17517517519, 75275.27527527529, 75375.37537537538, 75475.47547547548, 75575.57557557558, 75675.67567567568, 75775.77577577578, 75875.87587587588, 75975.97597597598, 76076.07607607607, 76176.17617617619, 76276.27627627629, 76376.37637637639, 76476.47647647648, 76576.57657657658, 76676.67667667668, 76776.77677677678, 76876.87687687688, 76976.97697697698, 77077.07707707708, 77177.17717717719, 77277.27727727729, 77377.37737737739, 77477.47747747749, 77577.57757757758, 77677.67767767768, 77777.77777777778, 77877.87787787788, 77977.97797797798, 78078.07807807808, 78178.17817817819, 78278.27827827829, 78378.37837837839, 78478.47847847849, 78578.57857857858, 78678.67867867868, 78778.77877877878, 78878.87887887888, 78978.97897897898, 79079.07907907908, 79179.17917917919, 79279.27927927929, 79379.37937937939, 79479.47947947949, 79579.57957957959, 79679.67967967968, 79779.77977977978, 79879.87987987988, 79979.97997997998, 80080.08008008008, 80180.18018018019, 80280.28028028029, 80380.38038038039, 80480.48048048049, 80580.58058058059, 80680.68068068069, 80780.78078078078, 80880.88088088088, 80980.98098098098, 81081.08108108108, 81181.1811811812, 81281.28128128129, 81381.38138138139, 81481.48148148149, 81581.58158158159, 81681.68168168169, 81781.78178178178, 81881.88188188188, 81981.98198198198, 82082.08208208208, 82182.1821821822, 82282.2822822823, 82382.38238238239, 82482.48248248249, 82582.58258258259, 82682.68268268269, 82782.78278278279, 82882.88288288288, 82982.98298298298, 83083.08308308308, 83183.1831831832, 83283.2832832833, 83383.38338338339, 83483.48348348349, 83583.58358358359, 83683.68368368369, 83783.78378378379, 83883.88388388389, 83983.98398398398, 84084.08408408408, 84184.1841841842, 84284.2842842843, 84384.3843843844, 84484.48448448449, 84584.58458458459, 84684.68468468469, 84784.78478478479, 84884.88488488489, 84984.98498498499, 85085.08508508508, 85185.1851851852, 85285.2852852853, 85385.3853853854, 85485.4854854855, 85585.58558558559, 85685.68568568569, 85785.78578578579, 85885.88588588589, 85985.98598598599, 86086.0860860861, 86186.1861861862, 86286.2862862863, 86386.3863863864, 86486.4864864865, 86586.58658658659, 86686.68668668669, 86786.78678678679, 86886.88688688689, 86986.98698698699, 87087.0870870871, 87187.1871871872, 87287.2872872873, 87387.3873873874, 87487.4874874875, 87587.5875875876, 87687.68768768769, 87787.78778778779, 87887.88788788789, 87987.98798798799, 88088.0880880881, 88188.1881881882, 88288.2882882883, 88388.3883883884, 88488.4884884885, 88588.5885885886, 88688.6886886887, 88788.78878878879, 88888.88888888889, 88988.98898898899, 89089.0890890891, 89189.1891891892, 89289.2892892893, 89389.3893893894, 89489.4894894895, 89589.5895895896, 89689.6896896897, 89789.7897897898, 89889.88988988989, 89989.98998998999, 90090.0900900901, 90190.1901901902, 90290.2902902903, 90390.3903903904, 90490.4904904905, 90590.5905905906, 90690.6906906907, 90790.7907907908, 90890.89089089089, 90990.99099099099, 91091.0910910911, 91191.1911911912, 91291.2912912913, 91391.3913913914, 91491.4914914915, 91591.5915915916, 91691.6916916917, 91791.7917917918, 91891.8918918919, 91991.99199199199, 92092.0920920921, 92192.1921921922, 92292.2922922923, 92392.3923923924, 92492.4924924925, 92592.5925925926, 92692.6926926927, 92792.7927927928, 92892.8928928929, 92992.992992993, 93093.0930930931, 93193.1931931932, 93293.2932932933, 93393.3933933934, 93493.4934934935, 93593.5935935936, 93693.6936936937, 93793.7937937938, 93893.8938938939, 93993.993993994, 94094.09409409411, 94194.1941941942, 94294.2942942943, 94394.3943943944, 94494.4944944945, 94594.5945945946, 94694.6946946947, 94794.7947947948, 94894.8948948949, 94994.994994995, 95095.09509509511, 95195.1951951952, 95295.2952952953, 95395.3953953954, 95495.4954954955, 95595.5955955956, 95695.6956956957, 95795.7957957958, 95895.8958958959, 95995.995995996, 96096.09609609611, 96196.19619619621, 96296.2962962963, 96396.3963963964, 96496.4964964965, 96596.5965965966, 96696.6966966967, 96796.7967967968, 96896.8968968969, 96996.996996997, 97097.09709709711, 97197.19719719721, 97297.29729729731, 97397.3973973974, 97497.4974974975, 97597.5975975976, 97697.6976976977, 97797.7977977978, 97897.8978978979, 97997.997997998, 98098.09809809811, 98198.19819819821, 98298.29829829831, 98398.3983983984, 98498.4984984985, 98598.5985985986, 98698.6986986987, 98798.7987987988, 98898.8988988989, 98998.998998999, 99099.09909909911, 99199.19919919921, 99299.29929929931, 99399.39939939941, 99499.4994994995, 99599.5995995996, 99699.6996996997, 99799.7997997998, 99899.8998998999, 100000.0], \"xaxis\": \"x\", \"y\": [5.821070654502937, 5.823224489974741, 5.825378325446546, 5.8275321609183495, 5.829685996390154, 5.831839831861958, 5.833993667333763, 5.8361475028055665, 5.838301338277371, 5.840455173749175, 5.84260900922098, 5.8447628446927835, 5.846916680164588, 5.8490705156363925, 5.851224351108197, 5.8533781865800005, 5.855532022051805, 5.8576858575236095, 5.859839692995414, 5.8619935284672176, 5.864147363939022, 5.8663011994108265, 5.868455034882631, 5.870608870354435, 5.872762705826239, 5.8749165412980435, 5.877070376769848, 5.879224212241652, 5.881378047713456, 5.8835318831852605, 5.885685718657065, 5.887839554128869, 5.889993389600673, 5.892147225072478, 5.894301060544282, 5.896454896016086, 5.89860873148789, 5.900762566959695, 5.902916402431499, 5.905070237903303, 5.907224073375107, 5.909377908846912, 5.911531744318716, 5.91368557979052, 5.915839415262324, 5.917993250734129, 5.920147086205933, 5.922300921677737, 5.924454757149541, 5.926608592621346, 5.92876242809315, 5.930916263564954, 5.933070099036758, 5.935223934508563, 5.937377769980367, 5.939531605452171, 5.941685440923975, 5.94383927639578, 5.945993111867584, 5.948146947339388, 5.950300782811192, 5.952454618282997, 5.954608453754801, 5.956762289226605, 5.958916124698409, 5.961069960170214, 5.963223795642018, 5.965377631113822, 5.967531466585626, 5.969685302057431, 5.971839137529235, 5.973992973001039, 5.976146808472843, 5.978300643944648, 5.980454479416452, 5.982608314888256, 5.98476215036006, 5.986915985831865, 5.989069821303669, 5.991223656775473, 5.993377492247277, 5.995531327719082, 5.997685163190886, 5.99983899866269, 6.001992834134494, 6.004146669606299, 6.006300505078103, 6.008454340549907, 6.010608176021711, 6.012762011493516, 6.01491584696532, 6.017069682437124, 6.019223517908928, 6.021377353380733, 6.023531188852537, 6.025685024324341, 6.027838859796145, 6.02999269526795, 6.032146530739754, 6.034300366211558, 6.036454201683362, 6.038608037155167, 6.040761872626971, 6.042915708098775, 6.0450695435705795, 6.047223379042384, 6.049377214514188, 6.051531049985992, 6.0536848854577965, 6.055838720929601, 6.057992556401405, 6.060146391873209, 6.0623002273450135, 6.064454062816818, 6.0666078982886225, 6.068761733760426, 6.0709155692322305, 6.073069404704035, 6.0752232401758395, 6.077377075647643, 6.0795309111194475, 6.081684746591252, 6.0838385820630565, 6.08599241753486, 6.088146253006665, 6.090300088478469, 6.0924539239502735, 6.094607759422077, 6.096761594893882, 6.098915430365686, 6.1010692658374905, 6.103223101309294, 6.105376936781099, 6.107530772252903, 6.109684607724708, 6.111838443196511, 6.113992278668316, 6.11614611414012, 6.118299949611925, 6.120453785083728, 6.122607620555533, 6.124761456027337, 6.126915291499142, 6.129069126970945, 6.13122296244275, 6.133376797914554, 6.135530633386359, 6.137684468858162, 6.139838304329967, 6.141992139801771, 6.144145975273576, 6.146299810745379, 6.148453646217184, 6.150607481688988, 6.152761317160793, 6.154915152632596, 6.157068988104401, 6.159222823576205, 6.16137665904801, 6.163530494519813, 6.165684329991618, 6.167838165463422, 6.169992000935227, 6.17214583640703, 6.174299671878835, 6.176453507350639, 6.178607342822444, 6.180761178294247, 6.182915013766052, 6.185068849237856, 6.187222684709661, 6.189376520181464, 6.191530355653269, 6.193684191125073, 6.195838026596878, 6.197991862068681, 6.200145697540486, 6.20229953301229, 6.204453368484095, 6.206607203955898, 6.208761039427703, 6.210914874899507, 6.213068710371312, 6.215222545843115, 6.21737638131492, 6.219530216786724, 6.221684052258529, 6.223837887730332, 6.225991723202137, 6.228145558673941, 6.230299394145746, 6.232453229617549, 6.234607065089354, 6.236760900561158, 6.238914736032963, 6.2410685715047665, 6.243222406976571, 6.245376242448375, 6.24753007792018, 6.2496839133919835, 6.251837748863788, 6.253991584335592, 6.256145419807397, 6.2582992552792005, 6.260453090751005, 6.2626069262228095, 6.264760761694614, 6.2669145971664175, 6.269068432638222, 6.2712222681100265, 6.273376103581831, 6.2755299390536345, 6.277683774525439, 6.2798376099972435, 6.281991445469048, 6.284145280940852, 6.286299116412656, 6.2884529518844605, 6.290606787356265, 6.292760622828069, 6.294914458299873, 6.2970682937716775, 6.299222129243482, 6.301375964715286, 6.30352980018709, 6.305683635658895, 6.307837471130699, 6.309991306602503, 6.312145142074307, 6.314298977546112, 6.316452813017916, 6.31860664848972, 6.320760483961524, 6.322914319433329, 6.325068154905133, 6.3272219903769376, 6.329375825848741, 6.331529661320546, 6.33368349679235, 6.335837332264154, 6.337991167735958, 6.340145003207763, 6.342298838679567, 6.344452674151372, 6.346606509623175, 6.34876034509498, 6.350914180566784, 6.353068016038588, 6.355221851510392, 6.357375686982197, 6.359529522454001, 6.361683357925805, 6.363837193397609, 6.365991028869414, 6.368144864341218, 6.370298699813022, 6.372452535284826, 6.374606370756631, 6.376760206228435, 6.378914041700239, 6.381067877172043, 6.383221712643848, 6.385375548115652, 6.387529383587456, 6.38968321905926, 6.391837054531065, 6.393990890002869, 6.396144725474673, 6.398298560946477, 6.400452396418282, 6.402606231890086, 6.40476006736189, 6.406913902833694, 6.409067738305499, 6.411221573777303, 6.413375409249108, 6.415529244720911, 6.417683080192716, 6.41983691566452, 6.421990751136324, 6.424144586608128, 6.426298422079933, 6.428452257551737, 6.430606093023542, 6.432759928495345, 6.43491376396715, 6.437067599438954, 6.439221434910758, 6.441375270382562, 6.443529105854367, 6.445682941326171, 6.447836776797976, 6.449990612269779, 6.452144447741584, 6.454298283213388, 6.456452118685192, 6.4586059541569965, 6.460759789628801, 6.462913625100605, 6.46506746057241, 6.4672212960442135, 6.469375131516018, 6.471528966987822, 6.473682802459626, 6.4758366379314305, 6.477990473403235, 6.4801443088750394, 6.482298144346844, 6.4844519798186475, 6.486605815290452, 6.4887596507622565, 6.49091348623406, 6.4930673217058645, 6.495221157177669, 6.4973749926494735, 6.499528828121278, 6.501682663593082, 6.503836499064886, 6.5059903345366905, 6.508144170008494, 6.510298005480299, 6.512451840952103, 6.5146056764239075, 6.516759511895712, 6.518913347367516, 6.52106718283932, 6.5232210183111246, 6.525374853782928, 6.527528689254733, 6.529682524726537, 6.531836360198342, 6.533990195670146, 6.53614403114195, 6.538297866613754, 6.540451702085559, 6.542605537557362, 6.544759373029167, 6.546913208500971, 6.549067043972776, 6.55122087944458, 6.553374714916384, 6.555528550388188, 6.557682385859993, 6.559836221331796, 6.561990056803601, 6.564143892275405, 6.56629772774721, 6.568451563219014, 6.570605398690818, 6.572759234162622, 6.574913069634427, 6.577066905106231, 6.579220740578035, 6.581374576049839, 6.583528411521644, 6.585682246993448, 6.587836082465252, 6.589989917937056, 6.592143753408861, 6.594297588880664, 6.596451424352469, 6.598605259824273, 6.600759095296078, 6.602912930767882, 6.605066766239686, 6.60722060171149, 6.609374437183295, 6.611528272655098, 6.613682108126903, 6.615835943598707, 6.617989779070512, 6.620143614542316, 6.62229745001412, 6.624451285485924, 6.626605120957729, 6.628758956429532, 6.630912791901337, 6.633066627373141, 6.635220462844946, 6.63737429831675, 6.639528133788554, 6.641681969260358, 6.643835804732163, 6.645989640203966, 6.648143475675771, 6.650297311147575, 6.65245114661938, 6.654604982091184, 6.656758817562988, 6.658912653034792, 6.661066488506597, 6.663220323978401, 6.665374159450205, 6.667527994922009, 6.669681830393814, 6.671835665865618, 6.673989501337422, 6.6761433368092264, 6.678297172281031, 6.6804510077528345, 6.682604843224639, 6.6847586786964435, 6.686912514168248, 6.689066349640052, 6.691220185111856, 6.6933740205836605, 6.695527856055465, 6.697681691527269, 6.699835526999073, 6.7019893624708775, 6.704143197942682, 6.7062970334144865, 6.70845086888629, 6.7106047043580945, 6.712758539829899, 6.714912375301703, 6.717066210773507, 6.7192200462453116, 6.721373881717116, 6.7235277171889205, 6.725681552660724, 6.727835388132529, 6.729989223604333, 6.732143059076137, 6.734296894547941, 6.736450730019746, 6.73860456549155, 6.7407584009633545, 6.742912236435158, 6.745066071906963, 6.747219907378767, 6.749373742850572, 6.751527578322375, 6.75368141379418, 6.755835249265984, 6.757989084737789, 6.760142920209592, 6.762296755681397, 6.764450591153201, 6.766604426625005, 6.768758262096809, 6.770912097568614, 6.773065933040418, 6.775219768512223, 6.777373603984026, 6.779527439455831, 6.781681274927635, 6.78383511039944, 6.785988945871243, 6.788142781343048, 6.790296616814852, 6.792450452286657, 6.79460428775846, 6.796758123230265, 6.798911958702069, 6.801065794173874, 6.803219629645677, 6.805373465117482, 6.807527300589286, 6.809681136061091, 6.811834971532894, 6.813988807004699, 6.816142642476503, 6.818296477948308, 6.820450313420111, 6.822604148891916, 6.82475798436372, 6.826911819835525, 6.829065655307328, 6.831219490779133, 6.833373326250937, 6.835527161722742, 6.837680997194545, 6.83983483266635, 6.841988668138154, 6.844142503609959, 6.846296339081762, 6.848450174553567, 6.850604010025371, 6.852757845497175, 6.85491168096898, 6.857065516440784, 6.859219351912588, 6.861373187384393, 6.863527022856196, 6.865680858328001, 6.867834693799805, 6.869988529271609, 6.8721423647434134, 6.874296200215218, 6.876450035687022, 6.878603871158827, 6.8807577066306305, 6.882911542102435, 6.885065377574239, 6.887219213046044, 6.889373048517848, 6.891526883989652, 6.893680719461456, 6.895834554933261, 6.8979883904050645, 6.900142225876869, 6.9022960613486735, 6.904449896820477, 6.9066037322922815, 6.908757567764086, 6.9109114032358905, 6.913065238707695, 6.9152190741794985, 6.917372909651303, 6.9195267451231075, 6.921680580594912, 6.9238344160667165, 6.92598825153852, 6.9281420870103245, 6.930295922482129, 6.932449757953933, 6.934603593425737, 6.9367574288975415, 6.938911264369345, 6.9410650998411505, 6.943218935312954, 6.945372770784759, 6.947526606256563, 6.949680441728367, 6.951834277200171, 6.953988112671976, 6.95614194814378, 6.958295783615584, 6.960449619087388, 6.962603454559193, 6.964757290030997, 6.966911125502801, 6.969064960974605, 6.97121879644641, 6.973372631918214, 6.975526467390019, 6.977680302861822, 6.979834138333627, 6.981987973805431, 6.984141809277235, 6.986295644749039, 6.988449480220844, 6.990603315692647, 6.992757151164452, 6.994910986636256, 6.997064822108061, 6.999218657579865, 7.001372493051669, 7.003526328523473, 7.005680163995278, 7.007833999467082, 7.009987834938887, 7.01214167041069, 7.014295505882495, 7.016449341354299, 7.018603176826103, 7.020757012297907, 7.022910847769712, 7.025064683241515, 7.027218518713321, 7.029372354185124, 7.031526189656929, 7.033680025128733, 7.035833860600537, 7.037987696072341, 7.040141531544146, 7.04229536701595, 7.044449202487754, 7.046603037959558, 7.048756873431363, 7.050910708903167, 7.053064544374971, 7.055218379846775, 7.05737221531858, 7.059526050790384, 7.061679886262189, 7.063833721733992, 7.065987557205797, 7.068141392677601, 7.070295228149405, 7.072449063621209, 7.074602899093014, 7.076756734564818, 7.078910570036622, 7.081064405508426, 7.083218240980231, 7.085372076452035, 7.087525911923839, 7.089679747395643, 7.091833582867448, 7.093987418339252, 7.096141253811057, 7.0982950892828605, 7.100448924754665, 7.102602760226469, 7.104756595698273, 7.1069104311700775, 7.109064266641882, 7.111218102113686, 7.113371937585491, 7.1155257730572945, 7.117679608529099, 7.1198334440009035, 7.121987279472707, 7.1241411149445115, 7.126294950416316, 7.1284487858881205, 7.130602621359925, 7.1327564568317285, 7.134910292303533, 7.1370641277753375, 7.139217963247141, 7.141371798718946, 7.14352563419075, 7.1456794696625545, 7.147833305134359, 7.149987140606163, 7.152140976077967, 7.1542948115497715, 7.156448647021575, 7.15860248249338, 7.160756317965184, 7.162910153436989, 7.165063988908793, 7.167217824380597, 7.169371659852401, 7.171525495324206, 7.173679330796009, 7.175833166267814, 7.177987001739618, 7.180140837211423, 7.182294672683227, 7.184448508155031, 7.186602343626835, 7.18875617909864, 7.190910014570443, 7.193063850042248, 7.195217685514052, 7.197371520985857, 7.199525356457661, 7.201679191929465, 7.203833027401269, 7.205986862873074, 7.208140698344877, 7.210294533816682, 7.212448369288486, 7.214602204760291, 7.216756040232095, 7.218909875703899, 7.221063711175703, 7.223217546647508, 7.225371382119311, 7.227525217591116, 7.22967905306292, 7.231832888534725, 7.233986724006529, 7.236140559478333, 7.238294394950137, 7.240448230421942, 7.242602065893745, 7.24475590136555, 7.246909736837354, 7.249063572309159, 7.251217407780963, 7.253371243252767, 7.255525078724571, 7.257678914196376, 7.259832749668179, 7.261986585139984, 7.264140420611788, 7.266294256083592, 7.268448091555397, 7.270601927027201, 7.272755762499005, 7.27490959797081, 7.277063433442613, 7.279217268914418, 7.281371104386222, 7.283524939858027, 7.28567877532983, 7.287832610801635, 7.289986446273439, 7.292140281745244, 7.2942941172170475, 7.296447952688852, 7.298601788160656, 7.300755623632461, 7.302909459104265, 7.305063294576069, 7.307217130047873, 7.309370965519678, 7.311524800991482, 7.313678636463286, 7.3158324719350905, 7.317986307406895, 7.320140142878699, 7.322293978350503, 7.3244478138223075, 7.326601649294112, 7.3287554847659155, 7.330909320237721, 7.3330631557095245, 7.335216991181329, 7.3373708266531334, 7.339524662124937, 7.3416784975967415, 7.343832333068546, 7.34598616854035, 7.348140004012154, 7.3502938394839585, 7.352447674955763, 7.3546015104275675, 7.356755345899371, 7.358909181371176, 7.36106301684298, 7.363216852314784, 7.365370687786588, 7.367524523258393, 7.369678358730197, 7.3718321942020015, 7.373986029673805, 7.37613986514561, 7.378293700617414, 7.380447536089218, 7.382601371561022, 7.384755207032827, 7.386909042504631, 7.389062877976436, 7.391216713448239, 7.393370548920044, 7.395524384391848, 7.397678219863653, 7.399832055335457, 7.401985890807261, 7.404139726279065, 7.40629356175087, 7.408447397222673, 7.410601232694478, 7.412755068166282, 7.414908903638086, 7.417062739109891, 7.419216574581695, 7.421370410053499, 7.423524245525304, 7.425678080997107, 7.427831916468912, 7.429985751940716, 7.43213958741252, 7.434293422884324, 7.436447258356129, 7.438601093827933, 7.440754929299738, 7.442908764771541, 7.445062600243346, 7.44721643571515, 7.449370271186954, 7.451524106658758, 7.453677942130563, 7.455831777602367, 7.457985613074172, 7.460139448545975, 7.46229328401778, 7.464447119489584, 7.466600954961388, 7.468754790433192, 7.470908625904997, 7.473062461376801, 7.475216296848606, 7.477370132320409, 7.479523967792214, 7.481677803264018, 7.483831638735823, 7.485985474207627, 7.488139309679431, 7.490293145151235, 7.49244698062304, 7.494600816094843, 7.496754651566648, 7.498908487038452, 7.501062322510256, 7.503216157982061, 7.505369993453865, 7.507523828925669, 7.509677664397474, 7.5118314998692775, 7.513985335341082, 7.516139170812886, 7.51829300628469, 7.5204468417564945, 7.522600677228299, 7.524754512700103, 7.526908348171908, 7.5290621836437115, 7.531216019115516, 7.5333698545873204, 7.535523690059124, 7.5376775255309285, 7.539831361002733, 7.5419851964745375, 7.544139031946342, 7.5462928674181455, 7.54844670288995, 7.5506005383617545, 7.552754373833559, 7.5549082093053626, 7.557062044777167, 7.5592158802489715, 7.561369715720776, 7.56352355119258, 7.565677386664384, 7.5678312221361885, 7.569985057607993, 7.5721388930797975, 7.574292728551601, 7.5764465640234055, 7.57860039949521, 7.580754234967014, 7.582908070438818, 7.585061905910623, 7.587215741382426, 7.5893695768542315, 7.591523412326035, 7.59367724779784, 7.595831083269644, 7.597984918741448, 7.600138754213252, 7.602292589685057, 7.60444642515686, 7.606600260628665, 7.608754096100469, 7.610907931572274, 7.613061767044078, 7.615215602515882, 7.617369437987686, 7.619523273459491, 7.621677108931294, 7.623830944403099, 7.625984779874903, 7.628138615346708, 7.630292450818512, 7.632446286290316, 7.63460012176212, 7.636753957233925, 7.638907792705729, 7.641061628177534, 7.643215463649337, 7.645369299121142, 7.647523134592946, 7.64967697006475, 7.651830805536554, 7.653984641008359, 7.656138476480163, 7.658292311951968, 7.660446147423771, 7.662599982895576, 7.66475381836738, 7.666907653839184, 7.669061489310988, 7.671215324782793, 7.673369160254597, 7.675522995726402, 7.677676831198205, 7.67983066667001, 7.681984502141814, 7.684138337613618, 7.686292173085422, 7.688446008557227, 7.69059984402903, 7.692753679500835, 7.694907514972639, 7.697061350444444, 7.699215185916248, 7.701369021388052, 7.703522856859856, 7.705676692331661, 7.7078305278034644, 7.709984363275269, 7.712138198747073, 7.714292034218878, 7.716445869690682, 7.718599705162486, 7.72075354063429, 7.722907376106095, 7.725061211577899, 7.727215047049704, 7.7293688825215074, 7.731522717993312, 7.733676553465116, 7.73583038893692, 7.7379842244087245, 7.740138059880529, 7.742291895352333, 7.744445730824138, 7.7465995662959415, 7.748753401767746, 7.75090723723955, 7.753061072711354, 7.7552149081831585, 7.757368743654963, 7.7595225791267675, 7.761676414598572, 7.7638302500703755, 7.76598408554218, 7.7681379210139845, 7.770291756485788, 7.7724455919575925, 7.774599427429397, 7.776753262901201, 7.778907098373005, 7.78106093384481, 7.783214769316614, 7.7853686047884185, 7.787522440260222, 7.789676275732027, 7.791830111203831, 7.7939839466756355, 7.796137782147439, 7.798291617619244, 7.800445453091048, 7.802599288562853, 7.804753124034656, 7.806906959506461, 7.809060794978265, 7.81121463045007, 7.813368465921874, 7.815522301393678, 7.817676136865482, 7.819829972337287, 7.82198380780909, 7.824137643280896, 7.826291478752699, 7.828445314224504, 7.830599149696308, 7.832752985168112, 7.834906820639916, 7.837060656111721, 7.839214491583524, 7.841368327055329, 7.843522162527133, 7.845675997998938, 7.847829833470742, 7.849983668942546, 7.85213750441435, 7.854291339886155, 7.856445175357958, 7.858599010829763, 7.860752846301567, 7.862906681773371, 7.865060517245176, 7.86721435271698, 7.869368188188784, 7.871522023660589, 7.873675859132392, 7.875829694604197, 7.877983530076001, 7.880137365547805, 7.88229120101961, 7.884445036491414, 7.886598871963218, 7.888752707435023, 7.890906542906826, 7.893060378378632, 7.895214213850435, 7.897368049322239, 7.899521884794044, 7.901675720265848, 7.903829555737652, 7.905983391209457, 7.90813722668126, 7.910291062153066, 7.912444897624869, 7.914598733096674, 7.916752568568478, 7.918906404040282, 7.921060239512086, 7.923214074983891, 7.925367910455694, 7.927521745927499, 7.929675581399303, 7.931829416871108, 7.933983252342912, 7.936137087814716, 7.93829092328652, 7.940444758758325, 7.9425985942301285, 7.944752429701933, 7.946906265173737, 7.949060100645541, 7.951213936117346, 7.95336777158915, 7.9555216070609545, 7.957675442532759, 7.9598292780045625, 7.961983113476367, 7.9641369489481715, 7.966290784419975, 7.96844461989178, 7.970598455363584, 7.9727522908353885], \"yaxis\": \"y\"}, {\"hovertemplate\": \"<b>%{hovertext}</b><br><br>symbol=cyprus<br>x=%{x}<br>y=%{y}<br>size=%{marker.size}<extra></extra>\", \"hovertext\": [\"cyprus\"], \"legendgroup\": \"cyprus\", \"marker\": {\"color\": \"#636efa\", \"size\": [0.01], \"sizemode\": \"area\", \"sizeref\": 2.5e-05, \"symbol\": \"circle\"}, \"mode\": \"markers\", \"name\": \"cyprus\", \"orientation\": \"v\", \"showlegend\": true, \"type\": \"scatter\", \"x\": [22587.49], \"xaxis\": \"x\", \"y\": [6.3070815289413655], \"yaxis\": \"y\"}],                        {\"legend\": {\"orientation\": \"h\"}, \"template\": {\"data\": {\"bar\": [{\"error_x\": {\"color\": \"#2a3f5f\"}, \"error_y\": {\"color\": \"#2a3f5f\"}, \"marker\": {\"line\": {\"color\": \"#E5ECF6\", \"width\": 0.5}}, \"type\": \"bar\"}], \"barpolar\": [{\"marker\": {\"line\": {\"color\": \"#E5ECF6\", \"width\": 0.5}}, \"type\": \"barpolar\"}], \"carpet\": [{\"aaxis\": {\"endlinecolor\": \"#2a3f5f\", \"gridcolor\": \"white\", \"linecolor\": \"white\", \"minorgridcolor\": \"white\", \"startlinecolor\": \"#2a3f5f\"}, \"baxis\": {\"endlinecolor\": \"#2a3f5f\", \"gridcolor\": \"white\", \"linecolor\": \"white\", \"minorgridcolor\": \"white\", \"startlinecolor\": \"#2a3f5f\"}, \"type\": \"carpet\"}], \"choropleth\": [{\"colorbar\": {\"outlinewidth\": 0, \"ticks\": \"\"}, \"type\": \"choropleth\"}], \"contour\": [{\"colorbar\": {\"outlinewidth\": 0, \"ticks\": \"\"}, \"colorscale\": [[0.0, \"#0d0887\"], [0.1111111111111111, \"#46039f\"], [0.2222222222222222, \"#7201a8\"], [0.3333333333333333, \"#9c179e\"], [0.4444444444444444, \"#bd3786\"], [0.5555555555555556, \"#d8576b\"], [0.6666666666666666, \"#ed7953\"], [0.7777777777777778, \"#fb9f3a\"], [0.8888888888888888, \"#fdca26\"], [1.0, \"#f0f921\"]], \"type\": \"contour\"}], \"contourcarpet\": [{\"colorbar\": {\"outlinewidth\": 0, \"ticks\": \"\"}, \"type\": \"contourcarpet\"}], \"heatmap\": [{\"colorbar\": {\"outlinewidth\": 0, \"ticks\": \"\"}, \"colorscale\": [[0.0, \"#0d0887\"], [0.1111111111111111, \"#46039f\"], [0.2222222222222222, \"#7201a8\"], [0.3333333333333333, \"#9c179e\"], [0.4444444444444444, \"#bd3786\"], [0.5555555555555556, \"#d8576b\"], [0.6666666666666666, \"#ed7953\"], [0.7777777777777778, \"#fb9f3a\"], [0.8888888888888888, \"#fdca26\"], [1.0, \"#f0f921\"]], \"type\": \"heatmap\"}], \"heatmapgl\": [{\"colorbar\": {\"outlinewidth\": 0, \"ticks\": \"\"}, \"colorscale\": [[0.0, \"#0d0887\"], [0.1111111111111111, \"#46039f\"], [0.2222222222222222, \"#7201a8\"], [0.3333333333333333, \"#9c179e\"], [0.4444444444444444, \"#bd3786\"], [0.5555555555555556, \"#d8576b\"], [0.6666666666666666, \"#ed7953\"], [0.7777777777777778, \"#fb9f3a\"], [0.8888888888888888, \"#fdca26\"], [1.0, \"#f0f921\"]], \"type\": \"heatmapgl\"}], \"histogram\": [{\"marker\": {\"colorbar\": {\"outlinewidth\": 0, \"ticks\": \"\"}}, \"type\": \"histogram\"}], \"histogram2d\": [{\"colorbar\": {\"outlinewidth\": 0, \"ticks\": \"\"}, \"colorscale\": [[0.0, \"#0d0887\"], [0.1111111111111111, \"#46039f\"], [0.2222222222222222, \"#7201a8\"], [0.3333333333333333, \"#9c179e\"], [0.4444444444444444, \"#bd3786\"], [0.5555555555555556, \"#d8576b\"], [0.6666666666666666, \"#ed7953\"], [0.7777777777777778, \"#fb9f3a\"], [0.8888888888888888, \"#fdca26\"], [1.0, \"#f0f921\"]], \"type\": \"histogram2d\"}], \"histogram2dcontour\": [{\"colorbar\": {\"outlinewidth\": 0, \"ticks\": \"\"}, \"colorscale\": [[0.0, \"#0d0887\"], [0.1111111111111111, \"#46039f\"], [0.2222222222222222, \"#7201a8\"], [0.3333333333333333, \"#9c179e\"], [0.4444444444444444, \"#bd3786\"], [0.5555555555555556, \"#d8576b\"], [0.6666666666666666, \"#ed7953\"], [0.7777777777777778, \"#fb9f3a\"], [0.8888888888888888, \"#fdca26\"], [1.0, \"#f0f921\"]], \"type\": \"histogram2dcontour\"}], \"mesh3d\": [{\"colorbar\": {\"outlinewidth\": 0, \"ticks\": \"\"}, \"type\": \"mesh3d\"}], \"parcoords\": [{\"line\": {\"colorbar\": {\"outlinewidth\": 0, \"ticks\": \"\"}}, \"type\": \"parcoords\"}], \"pie\": [{\"automargin\": true, \"type\": \"pie\"}], \"scatter\": [{\"marker\": {\"colorbar\": {\"outlinewidth\": 0, \"ticks\": \"\"}}, \"type\": \"scatter\"}], \"scatter3d\": [{\"line\": {\"colorbar\": {\"outlinewidth\": 0, \"ticks\": \"\"}}, \"marker\": {\"colorbar\": {\"outlinewidth\": 0, \"ticks\": \"\"}}, \"type\": \"scatter3d\"}], \"scattercarpet\": [{\"marker\": {\"colorbar\": {\"outlinewidth\": 0, \"ticks\": \"\"}}, \"type\": \"scattercarpet\"}], \"scattergeo\": [{\"marker\": {\"colorbar\": {\"outlinewidth\": 0, \"ticks\": \"\"}}, \"type\": \"scattergeo\"}], \"scattergl\": [{\"marker\": {\"colorbar\": {\"outlinewidth\": 0, \"ticks\": \"\"}}, \"type\": \"scattergl\"}], \"scattermapbox\": [{\"marker\": {\"colorbar\": {\"outlinewidth\": 0, \"ticks\": \"\"}}, \"type\": \"scattermapbox\"}], \"scatterpolar\": [{\"marker\": {\"colorbar\": {\"outlinewidth\": 0, \"ticks\": \"\"}}, \"type\": \"scatterpolar\"}], \"scatterpolargl\": [{\"marker\": {\"colorbar\": {\"outlinewidth\": 0, \"ticks\": \"\"}}, \"type\": \"scatterpolargl\"}], \"scatterternary\": [{\"marker\": {\"colorbar\": {\"outlinewidth\": 0, \"ticks\": \"\"}}, \"type\": \"scatterternary\"}], \"surface\": [{\"colorbar\": {\"outlinewidth\": 0, \"ticks\": \"\"}, \"colorscale\": [[0.0, \"#0d0887\"], [0.1111111111111111, \"#46039f\"], [0.2222222222222222, \"#7201a8\"], [0.3333333333333333, \"#9c179e\"], [0.4444444444444444, \"#bd3786\"], [0.5555555555555556, \"#d8576b\"], [0.6666666666666666, \"#ed7953\"], [0.7777777777777778, \"#fb9f3a\"], [0.8888888888888888, \"#fdca26\"], [1.0, \"#f0f921\"]], \"type\": \"surface\"}], \"table\": [{\"cells\": {\"fill\": {\"color\": \"#EBF0F8\"}, \"line\": {\"color\": \"white\"}}, \"header\": {\"fill\": {\"color\": \"#C8D4E3\"}, \"line\": {\"color\": \"white\"}}, \"type\": \"table\"}]}, \"layout\": {\"annotationdefaults\": {\"arrowcolor\": \"#2a3f5f\", \"arrowhead\": 0, \"arrowwidth\": 1}, \"autotypenumbers\": \"strict\", \"coloraxis\": {\"colorbar\": {\"outlinewidth\": 0, \"ticks\": \"\"}}, \"colorscale\": {\"diverging\": [[0, \"#8e0152\"], [0.1, \"#c51b7d\"], [0.2, \"#de77ae\"], [0.3, \"#f1b6da\"], [0.4, \"#fde0ef\"], [0.5, \"#f7f7f7\"], [0.6, \"#e6f5d0\"], [0.7, \"#b8e186\"], [0.8, \"#7fbc41\"], [0.9, \"#4d9221\"], [1, \"#276419\"]], \"sequential\": [[0.0, \"#0d0887\"], [0.1111111111111111, \"#46039f\"], [0.2222222222222222, \"#7201a8\"], [0.3333333333333333, \"#9c179e\"], [0.4444444444444444, \"#bd3786\"], [0.5555555555555556, \"#d8576b\"], [0.6666666666666666, \"#ed7953\"], [0.7777777777777778, \"#fb9f3a\"], [0.8888888888888888, \"#fdca26\"], [1.0, \"#f0f921\"]], \"sequentialminus\": [[0.0, \"#0d0887\"], [0.1111111111111111, \"#46039f\"], [0.2222222222222222, \"#7201a8\"], [0.3333333333333333, \"#9c179e\"], [0.4444444444444444, \"#bd3786\"], [0.5555555555555556, \"#d8576b\"], [0.6666666666666666, \"#ed7953\"], [0.7777777777777778, \"#fb9f3a\"], [0.8888888888888888, \"#fdca26\"], [1.0, \"#f0f921\"]]}, \"colorway\": [\"#636efa\", \"#EF553B\", \"#00cc96\", \"#ab63fa\", \"#FFA15A\", \"#19d3f3\", \"#FF6692\", \"#B6E880\", \"#FF97FF\", \"#FECB52\"], \"font\": {\"color\": \"#2a3f5f\"}, \"geo\": {\"bgcolor\": \"white\", \"lakecolor\": \"white\", \"landcolor\": \"#E5ECF6\", \"showlakes\": true, \"showland\": true, \"subunitcolor\": \"white\"}, \"hoverlabel\": {\"align\": \"left\"}, \"hovermode\": \"closest\", \"mapbox\": {\"style\": \"light\"}, \"paper_bgcolor\": \"white\", \"plot_bgcolor\": \"#E5ECF6\", \"polar\": {\"angularaxis\": {\"gridcolor\": \"white\", \"linecolor\": \"white\", \"ticks\": \"\"}, \"bgcolor\": \"#E5ECF6\", \"radialaxis\": {\"gridcolor\": \"white\", \"linecolor\": \"white\", \"ticks\": \"\"}}, \"scene\": {\"xaxis\": {\"backgroundcolor\": \"#E5ECF6\", \"gridcolor\": \"white\", \"gridwidth\": 2, \"linecolor\": \"white\", \"showbackground\": true, \"ticks\": \"\", \"zerolinecolor\": \"white\"}, \"yaxis\": {\"backgroundcolor\": \"#E5ECF6\", \"gridcolor\": \"white\", \"gridwidth\": 2, \"linecolor\": \"white\", \"showbackground\": true, \"ticks\": \"\", \"zerolinecolor\": \"white\"}, \"zaxis\": {\"backgroundcolor\": \"#E5ECF6\", \"gridcolor\": \"white\", \"gridwidth\": 2, \"linecolor\": \"white\", \"showbackground\": true, \"ticks\": \"\", \"zerolinecolor\": \"white\"}}, \"shapedefaults\": {\"line\": {\"color\": \"#2a3f5f\"}}, \"ternary\": {\"aaxis\": {\"gridcolor\": \"white\", \"linecolor\": \"white\", \"ticks\": \"\"}, \"baxis\": {\"gridcolor\": \"white\", \"linecolor\": \"white\", \"ticks\": \"\"}, \"bgcolor\": \"#E5ECF6\", \"caxis\": {\"gridcolor\": \"white\", \"linecolor\": \"white\", \"ticks\": \"\"}}, \"title\": {\"x\": 0.05}, \"xaxis\": {\"automargin\": true, \"gridcolor\": \"white\", \"linecolor\": \"white\", \"ticks\": \"\", \"title\": {\"standoff\": 15}, \"zerolinecolor\": \"white\", \"zerolinewidth\": 2}, \"yaxis\": {\"automargin\": true, \"gridcolor\": \"white\", \"linecolor\": \"white\", \"ticks\": \"\", \"title\": {\"standoff\": 15}, \"zerolinecolor\": \"white\", \"zerolinewidth\": 2}}}},                        {\"responsive\": true}                    ).then(function(){\n",
       "                            \n",
       "var gd = document.getElementById('85bfbc50-2cd6-442c-b4de-67530bd57810');\n",
       "var x = new MutationObserver(function (mutations, observer) {{\n",
       "        var display = window.getComputedStyle(gd).display;\n",
       "        if (!display || display === 'none') {{\n",
       "            console.log([gd, 'removed!']);\n",
       "            Plotly.purge(gd);\n",
       "            observer.disconnect();\n",
       "        }}\n",
       "}});\n",
       "\n",
       "// Listen for the removal of the full notebook cells\n",
       "var notebookContainer = gd.closest('#notebook-container');\n",
       "if (notebookContainer) {{\n",
       "    x.observe(notebookContainer, {childList: true});\n",
       "}}\n",
       "\n",
       "// Listen for the clearing of the current output cell\n",
       "var outputEl = gd.closest('.output');\n",
       "if (outputEl) {{\n",
       "    x.observe(outputEl, {childList: true});\n",
       "}}\n",
       "\n",
       "                        })                };                });            </script>        </div>"
      ]
     },
     "metadata": {},
     "output_type": "display_data"
    }
   ],
   "source": [
    "fig1=px.scatter(full_country_stats,\n",
    "          x='GDP per Indicator',\n",
    "          y='Life satisfaction',\n",
    "          hover_name=full_country_stats.index,\n",
    "          color=full_country_stats.index)\n",
    "X=np.linspace(0,100000,1000)\n",
    "fig2=px.line(x=X,\n",
    "            y=t0+t1*X)\n",
    "fig4=px.scatter(x=[cryprus_gdp_per_capita],\n",
    "               y=[cryprus_predicted_life_satisfaction],\n",
    "               size=[.01],\n",
    "               hover_name=['cyprus'],\n",
    "               symbol=['cyprus']\n",
    "               )\n",
    "\n",
    "fig3=go.Figure(data=fig1.data+fig2.data+fig4.data)\n",
    "fig3.layout.legend.orientation='h'\n",
    "fig3.show()"
   ]
  },
  {
   "cell_type": "code",
   "execution_count": 285,
   "metadata": {},
   "outputs": [
    {
     "data": {
      "text/html": [
       "<div>\n",
       "<style scoped>\n",
       "    .dataframe tbody tr th:only-of-type {\n",
       "        vertical-align: middle;\n",
       "    }\n",
       "\n",
       "    .dataframe tbody tr th {\n",
       "        vertical-align: top;\n",
       "    }\n",
       "\n",
       "    .dataframe thead th {\n",
       "        text-align: right;\n",
       "    }\n",
       "</style>\n",
       "<table border=\"1\" class=\"dataframe\">\n",
       "  <thead>\n",
       "    <tr style=\"text-align: right;\">\n",
       "      <th></th>\n",
       "      <th>GDP per Indicator</th>\n",
       "      <th>Life satisfaction</th>\n",
       "    </tr>\n",
       "    <tr>\n",
       "      <th>Country</th>\n",
       "      <th></th>\n",
       "      <th></th>\n",
       "    </tr>\n",
       "  </thead>\n",
       "  <tbody>\n",
       "    <tr>\n",
       "      <th>Australia</th>\n",
       "      <td>50961.865</td>\n",
       "      <td>7.3</td>\n",
       "    </tr>\n",
       "    <tr>\n",
       "      <th>Austria</th>\n",
       "      <td>43724.031</td>\n",
       "      <td>6.9</td>\n",
       "    </tr>\n",
       "    <tr>\n",
       "      <th>Czech Republic</th>\n",
       "      <td>17256.918</td>\n",
       "      <td>6.5</td>\n",
       "    </tr>\n",
       "    <tr>\n",
       "      <th>Estonia</th>\n",
       "      <td>17288.083</td>\n",
       "      <td>5.6</td>\n",
       "    </tr>\n",
       "    <tr>\n",
       "      <th>Turkey</th>\n",
       "      <td>9437.372</td>\n",
       "      <td>5.6</td>\n",
       "    </tr>\n",
       "    <tr>\n",
       "      <th>United Kingdom</th>\n",
       "      <td>43770.688</td>\n",
       "      <td>6.8</td>\n",
       "    </tr>\n",
       "    <tr>\n",
       "      <th>United States</th>\n",
       "      <td>55805.204</td>\n",
       "      <td>7.2</td>\n",
       "    </tr>\n",
       "  </tbody>\n",
       "</table>\n",
       "</div>"
      ],
      "text/plain": [
       "                GDP per Indicator  Life satisfaction\n",
       "Country                                             \n",
       "Australia               50961.865                7.3\n",
       "Austria                 43724.031                6.9\n",
       "Czech Republic          17256.918                6.5\n",
       "Estonia                 17288.083                5.6\n",
       "Turkey                   9437.372                5.6\n",
       "United Kingdom          43770.688                6.8\n",
       "United States           55805.204                7.2"
      ]
     },
     "execution_count": 285,
     "metadata": {},
     "output_type": "execute_result"
    }
   ],
   "source": [
    "missing_data"
   ]
  },
  {
   "cell_type": "code",
   "execution_count": 320,
   "metadata": {},
   "outputs": [],
   "source": [
    "position_texts={'Australia':(65000,3.9),\n",
    "                'Austria':(60000,3.5),\n",
    "                'Czech Republic':(30000,3.5),\n",
    "                'Estonia':(17000,3.6),\n",
    "                'Turkey':(9000,3.6),\n",
    "                'United Kingdom':(43000,3.8),\n",
    "                'United States':(70000,5.2)\n",
    "               }"
   ]
  },
  {
   "cell_type": "code",
   "execution_count": 328,
   "metadata": {},
   "outputs": [
    {
     "name": "stdout",
     "output_type": "stream",
     "text": [
      "Saving figure representative_training_data_scatterplot\n"
     ]
    },
    {
     "data": {
      "image/png": "[encoded data removed]",
      "text/plain": [
       "<Figure size 864x360 with 1 Axes>"
      ]
     },
     "metadata": {
      "needs_background": "light"
     },
     "output_type": "display_data"
    }
   ],
   "source": [
    "# add missing data check the influences of the model\n",
    "full_country_stats.plot(kind='scatter',\n",
    "                        x='GDP per Indicator',\n",
    "                        y='Life satisfaction',\n",
    "                        figsize=(12,5)\n",
    "                       )\n",
    "plt.axis([0,100000,0,10])\n",
    "for country,pos_text in position_texts.items():\n",
    "    pos_data_x,pos_data_y=missing_data.loc[country]\n",
    "    plt.plot(pos_data_x,pos_data_y,'rs')\n",
    "    plt.annotate(country,\n",
    "                xy=(pos_data_x,pos_data_y),\n",
    "                xytext=pos_text,\n",
    "                arrowprops=dict(facecolor='black',\n",
    "                                width=0.5,\n",
    "                                shrink=0.1,\n",
    "                                headwidth=5\n",
    "                               ))\n",
    "X=np.linspace(0,100000,1000)\n",
    "plt.plot(X,t0+t1*X,'b:')\n",
    "X_full=np.c_[full_country_samples['GDP per Indicator']]\n",
    "y_full=np.c_[full_country_samples['Life satisfaction']]\n",
    "lin_reg_full=LinearRegression()\n",
    "lin_reg_full.fit(X_full,y_full)\n",
    "t0full,t1full=lin_reg_full.intercept_[0],lin_reg_full.coef_[0][0]\n",
    "plt.plot(X,t0full+t1full*X,'k-')\n",
    "save_fig('representative_training_data_scatterplot')"
   ]
  },
  {
   "cell_type": "code",
   "execution_count": 337,
   "metadata": {},
   "outputs": [
    {
     "name": "stderr",
     "output_type": "stream",
     "text": [
      "C:\\Users\\bo.pei\\AppData\\Roaming\\Python\\Python37\\site-packages\\numpy\\lib\\nanfunctions.py:1544: RuntimeWarning:\n",
      "\n",
      "overflow encountered in multiply\n",
      "\n",
      "C:\\Users\\bo.pei\\AppData\\Roaming\\Python\\Python37\\site-packages\\numpy\\core\\fromnumeric.py:87: RuntimeWarning:\n",
      "\n",
      "overflow encountered in reduce\n",
      "\n"
     ]
    },
    {
     "name": "stdout",
     "output_type": "stream",
     "text": [
      "Saving figure overfitting_model_plot\n"
     ]
    },
    {
     "data": {
      "image/png": "[encoded data removed]",
      "text/plain": [
       "<Figure size 864x216 with 1 Axes>"
      ]
     },
     "metadata": {
      "needs_background": "light"
     },
     "output_type": "display_data"
    }
   ],
   "source": [
    "# Polynomial fit\n",
    "from sklearn.preprocessing import PolynomialFeatures\n",
    "from sklearn.pipeline import Pipeline\n",
    "from sklearn.preprocessing import StandardScaler\n",
    "\n",
    "full_country_samples.plot(kind='scatter',\n",
    "                          x='GDP per Indicator',\n",
    "                          y='Life satisfaction',\n",
    "                          figsize=(12,3)\n",
    "                         )\n",
    "poly=PolynomialFeatures(degree=60,include_bias=False)\n",
    "scaler=StandardScaler()\n",
    "lin_reg2=LinearRegression()\n",
    "\n",
    "pipeline_reg=Pipeline([('poly',poly),\n",
    "                       ('scaler',scaler),\n",
    "                       ('lin',lin_reg2)\n",
    "                      ])\n",
    "\n",
    "pipeline_reg.fit(X_full,y_full)\n",
    "curve=pipeline_reg.predict(X[:,np.newaxis])\n",
    "plt.plot(X,curve)\n",
    "plt.axis([0,100000,0,10])\n",
    "save_fig('overfitting_model_plot')"
   ]
  },
  {
   "cell_type": "code",
   "execution_count": 352,
   "metadata": {},
   "outputs": [
    {
     "name": "stdout",
     "output_type": "stream",
     "text": [
      "Saving figure ridge_model_plot\n"
     ]
    },
    {
     "data": {
      "image/png": "[encoded data removed]",
      "text/plain": [
       "<Figure size 864x216 with 1 Axes>"
      ]
     },
     "metadata": {
      "needs_background": "light"
     },
     "output_type": "display_data"
    }
   ],
   "source": [
    "from sklearn import linear_model\n",
    "plt.figure(figsize=(12,3))\n",
    "plt.plot(list(full_country_stats['GDP per Indicator']),list(full_country_stats['Life satisfaction']),'bo')\n",
    "plt.plot(list(missing_data['GDP per Indicator']),list(missing_data['Life satisfaction']),'ro')\n",
    "\n",
    "X=np.linspace(0,100000,1000)\n",
    "plt.plot(X,t0+t1*X,'b:',label='Linear model on partial data')\n",
    "plt.plot(X,t0full+t1full*X,'r--',label='Linear model on full data')\n",
    "\n",
    "ridge=linear_model.Ridge(alpha=10**9.5)\n",
    "Xsample=np.c_[full_country_stats['GDP per Indicator']]\n",
    "ysample=np.c_[full_country_stats['Life satisfaction']]\n",
    "\n",
    "ridge.fit(Xsample,ysample)\n",
    "t0ridge,t1ridge=ridge.intercept_[0],ridge.coef_[0][0]\n",
    "plt.plot(X,t0ridge+t1ridge*X,'b',label='Regularized linear model on partial data')\n",
    "\n",
    "plt.legend(loc='lower right')\n",
    "# plt.axis([0,100000,0,10])\n",
    "plt.xlabel('GDP per Capita (USD)')\n",
    "plt.ylabel('Life satisfaction')\n",
    "save_fig('ridge_model_plot')"
   ]
  },
  {
   "cell_type": "code",
   "execution_count": null,
   "metadata": {},
   "outputs": [],
   "source": []
  },
  {
   "cell_type": "code",
   "execution_count": null,
   "metadata": {},
   "outputs": [],
   "source": []
  },
  {
   "cell_type": "code",
   "execution_count": null,
   "metadata": {},
   "outputs": [],
   "source": []
  },
  {
   "cell_type": "code",
   "execution_count": null,
   "metadata": {},
   "outputs": [],
   "source": []
  }
 ],
 "metadata": {
  "kernelspec": {
   "display_name": "Python 3",
   "language": "python",
   "name": "python3"
  },
  "language_info": {
   "codemirror_mode": {
    "name": "ipython",
    "version": 3
   },
   "file_extension": ".py",
   "mimetype": "text/x-python",
   "name": "python",
   "nbconvert_exporter": "python",
   "pygments_lexer": "ipython3",
   "version": "3.7.6"
  }
 },
 "nbformat": 4,
 "nbformat_minor": 4
}
