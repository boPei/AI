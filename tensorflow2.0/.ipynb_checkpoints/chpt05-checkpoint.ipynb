{
 "cells": [
  {
   "cell_type": "markdown",
   "metadata": {},
   "source": [
    "## Tensor concat"
   ]
  },
  {
   "cell_type": "code",
   "execution_count": 2,
   "metadata": {},
   "outputs": [],
   "source": [
    "import tensorflow as tf\n",
    "import numpy as np\n",
    "import os"
   ]
  },
  {
   "cell_type": "code",
   "execution_count": 9,
   "metadata": {},
   "outputs": [],
   "source": [
    "# 将两个tensor合并\n",
    "a= tf.ones([4,35,8]) #表示有4个班级，每个班级有35个学生，每个学生上8门课\n",
    "b= tf.ones([2,35,8])\n",
    "# print(a)\n",
    "# print(b)\n",
    "c=tf.concat([a,b],axis=0)"
   ]
  },
  {
   "cell_type": "code",
   "execution_count": 10,
   "metadata": {},
   "outputs": [
    {
     "name": "stdout",
     "output_type": "stream",
     "text": [
      "(4, 35, 8)\n"
     ]
    }
   ],
   "source": [
    "# 另外一种情景：如果先取出4个班级中，每个班级的前33个学生的成绩，再取出后3个，然后合并\n",
    "a=tf.ones([4,33,8])\n",
    "b=tf.ones([4,2,8])\n",
    "c=tf.concat([a,b],axis=1)\n",
    "print(c.shape)"
   ]
  },
  {
   "cell_type": "code",
   "execution_count": 11,
   "metadata": {},
   "outputs": [],
   "source": [
    "### 注意：对于concat的操作，要求在除去合并维度的其他维上的维度都相等,但是不会增加维度，只是在原有的数量上有所增加"
   ]
  },
  {
   "cell_type": "markdown",
   "metadata": {},
   "source": [
    "## Tensor Stack"
   ]
  },
  {
   "cell_type": "code",
   "execution_count": 12,
   "metadata": {},
   "outputs": [],
   "source": [
    "a=tf.ones([4,35,8])\n",
    "b=tf.ones([4,35,8])"
   ]
  },
  {
   "cell_type": "code",
   "execution_count": 14,
   "metadata": {},
   "outputs": [
    {
     "name": "stdout",
     "output_type": "stream",
     "text": [
      "(2, 4, 35, 8)\n"
     ]
    }
   ],
   "source": [
    "c=tf.stack([a,b],axis=0) \n",
    "print(c.shape) #增加一个axis可以用来区别，数据是来自哪个矩阵"
   ]
  },
  {
   "cell_type": "code",
   "execution_count": 15,
   "metadata": {},
   "outputs": [],
   "source": [
    "### 注意对于stack来说，要求在所有维度上的维度都相等，因为不是单纯的合并，可以理解为创建一个一摸一样的空间放一摸一样大小的东西"
   ]
  },
  {
   "cell_type": "markdown",
   "metadata": {},
   "source": [
    "## Tensor Unstack"
   ]
  },
  {
   "cell_type": "code",
   "execution_count": 16,
   "metadata": {},
   "outputs": [],
   "source": [
    "## tensor unstack将tensor里的数据在某一个轴上，逐一分离"
   ]
  },
  {
   "cell_type": "code",
   "execution_count": 18,
   "metadata": {},
   "outputs": [
    {
     "name": "stdout",
     "output_type": "stream",
     "text": [
      "(4, 35, 8) (4, 35, 8)\n"
     ]
    }
   ],
   "source": [
    "c=tf.ones([2,4,35,8])\n",
    "a,b=tf.unstack(c,axis=0)\n",
    "print(a.shape,b.shape)\n",
    "# 如果在axis=3的轴上unstack，就会得到8个(2,4,35)大小的tensor,"
   ]
  },
  {
   "cell_type": "code",
   "execution_count": null,
   "metadata": {},
   "outputs": [],
   "source": []
  }
 ],
 "metadata": {
  "kernelspec": {
   "display_name": "Python 3",
   "language": "python",
   "name": "python3"
  },
  "language_info": {
   "codemirror_mode": {
    "name": "ipython",
    "version": 3
   },
   "file_extension": ".py",
   "mimetype": "text/x-python",
   "name": "python",
   "nbconvert_exporter": "python",
   "pygments_lexer": "ipython3",
   "version": "3.7.3"
  }
 },
 "nbformat": 4,
 "nbformat_minor": 2
}
