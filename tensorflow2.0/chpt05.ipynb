{
 "cells": [
  {
   "cell_type": "markdown",
   "metadata": {},
   "source": [
    "## Tensor concat"
   ]
  },
  {
   "cell_type": "code",
   "execution_count": 1,
   "metadata": {},
   "outputs": [],
   "source": [
    "import tensorflow as tf\n",
    "import numpy as np\n",
    "import os"
   ]
  },
  {
   "cell_type": "code",
   "execution_count": 2,
   "metadata": {},
   "outputs": [],
   "source": [
    "# 将两个tensor合并\n",
    "a= tf.ones([4,35,8]) #表示有4个班级，每个班级有35个学生，每个学生上8门课\n",
    "b= tf.ones([2,35,8])\n",
    "# print(a)\n",
    "# print(b)\n",
    "c=tf.concat([a,b],axis=0)"
   ]
  },
  {
   "cell_type": "code",
   "execution_count": 3,
   "metadata": {},
   "outputs": [
    {
     "name": "stdout",
     "output_type": "stream",
     "text": [
      "(4, 35, 8)\n"
     ]
    }
   ],
   "source": [
    "# 另外一种情景：如果先取出4个班级中，每个班级的前33个学生的成绩，再取出后3个，然后合并\n",
    "a=tf.ones([4,33,8])\n",
    "b=tf.ones([4,2,8])\n",
    "c=tf.concat([a,b],axis=1)\n",
    "print(c.shape)"
   ]
  },
  {
   "cell_type": "code",
   "execution_count": 4,
   "metadata": {},
   "outputs": [],
   "source": [
    "### 注意：对于concat的操作，要求在除去合并维度的其他维上的维度都相等,但是不会增加维度，只是在原有的数量上有所增加"
   ]
  },
  {
   "cell_type": "markdown",
   "metadata": {},
   "source": [
    "## Tensor Stack"
   ]
  },
  {
   "cell_type": "code",
   "execution_count": 5,
   "metadata": {},
   "outputs": [],
   "source": [
    "a=tf.ones([4,35,8])\n",
    "b=tf.ones([4,35,8])"
   ]
  },
  {
   "cell_type": "code",
   "execution_count": 6,
   "metadata": {},
   "outputs": [
    {
     "name": "stdout",
     "output_type": "stream",
     "text": [
      "(2, 4, 35, 8)\n"
     ]
    }
   ],
   "source": [
    "c=tf.stack([a,b],axis=0) \n",
    "print(c.shape) #增加一个axis可以用来区别，数据是来自哪个矩阵"
   ]
  },
  {
   "cell_type": "code",
   "execution_count": 7,
   "metadata": {},
   "outputs": [],
   "source": [
    "### 注意对于stack来说，要求在所有维度上的维度都相等，因为不是单纯的合并，可以理解为创建一个一摸一样的空间放一摸一样大小的东西"
   ]
  },
  {
   "cell_type": "markdown",
   "metadata": {},
   "source": [
    "## Tensor Unstack"
   ]
  },
  {
   "cell_type": "code",
   "execution_count": 8,
   "metadata": {},
   "outputs": [],
   "source": [
    "## tensor unstack将tensor里的数据在某一个轴上，逐一分离"
   ]
  },
  {
   "cell_type": "code",
   "execution_count": 9,
   "metadata": {},
   "outputs": [
    {
     "name": "stdout",
     "output_type": "stream",
     "text": [
      "(4, 35, 8) (4, 35, 8)\n"
     ]
    }
   ],
   "source": [
    "c=tf.ones([2,4,35,8])\n",
    "a,b=tf.unstack(c,axis=0)\n",
    "print(a.shape,b.shape)\n",
    "# 如果在axis=3的轴上unstack，就会得到8个(2,4,35)大小的tensor\n",
    "res=tf.unstack(c,axis=3) #其中res是一个list"
   ]
  },
  {
   "cell_type": "markdown",
   "metadata": {},
   "source": [
    "## Tensor Split"
   ]
  },
  {
   "cell_type": "code",
   "execution_count": 10,
   "metadata": {},
   "outputs": [
    {
     "name": "stdout",
     "output_type": "stream",
     "text": [
      "2\n"
     ]
    }
   ],
   "source": [
    "res=tf.split(c,axis=3,num_or_size_splits=2) #表示将axis=3上的数据，均分成两份\n",
    "print(len(res)) #表示list中就会用两个元素，而且这两个元素的大小相等"
   ]
  },
  {
   "cell_type": "code",
   "execution_count": 11,
   "metadata": {},
   "outputs": [
    {
     "name": "stdout",
     "output_type": "stream",
     "text": [
      "3\n",
      "(2, 4, 35, 2) (2, 4, 35, 2) (2, 4, 35, 4)\n"
     ]
    }
   ],
   "source": [
    "res=tf.split(c,axis=3,num_or_size_splits=[2,2,4]) #表示将axis=3上的数据，分成大小为2,2,4三分\n",
    "print(len(res)) #表示list中将有3个数据，第一，二个数据在第三个维度上的大小是2，第三个是4\n",
    "print(res[0].shape,res[1].shape,res[2].shape)"
   ]
  },
  {
   "cell_type": "markdown",
   "metadata": {},
   "source": [
    "## L2-Norm"
   ]
  },
  {
   "cell_type": "code",
   "execution_count": 18,
   "metadata": {},
   "outputs": [
    {
     "name": "stdout",
     "output_type": "stream",
     "text": [
      "tf.Tensor(\n",
      "[[1. 1.]\n",
      " [1. 1.]], shape=(2, 2), dtype=float32)\n",
      "\n",
      "tf.Tensor(2.0, shape=(), dtype=float32)\n",
      "\n",
      "tf.Tensor(2.0, shape=(), dtype=float32)\n"
     ]
    }
   ],
   "source": [
    "a=tf.ones([2,2])\n",
    "print(a)\n",
    "print()\n",
    "# L2-Norm\n",
    "norm=tf.norm(a)\n",
    "print(norm)\n",
    "print()\n",
    "# Another way to calculate the L2 Norm\n",
    "norm=tf.sqrt(tf.reduce_sum(tf.square(a)))\n",
    "print(norm)"
   ]
  },
  {
   "cell_type": "code",
   "execution_count": 22,
   "metadata": {},
   "outputs": [
    {
     "name": "stdout",
     "output_type": "stream",
     "text": [
      "\n",
      "tf.Tensor(96.99484, shape=(), dtype=float32)\n",
      "\n",
      "tf.Tensor(96.99484, shape=(), dtype=float32)\n"
     ]
    }
   ],
   "source": [
    "a=tf.ones([4,28,28,3])\n",
    "# print(a)\n",
    "print()\n",
    "#L2 Norm\n",
    "norm=tf.norm(a)\n",
    "print(norm)\n",
    "print()\n",
    "norm=tf.sqrt(tf.reduce_sum(tf.square(a)))\n",
    "print(norm)"
   ]
  },
  {
   "cell_type": "markdown",
   "metadata": {},
   "source": [
    "## L1 Norm"
   ]
  },
  {
   "cell_type": "code",
   "execution_count": 24,
   "metadata": {},
   "outputs": [
    {
     "name": "stdout",
     "output_type": "stream",
     "text": [
      "L2 Norm tf.Tensor(2.0, shape=(), dtype=float32)\n",
      "L1 Norm tf.Tensor(4.0, shape=(), dtype=float32)\n",
      "L1 Norm axis=0 tf.Tensor([2. 2.], shape=(2,), dtype=float32)\n",
      "L1 Norm axis=1 tf.Tensor([2. 2.], shape=(2,), dtype=float32)\n"
     ]
    }
   ],
   "source": [
    "b=tf.ones([2,2])\n",
    "print('L2 Norm',tf.norm(b))\n",
    "print('L1 Norm',tf.norm(b,ord=1))\n",
    "print('L1 Norm axis=0',tf.norm(b,ord=1,axis=0))\n",
    "print('L1 Norm axis=1',tf.norm(b,ord=1,axis=1))"
   ]
  },
  {
   "cell_type": "code",
   "execution_count": 26,
   "metadata": {},
   "outputs": [
    {
     "name": "stdout",
     "output_type": "stream",
     "text": [
      "tf.Tensor(\n",
      "[[-0.5289327   0.17821583  0.83953106  1.3701887   0.1247037   0.02831169\n",
      "  -0.14314249 -0.19875027  1.5455265  -0.99889773]\n",
      " [ 0.2663804  -0.69715714  1.2326219   0.09238957  0.86216897 -0.813776\n",
      "  -0.67254514 -0.03490714 -0.5268194   0.35913607]\n",
      " [-0.03117918  0.60997576 -0.47856912 -0.46602145 -0.10577334 -1.1097901\n",
      "  -2.1146972   1.5420736   0.02513832  0.18669476]\n",
      " [ 0.5564292  -0.11850254 -0.6044564  -0.33546722  0.8098482   1.2438679\n",
      "   0.5832718   0.8962712   0.3482294   0.41603956]], shape=(4, 10), dtype=float32)\n",
      "tf.Tensor(0.10344074, shape=(), dtype=float32) tf.Tensor(1.5455265, shape=(), dtype=float32) tf.Tensor(-2.1146972, shape=(), dtype=float32)\n"
     ]
    }
   ],
   "source": [
    "c=tf.random.normal([4,10])\n",
    "print(c)\n",
    "print(tf.reduce_mean(c),tf.reduce_max(c),tf.reduce_min(c))"
   ]
  },
  {
   "cell_type": "code",
   "execution_count": 29,
   "metadata": {},
   "outputs": [
    {
     "name": "stdout",
     "output_type": "stream",
     "text": [
      "the maximum value of each row tf.Tensor([1.5455265 1.2326219 1.5420736 1.2438679], shape=(4,), dtype=float32)\n",
      "the minimum value of each row tf.Tensor([-0.99889773 -0.813776   -2.1146972  -0.6044564 ], shape=(4,), dtype=float32)\n",
      "the mean value of each row tf.Tensor([ 0.22167543  0.00674921 -0.1942148   0.3795531 ], shape=(4,), dtype=float32)\n"
     ]
    }
   ],
   "source": [
    "print('the maximum value of each row',tf.reduce_max(c,axis=1))\n",
    "print('the minimum value of each row',tf.reduce_min(c,axis=1))\n",
    "print('the mean value of each row',tf.reduce_mean(c,axis=1))"
   ]
  },
  {
   "cell_type": "markdown",
   "metadata": {},
   "source": [
    "# tf.argmin/tf.argmax the position of max/min value in a column"
   ]
  },
  {
   "cell_type": "code",
   "execution_count": 34,
   "metadata": {},
   "outputs": [
    {
     "name": "stdout",
     "output_type": "stream",
     "text": [
      "the position of the minimum value in each column of c tf.Tensor([0 1 3 2 2 2 2 0 1 0], shape=(10,), dtype=int64)\n",
      "the position of the maximum value in each column of c tf.Tensor([3 2 1 0 1 3 3 2 0 3], shape=(10,), dtype=int64)\n"
     ]
    }
   ],
   "source": [
    "print('the position of the minimum value in each column of c',tf.argmin(c))\n",
    "print('the position of the maximum value in each column of c',tf.argmax(c))"
   ]
  },
  {
   "cell_type": "markdown",
   "metadata": {},
   "source": [
    "## tf.equal compare each element in the tensors"
   ]
  },
  {
   "cell_type": "code",
   "execution_count": 37,
   "metadata": {},
   "outputs": [
    {
     "name": "stdout",
     "output_type": "stream",
     "text": [
      "a= tf.Tensor([1 2 3 2 5], shape=(5,), dtype=int32)\n",
      "b= tf.Tensor([0 1 2 3 4], shape=(5,), dtype=int32)\n",
      "c= tf.Tensor([False False False False False], shape=(5,), dtype=bool)\n"
     ]
    }
   ],
   "source": [
    "a=tf.constant([1,2,3,2,5])\n",
    "b=tf.range(5)\n",
    "c=tf.equal(a,b)\n",
    "print('a=',a)\n",
    "print('b=',b)\n",
    "print('c=',c)"
   ]
  },
  {
   "cell_type": "code",
   "execution_count": 38,
   "metadata": {},
   "outputs": [
    {
     "name": "stdout",
     "output_type": "stream",
     "text": [
      "tf.Tensor(0, shape=(), dtype=int32)\n"
     ]
    }
   ],
   "source": [
    "# calculate how many values are equal\n",
    "res=tf.equal(a,b)\n",
    "print(tf.reduce_sum(tf.cast(res,dtype=tf.int32)))"
   ]
  },
  {
   "cell_type": "markdown",
   "metadata": {},
   "source": [
    "## Accuracy"
   ]
  },
  {
   "cell_type": "code",
   "execution_count": 50,
   "metadata": {},
   "outputs": [
    {
     "name": "stdout",
     "output_type": "stream",
     "text": [
      "tf.Tensor([2 0], shape=(2,), dtype=int32)\n",
      "tf.Tensor([0.5], shape=(1,), dtype=float64)\n"
     ]
    }
   ],
   "source": [
    "yTrue=tf.constant([2,1])\n",
    "a=tf.constant([[0.1,0.2,0.7],\n",
    "               [0.9,0.05,0.05]],dtype=tf.float32)\n",
    "yPred=tf.cast(tf.argmax(a,axis=1),dtype=tf.int32)\n",
    "print(yPred)\n",
    "\n",
    "c=tf.reduce_sum(tf.cast(tf.equal(yTrue,yPred),dtype=tf.int32))\n",
    "\n",
    "correct=c/yTrue.shape\n",
    "print(correct)"
   ]
  },
  {
   "cell_type": "markdown",
   "metadata": {},
   "source": [
    "## tf.unique"
   ]
  },
  {
   "cell_type": "code",
   "execution_count": 52,
   "metadata": {},
   "outputs": [
    {
     "name": "stdout",
     "output_type": "stream",
     "text": [
      "tf.Tensor([0 1 2 3 4], shape=(5,), dtype=int32)\n",
      "Unique(y=<tf.Tensor: id=266, shape=(2,), dtype=int32, numpy=array([4, 2])>, idx=<tf.Tensor: id=267, shape=(5,), dtype=int32, numpy=array([0, 1, 1, 1, 0])>)\n"
     ]
    }
   ],
   "source": [
    "a=tf.range(5)\n",
    "print(a)\n",
    "b=tf.constant([4,2,2,2,4])\n",
    "print(tf.unique(b))"
   ]
  },
  {
   "cell_type": "markdown",
   "metadata": {},
   "source": [
    "## 张量排序"
   ]
  },
  {
   "cell_type": "code",
   "execution_count": 54,
   "metadata": {},
   "outputs": [],
   "source": [
    "# sort/argsort 在某个维度上对张量进行排序/得到最大，次大值所在的位置\n",
    "# topk 得到前K个元素或前K个元素所对应的位置\n",
    "# top-5 Acc."
   ]
  },
  {
   "cell_type": "code",
   "execution_count": 55,
   "metadata": {},
   "outputs": [
    {
     "name": "stdout",
     "output_type": "stream",
     "text": [
      "tf.Tensor([3 1 0 2 4], shape=(5,), dtype=int32)\n"
     ]
    }
   ],
   "source": [
    "a=tf.random.shuffle(tf.range(5))\n",
    "print(a)"
   ]
  },
  {
   "cell_type": "code",
   "execution_count": 60,
   "metadata": {},
   "outputs": [
    {
     "name": "stdout",
     "output_type": "stream",
     "text": [
      "tf.Tensor([4 3 2 1 0], shape=(5,), dtype=int32)\n",
      "tf.Tensor([0 1 2 3 4], shape=(5,), dtype=int32)\n",
      "tf.Tensor([4 0 3 1 2], shape=(5,), dtype=int32)\n",
      "tf.Tensor([2 1 3 0 4], shape=(5,), dtype=int32)\n"
     ]
    }
   ],
   "source": [
    "a1=tf.sort(a,direction='DESCENDING')\n",
    "print(a1)\n",
    "a2=tf.sort(a,direction='ASCENDING')\n",
    "print(a2)\n",
    "\n",
    "a11=tf.argsort(a,direction='DESCENDING')\n",
    "print(a11)\n",
    "a22=tf.argsort(a,direction='ASCENDING')\n",
    "print(a22)"
   ]
  },
  {
   "cell_type": "code",
   "execution_count": 62,
   "metadata": {},
   "outputs": [
    {
     "name": "stdout",
     "output_type": "stream",
     "text": [
      "tf.Tensor([0 1 2 3 4], shape=(5,), dtype=int32)\n"
     ]
    }
   ],
   "source": [
    "b=tf.gather(a,a22)\n",
    "print(b)"
   ]
  },
  {
   "cell_type": "code",
   "execution_count": 71,
   "metadata": {},
   "outputs": [
    {
     "name": "stdout",
     "output_type": "stream",
     "text": [
      "tf.Tensor(\n",
      "[[2 9 2]\n",
      " [8 3 5]\n",
      " [6 9 5]], shape=(3, 3), dtype=int32)\n",
      "tf.Tensor(\n",
      "[[2 2 9]\n",
      " [3 5 8]\n",
      " [5 6 9]], shape=(3, 3), dtype=int32)\n",
      "tf.Tensor(\n",
      "[[2 3 2]\n",
      " [6 9 5]\n",
      " [8 9 5]], shape=(3, 3), dtype=int32)\n",
      "tf.Tensor(\n",
      "[[0 2 1]\n",
      " [1 2 0]\n",
      " [2 0 1]], shape=(3, 3), dtype=int32)\n",
      "\n",
      "tf.Tensor(\n",
      "[[[2 9 2]\n",
      "  [6 9 5]\n",
      "  [8 3 5]]\n",
      "\n",
      " [[8 3 5]\n",
      "  [6 9 5]\n",
      "  [2 9 2]]\n",
      "\n",
      " [[6 9 5]\n",
      "  [2 9 2]\n",
      "  [8 3 5]]], shape=(3, 3, 3), dtype=int32)\n"
     ]
    }
   ],
   "source": [
    "# tf.sort on an array\n",
    "a=tf.random.uniform([3,3],maxval=10,dtype=tf.int32)\n",
    "print(a)\n",
    "a1=tf.sort(a) # sort the elements in each row in an ascending manner\n",
    "print(a1)\n",
    "a2=tf.sort(a,axis=0) #sort the elements in each column\n",
    "print(a2)\n",
    "\n",
    "a3=tf.argsort(a) # return the index of the element in each row based on the ascending sort\n",
    "print(a3)\n",
    "print()\n",
    "# print(tf.gather(a,a3))"
   ]
  },
  {
   "cell_type": "code",
   "execution_count": 74,
   "metadata": {},
   "outputs": [
    {
     "name": "stdout",
     "output_type": "stream",
     "text": [
      "tf.Tensor(\n",
      "[[2 9 2]\n",
      " [8 3 5]\n",
      " [6 9 5]], shape=(3, 3), dtype=int32)\n"
     ]
    }
   ],
   "source": [
    "# Top_k only return the top-k values and indices\n",
    "print(a)"
   ]
  },
  {
   "cell_type": "code",
   "execution_count": 79,
   "metadata": {},
   "outputs": [
    {
     "data": {
      "text/plain": [
       "<tf.Tensor: id=563, shape=(3, 3), dtype=int32, numpy=\n",
       "array([[2, 9, 2],\n",
       "       [8, 3, 5],\n",
       "       [6, 9, 5]])>"
      ]
     },
     "execution_count": 79,
     "metadata": {},
     "output_type": "execute_result"
    }
   ],
   "source": [
    "a"
   ]
  },
  {
   "cell_type": "code",
   "execution_count": 78,
   "metadata": {},
   "outputs": [
    {
     "name": "stdout",
     "output_type": "stream",
     "text": [
      "TopKV2(values=<tf.Tensor: id=611, shape=(3, 2), dtype=int32, numpy=\n",
      "array([[9, 2],\n",
      "       [8, 5],\n",
      "       [9, 6]])>, indices=<tf.Tensor: id=612, shape=(3, 2), dtype=int32, numpy=\n",
      "array([[1, 0],\n",
      "       [0, 2],\n",
      "       [1, 0]])>)\n",
      "\n",
      "the top 2 values tf.Tensor(\n",
      "[[9 2]\n",
      " [8 5]\n",
      " [9 6]], shape=(3, 2), dtype=int32)\n",
      "\n",
      "the indices of the top2 values tf.Tensor(\n",
      "[[1 0]\n",
      " [0 2]\n",
      " [1 0]], shape=(3, 2), dtype=int32)\n"
     ]
    }
   ],
   "source": [
    "res=tf.math.top_k(a,2)\n",
    "print(res) # get the top2 values as well as that indices of the top2 values in the array\n",
    "print()\n",
    "print('the top 2 values',res.values)\n",
    "print()\n",
    "print('the indices of the top2 values',res.indices)"
   ]
  },
  {
   "cell_type": "markdown",
   "metadata": {},
   "source": [
    "## Top-k Accuracy"
   ]
  },
  {
   "cell_type": "code",
   "execution_count": 93,
   "metadata": {},
   "outputs": [
    {
     "data": {
      "text/plain": [
       "[0.3333333333333333, 1.0, 1.0]"
      ]
     },
     "execution_count": 93,
     "metadata": {},
     "output_type": "execute_result"
    }
   ],
   "source": [
    "def topkAccuracy(output,target,topk=(1,)):\n",
    "    maxK=max(topk) #get the maximum k that we might consider\n",
    "    batch_size=target.shape[0] #the number of samples\n",
    "    \n",
    "    pred=tf.math.top_k(output,maxK).indices # get all of the indices\n",
    "    pred=tf.transpose(pred,perm=[1,0]) # transpose the indices making the matrix to be each column with unique numbers\n",
    "    \n",
    "    target_=tf.broadcast_to(target,pred.shape)\n",
    "    correct=tf.equal(pred,target_)\n",
    "    \n",
    "    res=[]\n",
    "    for k in topk:\n",
    "        correct_k=tf.cast(tf.reshape(correct[:k],[-1]),dtype=tf.int32)\n",
    "        correct_k=tf.reduce_sum(correct_k)\n",
    "        acc=float(correct_k/batch_size)\n",
    "        res.append(acc)\n",
    "        \n",
    "    return res\n",
    "target=tf.constant([0,2,1])\n",
    "topkAccuracy(a,target,(1,2,3))"
   ]
  },
  {
   "cell_type": "code",
   "execution_count": 104,
   "metadata": {},
   "outputs": [
    {
     "name": "stdout",
     "output_type": "stream",
     "text": [
      "proba: [[0.41763467 0.03918039 0.15116861 0.10871004 0.10661382 0.17669256]\n",
      " [0.09252766 0.0955532  0.13093942 0.06011507 0.45586026 0.16500443]\n",
      " [0.01794268 0.00370608 0.4941708  0.26219812 0.06671829 0.15526399]\n",
      " [0.12841454 0.33515844 0.1057745  0.23882166 0.07226473 0.11956619]\n",
      " [0.19620483 0.03502867 0.0168267  0.06751622 0.05885175 0.62557185]\n",
      " [0.18803056 0.03516383 0.2173697  0.17544863 0.32094282 0.06304439]\n",
      " [0.11649188 0.15294868 0.08194558 0.43618774 0.0766658  0.13576026]\n",
      " [0.02232078 0.38029176 0.27922454 0.01146017 0.25466207 0.05204072]\n",
      " [0.27169746 0.12821473 0.12632059 0.19531299 0.2286011  0.04985311]\n",
      " [0.22354868 0.0413608  0.11864576 0.13261493 0.04972316 0.43410668]]\n",
      "target: [0 5 3 4 1 5 3 5 4 4]\n",
      "\n",
      "pred: [0 4 2 1 5 4 3 1 0 5]\n",
      "\n",
      "res: [0.2, 0.5, 0.5, 0.6, 0.9, 1.0]\n"
     ]
    }
   ],
   "source": [
    "output=tf.random.normal([10,6])\n",
    "output=tf.math.softmax(output,axis=1)\n",
    "target=tf.random.uniform([10],maxval=6,dtype=tf.int32)\n",
    "print('proba:',output.numpy())\n",
    "print('target:',target.numpy())\n",
    "print()\n",
    "\n",
    "pred=tf.argmax(output,axis=1)\n",
    "print('pred:',pred.numpy())\n",
    "res=topkAccuracy(output,target,(1,2,3,4,5,6))\n",
    "print()\n",
    "print('res:',res)"
   ]
  },
  {
   "cell_type": "markdown",
   "metadata": {},
   "source": [
    "## pad"
   ]
  },
  {
   "cell_type": "code",
   "execution_count": 112,
   "metadata": {},
   "outputs": [
    {
     "name": "stdout",
     "output_type": "stream",
     "text": [
      "tf.Tensor(\n",
      "[[0 1 2]\n",
      " [3 4 5]\n",
      " [6 7 8]], shape=(3, 3), dtype=int32)\n",
      "\n",
      "tf.Tensor(\n",
      "[[0 1 2]\n",
      " [3 4 5]\n",
      " [6 7 8]], shape=(3, 3), dtype=int32)\n",
      "\n",
      "tf.Tensor(\n",
      "[[0 0 0]\n",
      " [0 1 2]\n",
      " [3 4 5]\n",
      " [6 7 8]], shape=(4, 3), dtype=int32)\n",
      "\n",
      "tf.Tensor(\n",
      "[[0 1 2 0]\n",
      " [3 4 5 0]\n",
      " [6 7 8 0]\n",
      " [0 0 0 0]], shape=(4, 4), dtype=int32)\n"
     ]
    }
   ],
   "source": [
    "a=tf.reshape(tf.range(9),[3,3])\n",
    "print(a)\n",
    "print()\n",
    "# do not pad anything along the column and row\n",
    "a1=tf.pad(a,[[0,0],[0,0]])\n",
    "print(a1)\n",
    "print()\n",
    "# only pading the top row of the array\n",
    "a2=tf.pad(a,[[1,0],[0,0]])\n",
    "print(a2)\n",
    "print()\n",
    "# only padding the bottom row and the right column of the array\n",
    "a3=tf.pad(a,[[0,1],[0,1]])\n",
    "print(a3)"
   ]
  },
  {
   "cell_type": "markdown",
   "metadata": {},
   "source": [
    "## Image Padding"
   ]
  },
  {
   "cell_type": "code",
   "execution_count": 115,
   "metadata": {},
   "outputs": [
    {
     "name": "stdout",
     "output_type": "stream",
     "text": [
      "(4, 32, 32, 3)\n"
     ]
    }
   ],
   "source": [
    "a=tf.random.normal([4,28,28,3])\n",
    "b=tf.pad(a,[[0,0],[2,2],[2,2],[0,0]]) #图片的行列各扩展2个像素\n",
    "print(b.shape)"
   ]
  },
  {
   "cell_type": "markdown",
   "metadata": {},
   "source": [
    "## Tile 真实的在内存中复制数据， 表示在指定的维度上对数据进行复制"
   ]
  },
  {
   "cell_type": "code",
   "execution_count": 123,
   "metadata": {},
   "outputs": [
    {
     "name": "stdout",
     "output_type": "stream",
     "text": [
      "[[0 1 2]\n",
      " [3 4 5]\n",
      " [6 7 8]]\n",
      "\n",
      " [[0 1 2 0 1 2]\n",
      " [3 4 5 3 4 5]\n",
      " [6 7 8 6 7 8]]\n",
      "(3, 6)\n",
      "\n",
      " tf.Tensor(\n",
      "[[0 1 2]\n",
      " [3 4 5]\n",
      " [6 7 8]\n",
      " [0 1 2]\n",
      " [3 4 5]\n",
      " [6 7 8]], shape=(6, 3), dtype=int32)\n",
      "(6, 3)\n",
      "\n",
      " tf.Tensor(\n",
      "[[0 1 2 0 1 2]\n",
      " [3 4 5 3 4 5]\n",
      " [6 7 8 6 7 8]\n",
      " [0 1 2 0 1 2]\n",
      " [3 4 5 3 4 5]\n",
      " [6 7 8 6 7 8]], shape=(6, 6), dtype=int32)\n",
      "(6, 6)\n"
     ]
    }
   ],
   "source": [
    "a=tf.reshape(tf.range(9),[3,3])\n",
    "print(a.numpy())\n",
    "\n",
    "# change the dimensions from [3,3] to [3,6]\n",
    "a1=tf.tile(a,[1,2])\n",
    "print('\\n',a1.numpy())\n",
    "print(a1.shape)\n",
    "\n",
    "#change the dimension from [3,3] to [6,3]\n",
    "a2=tf.tile(a,[2,1])\n",
    "print('\\n',a2)\n",
    "print(a2.shape)\n",
    "\n",
    "#change the dimension from [3,3] to [6,6]\n",
    "a3=tf.tile(a,[2,2]) #先复制小维度，再复制大维度\n",
    "print('\\n',a3)\n",
    "print(a3.shape)"
   ]
  },
  {
   "cell_type": "markdown",
   "metadata": {},
   "source": [
    "## expand_dims vs tile vs broadcast_to"
   ]
  },
  {
   "cell_type": "code",
   "execution_count": 125,
   "metadata": {},
   "outputs": [
    {
     "name": "stdout",
     "output_type": "stream",
     "text": [
      "[[0 1 2]\n",
      " [3 4 5]\n",
      " [6 7 8]]\n"
     ]
    }
   ],
   "source": [
    "print(a.numpy())"
   ]
  },
  {
   "cell_type": "code",
   "execution_count": 136,
   "metadata": {},
   "outputs": [
    {
     "name": "stdout",
     "output_type": "stream",
     "text": [
      "[[[0 1 2]\n",
      "  [3 4 5]\n",
      "  [6 7 8]]]\n",
      "\n",
      " [[[0 1 2]]\n",
      "\n",
      " [[3 4 5]]\n",
      "\n",
      " [[6 7 8]]]\n"
     ]
    }
   ],
   "source": [
    "aa=tf.expand_dims(a,axis=0)\n",
    "print(aa.numpy())\n",
    "\n",
    "aa1=tf.expand_dims(a,axis=1)\n",
    "print('\\n',aa1.numpy())"
   ]
  },
  {
   "cell_type": "code",
   "execution_count": 140,
   "metadata": {},
   "outputs": [
    {
     "name": "stdout",
     "output_type": "stream",
     "text": [
      "[[[0 1 2]\n",
      "  [3 4 5]\n",
      "  [6 7 8]]\n",
      "\n",
      " [[0 1 2]\n",
      "  [3 4 5]\n",
      "  [6 7 8]]]\n"
     ]
    }
   ],
   "source": [
    "aa2=tf.tile(aa,[2,1,1])\n",
    "print(aa2.numpy())"
   ]
  },
  {
   "cell_type": "code",
   "execution_count": 141,
   "metadata": {},
   "outputs": [
    {
     "name": "stdout",
     "output_type": "stream",
     "text": [
      "[[[0 1 2]\n",
      "  [3 4 5]\n",
      "  [6 7 8]]\n",
      "\n",
      " [[0 1 2]\n",
      "  [3 4 5]\n",
      "  [6 7 8]]]\n"
     ]
    }
   ],
   "source": [
    "aa3=tf.broadcast_to(aa,[2,3,3])\n",
    "print(aa3.numpy())"
   ]
  },
  {
   "cell_type": "markdown",
   "metadata": {},
   "source": [
    "## 张量限幅"
   ]
  },
  {
   "cell_type": "code",
   "execution_count": 151,
   "metadata": {},
   "outputs": [
    {
     "name": "stdout",
     "output_type": "stream",
     "text": [
      "tf.Tensor([0 1 2 3 4 5 6 7 8 9], shape=(10,), dtype=int32)\n"
     ]
    }
   ],
   "source": [
    "a=tf.range(10)\n",
    "print(a)"
   ]
  },
  {
   "cell_type": "code",
   "execution_count": 152,
   "metadata": {},
   "outputs": [
    {
     "name": "stdout",
     "output_type": "stream",
     "text": [
      "tf.Tensor([2 2 2 3 4 5 6 7 8 9], shape=(10,), dtype=int32)\n"
     ]
    }
   ],
   "source": [
    "# tf.maximum\n",
    "b=tf.maximum(a,2)\n",
    "print(b)"
   ]
  },
  {
   "cell_type": "code",
   "execution_count": 153,
   "metadata": {},
   "outputs": [
    {
     "name": "stdout",
     "output_type": "stream",
     "text": [
      "tf.Tensor([0 1 2 3 4 5 6 7 8 8], shape=(10,), dtype=int32)\n"
     ]
    }
   ],
   "source": [
    "# tf.minimum\n",
    "c=tf.minimum(a,8)\n",
    "print(c)"
   ]
  },
  {
   "cell_type": "code",
   "execution_count": 154,
   "metadata": {},
   "outputs": [
    {
     "name": "stdout",
     "output_type": "stream",
     "text": [
      "tf.Tensor([2 2 2 3 4 5 6 7 8 8], shape=(10,), dtype=int32)\n"
     ]
    }
   ],
   "source": [
    "# tf.clip_by_value\n",
    "d=tf.clip_by_value(a,2,8)\n",
    "print(d)"
   ]
  },
  {
   "cell_type": "markdown",
   "metadata": {},
   "source": [
    "# tf.nn.relu 表示x中的每个值与0的比较"
   ]
  },
  {
   "cell_type": "code",
   "execution_count": 155,
   "metadata": {},
   "outputs": [
    {
     "name": "stdout",
     "output_type": "stream",
     "text": [
      "[-5 -4 -3 -2 -1  0  1  2  3  4]\n",
      "\n",
      "\n",
      "tf.Tensor([0 0 0 0 0 0 1 2 3 4], shape=(10,), dtype=int32)\n"
     ]
    }
   ],
   "source": [
    "a=a-5\n",
    "print(a.numpy())\n",
    "print('\\n')\n",
    "print(tf.nn.relu(a))"
   ]
  },
  {
   "cell_type": "code",
   "execution_count": 157,
   "metadata": {},
   "outputs": [
    {
     "name": "stdout",
     "output_type": "stream",
     "text": [
      "tf.Tensor([-5 -4 -3 -2 -1  0  1  2  3  4], shape=(10,), dtype=int32)\n",
      "tf.Tensor([0 0 0 0 0 0 1 2 3 4], shape=(10,), dtype=int32)\n"
     ]
    }
   ],
   "source": [
    "a=tf.range(10)\n",
    "a=a-5\n",
    "print(a)\n",
    "print(tf.maximum(a,0))"
   ]
  },
  {
   "cell_type": "markdown",
   "metadata": {},
   "source": [
    "## Clip_by_norm 对向量进行限幅"
   ]
  },
  {
   "cell_type": "code",
   "execution_count": 160,
   "metadata": {},
   "outputs": [
    {
     "name": "stdout",
     "output_type": "stream",
     "text": [
      "[[10.428138  9.180006]\n",
      " [10.028603 11.215524]]\n",
      "\n",
      "20.478754\n"
     ]
    }
   ],
   "source": [
    "a=tf.random.normal([2,2],mean=10)\n",
    "print(a.numpy())\n",
    "print()\n",
    "print(tf.norm(a).numpy())"
   ]
  },
  {
   "cell_type": "code",
   "execution_count": 169,
   "metadata": {},
   "outputs": [
    {
     "name": "stdout",
     "output_type": "stream",
     "text": [
      "[[7.6382613 6.724046 ]\n",
      " [7.3456154 8.214994 ]]\n",
      "\n",
      "15.000001\n"
     ]
    }
   ],
   "source": [
    "aa=tf.clip_by_norm(a,15) #表示将向量缩放，使起模变为15\n",
    "print(aa.numpy()) # （x00/np.sqrt(x00^2+x01^2+x10^2+x11^2)）\n",
    "print()\n",
    "print(tf.norm(aa).numpy())"
   ]
  },
  {
   "cell_type": "markdown",
   "metadata": {},
   "source": [
    "#### Gradient Clipping:使多个向量整体缩放w=[w1,w2,w3],达到w1,w2,w3同时缩放相同的比例，以保持w的方向不变。 tf.clip_by_global_norm()"
   ]
  },
  {
   "cell_type": "markdown",
   "metadata": {},
   "source": [
    "## 高阶操作"
   ]
  },
  {
   "cell_type": "code",
   "execution_count": 171,
   "metadata": {},
   "outputs": [
    {
     "name": "stdout",
     "output_type": "stream",
     "text": [
      "[[ 0.34383264 -0.8911919  -0.27133775]\n",
      " [ 0.28864616 -0.89743567 -0.16298084]\n",
      " [-0.28317583 -2.0012238   1.0125899 ]]\n"
     ]
    }
   ],
   "source": [
    "## --where\n",
    "a=tf.random.normal([3,3])\n",
    "print(a.numpy())"
   ]
  },
  {
   "cell_type": "code",
   "execution_count": 173,
   "metadata": {},
   "outputs": [
    {
     "name": "stdout",
     "output_type": "stream",
     "text": [
      "[[ True False False]\n",
      " [ True False False]\n",
      " [False False  True]]\n"
     ]
    }
   ],
   "source": [
    "mask=a>0\n",
    "print(mask.numpy())"
   ]
  },
  {
   "cell_type": "code",
   "execution_count": 174,
   "metadata": {},
   "outputs": [
    {
     "name": "stdout",
     "output_type": "stream",
     "text": [
      "tf.Tensor([0.34383264 0.28864616 1.0125899 ], shape=(3,), dtype=float32)\n"
     ]
    }
   ],
   "source": [
    "b=tf.boolean_mask(a,mask) #取出a中mask对应位置上是true的值\n",
    "print(b)"
   ]
  },
  {
   "cell_type": "code",
   "execution_count": 176,
   "metadata": {},
   "outputs": [
    {
     "name": "stdout",
     "output_type": "stream",
     "text": [
      "[[0 0]\n",
      " [1 0]\n",
      " [2 2]]\n"
     ]
    }
   ],
   "source": [
    "#利用where 取出boolean matrix mask上对应的值为True的位置\n",
    "indices=tf.where(mask)\n",
    "print(indices.numpy()) #返回的是Mask矩阵中True 的位置"
   ]
  },
  {
   "cell_type": "code",
   "execution_count": 177,
   "metadata": {},
   "outputs": [
    {
     "name": "stdout",
     "output_type": "stream",
     "text": [
      "[0.34383264 0.28864616 1.0125899 ]\n"
     ]
    }
   ],
   "source": [
    "val=tf.gather_nd(a,indices)\n",
    "print(val.numpy())"
   ]
  },
  {
   "cell_type": "code",
   "execution_count": 178,
   "metadata": {},
   "outputs": [
    {
     "name": "stdout",
     "output_type": "stream",
     "text": [
      "[[ 1.         -1.4586576  -1.0940726 ]\n",
      " [ 1.         -0.6697494  -0.02518839]\n",
      " [-0.10383485 -0.02930574  1.        ]]\n"
     ]
    }
   ],
   "source": [
    "# --where(cond,A,B) 在cond值为True的对应位置上，选矩阵A中的值，在为False的位置上，选矩阵B中的值\n",
    "A=tf.ones([3,3])\n",
    "B=tf.random.normal([3,3])\n",
    "C=tf.where(mask,A,B)\n",
    "print(C.numpy())"
   ]
  },
  {
   "cell_type": "markdown",
   "metadata": {},
   "source": [
    "## Scatter_nd,根据位置信息（indices)和值的信息(updates)，为一个全为零的tensor的相应位置赋值"
   ]
  },
  {
   "cell_type": "code",
   "execution_count": 187,
   "metadata": {},
   "outputs": [
    {
     "name": "stdout",
     "output_type": "stream",
     "text": [
      "before: tf.Tensor([8], shape=(1,), dtype=int32)\n",
      "\n",
      " tf.Tensor([ 1  0  0 32 10  0  0 32], shape=(8,), dtype=int32)\n"
     ]
    }
   ],
   "source": [
    "indices=tf.constant([[4],[3],[0],[7]])\n",
    "updates=tf.constant([10,32,1,32])\n",
    "shape=tf.constant([8])\n",
    "print('before:',shape)\n",
    "a=tf.scatter_nd(indices,updates,shape)\n",
    "print('\\n',a)"
   ]
  },
  {
   "cell_type": "code",
   "execution_count": 188,
   "metadata": {},
   "outputs": [
    {
     "name": "stdout",
     "output_type": "stream",
     "text": [
      "[[[5 5 5 5]\n",
      "  [6 6 6 6]\n",
      "  [7 7 7 7]\n",
      "  [8 8 8 8]]\n",
      "\n",
      " [[0 0 0 0]\n",
      "  [0 0 0 0]\n",
      "  [0 0 0 0]\n",
      "  [0 0 0 0]]\n",
      "\n",
      " [[5 5 5 5]\n",
      "  [6 6 6 6]\n",
      "  [7 7 7 7]\n",
      "  [8 8 8 8]]\n",
      "\n",
      " [[0 0 0 0]\n",
      "  [0 0 0 0]\n",
      "  [0 0 0 0]\n",
      "  [0 0 0 0]]]\n"
     ]
    }
   ],
   "source": [
    "shape=tf.constant([4,4,4])\n",
    "indices=tf.constant([[0],[2]])\n",
    "updates=tf.constant([[[5,5,5,5],\n",
    "                      [6,6,6,6],\n",
    "                      [7,7,7,7],\n",
    "                      [8,8,8,8]],\n",
    "                     \n",
    "                    [[5,5,5,5],\n",
    "                     [6,6,6,6],\n",
    "                     [7,7,7,7],\n",
    "                     [8,8,8,8]]])\n",
    "val=tf.scatter_nd(indices,updates,shape)\n",
    "print(val.numpy())"
   ]
  },
  {
   "cell_type": "markdown",
   "metadata": {},
   "source": [
    "## meshgrid 的用法"
   ]
  },
  {
   "cell_type": "code",
   "execution_count": 204,
   "metadata": {},
   "outputs": [
    {
     "name": "stdout",
     "output_type": "stream",
     "text": [
      "[[2. 3. 4. 5.]\n",
      " [2. 3. 4. 5.]\n",
      " [2. 3. 4. 5.]]\n",
      "\n",
      " [[1. 1. 1. 1.]\n",
      " [7. 7. 7. 7.]\n",
      " [8. 8. 8. 8.]]\n"
     ]
    }
   ],
   "source": [
    "x_test=tf.constant([2,3,4,5],dtype=tf.float32)\n",
    "y_test=tf.constant([1,7,8],dtype=tf.float32)\n",
    "points_x,points_y=tf.meshgrid(x_test,y_test)\n",
    "print(points_x.numpy())\n",
    "print('\\n',points_y.numpy())"
   ]
  },
  {
   "cell_type": "code",
   "execution_count": 205,
   "metadata": {},
   "outputs": [
    {
     "name": "stdout",
     "output_type": "stream",
     "text": [
      "[[[2. 1.]\n",
      "  [3. 1.]\n",
      "  [4. 1.]\n",
      "  [5. 1.]]\n",
      "\n",
      " [[2. 7.]\n",
      "  [3. 7.]\n",
      "  [4. 7.]\n",
      "  [5. 7.]]\n",
      "\n",
      " [[2. 8.]\n",
      "  [3. 8.]\n",
      "  [4. 8.]\n",
      "  [5. 8.]]]\n",
      "(3, 4, 2)\n"
     ]
    }
   ],
   "source": [
    "points=tf.stack([points_x,points_y],axis=2)\n",
    "print(points.numpy())\n",
    "\n",
    "print(points.shape)"
   ]
  },
  {
   "cell_type": "code",
   "execution_count": 206,
   "metadata": {},
   "outputs": [
    {
     "data": {
      "text/plain": [
       "<tf.Tensor: id=1543, shape=(3, 4), dtype=float32, numpy=\n",
       "array([[2., 3., 4., 5.],\n",
       "       [2., 3., 4., 5.],\n",
       "       [2., 3., 4., 5.]], dtype=float32)>"
      ]
     },
     "execution_count": 206,
     "metadata": {},
     "output_type": "execute_result"
    }
   ],
   "source": [
    "points[...,0]"
   ]
  },
  {
   "cell_type": "code",
   "execution_count": 207,
   "metadata": {},
   "outputs": [
    {
     "data": {
      "text/plain": [
       "<tf.Tensor: id=1547, shape=(3, 4), dtype=float32, numpy=\n",
       "array([[1., 1., 1., 1.],\n",
       "       [7., 7., 7., 7.],\n",
       "       [8., 8., 8., 8.]], dtype=float32)>"
      ]
     },
     "execution_count": 207,
     "metadata": {},
     "output_type": "execute_result"
    }
   ],
   "source": [
    "points[...,1]"
   ]
  },
  {
   "cell_type": "code",
   "execution_count": 228,
   "metadata": {},
   "outputs": [
    {
     "name": "stdout",
     "output_type": "stream",
     "text": [
      "\n",
      " (500, 500, 2)\n"
     ]
    },
    {
     "data": {
      "image/png": "[encoded data removed]",
      "text/plain": [
       "<Figure size 432x288 with 2 Axes>"
      ]
     },
     "metadata": {
      "needs_background": "light"
     },
     "output_type": "display_data"
    },
    {
     "data": {
      "image/png": "[encoded data removed]",
      "text/plain": [
       "<Figure size 432x288 with 2 Axes>"
      ]
     },
     "metadata": {
      "needs_background": "light"
     },
     "output_type": "display_data"
    }
   ],
   "source": [
    "import matplotlib.pyplot as plt\n",
    "\n",
    "def func(x):\n",
    "    z=tf.math.sin(x[...,0])+tf.math.sin(x[...,1])\n",
    "    return z\n",
    "\n",
    "x=tf.linspace(0.,2*3.14,500)\n",
    "y=tf.linspace(0.,2*3.14,500)\n",
    "pointx,pointy=tf.meshgrid(x,y)\n",
    "points=tf.stack([pointx,pointy],axis=2)\n",
    "print('\\n',points.shape)\n",
    "\n",
    "z=func(points)\n",
    "# print('\\nz:',z)\n",
    "# fig,ax=plt.subplots(122)\n",
    "plt.imshow(z,origin='lower',interpolation='none')\n",
    "plt.colorbar()\n",
    "plt.figure()\n",
    "plt.contour(pointx,pointy,z)\n",
    "plt.colorbar()\n",
    "plt.show()"
   ]
  },
  {
   "cell_type": "code",
   "execution_count": 215,
   "metadata": {},
   "outputs": [
    {
     "data": {
      "image/png": "[encoded data removed]",
      "text/plain": [
       "<Figure size 432x288 with 2 Axes>"
      ]
     },
     "metadata": {
      "needs_background": "light"
     },
     "output_type": "display_data"
    }
   ],
   "source": [
    "import matplotlib.pyplot as plt\n",
    "z=func(points)\n",
    "plt.imshow(z,origin='lower',interpolation='none')\n",
    "plt.colorbar()\n",
    "plt.show()"
   ]
  },
  {
   "cell_type": "code",
   "execution_count": 216,
   "metadata": {},
   "outputs": [
    {
     "data": {
      "text/plain": [
       "<matplotlib.contour.QuadContourSet at 0x2346b946048>"
      ]
     },
     "execution_count": 216,
     "metadata": {},
     "output_type": "execute_result"
    },
    {
     "data": {
      "image/png": "[encoded data removed]",
      "text/plain": [
       "<Figure size 432x288 with 1 Axes>"
      ]
     },
     "metadata": {
      "needs_background": "light"
     },
     "output_type": "display_data"
    }
   ],
   "source": [
    "plt.contour(points_x,points_y,z)"
   ]
  },
  {
   "cell_type": "code",
   "execution_count": null,
   "metadata": {},
   "outputs": [],
   "source": []
  }
 ],
 "metadata": {
  "kernelspec": {
   "display_name": "Python 3",
   "language": "python",
   "name": "python3"
  },
  "language_info": {
   "codemirror_mode": {
    "name": "ipython",
    "version": 3
   },
   "file_extension": ".py",
   "mimetype": "text/x-python",
   "name": "python",
   "nbconvert_exporter": "python",
   "pygments_lexer": "ipython3",
   "version": "3.7.3"
  }
 },
 "nbformat": 4,
 "nbformat_minor": 2
}
