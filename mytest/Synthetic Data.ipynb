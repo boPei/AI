{
 "cells": [
  {
   "cell_type": "code",
   "execution_count": 112,
   "metadata": {},
   "outputs": [],
   "source": [
    "import random\n",
    "import numpy as np\n",
    "import matplotlib.pyplot as plt\n",
    "random.seed(1234)"
   ]
  },
  {
   "cell_type": "code",
   "execution_count": 143,
   "metadata": {},
   "outputs": [],
   "source": [
    "x_train=np.random.uniform(0,1,10)\n",
    "# x=np.linspace(0,1,10)\n",
    "y_train=np.sin(2*np.pi*x_train)+np.random.normal(0,0.3,10)\n",
    "\n",
    "x=np.sort(np.random.uniform(0,1,100))\n",
    "y=np.sin(2*np.pi*x)"
   ]
  },
  {
   "cell_type": "code",
   "execution_count": 147,
   "metadata": {},
   "outputs": [
    {
     "data": {
      "text/plain": [
       "([<matplotlib.axis.YTick at 0x2bc6dbdf488>,\n",
       "  <matplotlib.axis.YTick at 0x2bc6dbdab88>,\n",
       "  <matplotlib.axis.YTick at 0x2bc6dbd5fc8>],\n",
       " <a list of 3 Text major ticklabel objects>)"
      ]
     },
     "execution_count": 147,
     "metadata": {},
     "output_type": "execute_result"
    },
    {
     "data": {
      "image/png": "[encoded data removed]",
      "text/plain": [
       "<Figure size 432x288 with 1 Axes>"
      ]
     },
     "metadata": {
      "needs_background": "light"
     },
     "output_type": "display_data"
    }
   ],
   "source": [
    "plt.scatter(x_train,y_train,marker='o',facecolor='none',edgecolor='b',s=50,label='training data')\n",
    "plt.plot(x,y,color='g',label='$\\sin(2\\pi x)$')\n",
    "plt.legend()\n",
    "plt.xticks([0,1])\n",
    "plt.yticks([1,0,-1])"
   ]
  },
  {
   "cell_type": "code",
   "execution_count": 87,
   "metadata": {},
   "outputs": [
    {
     "data": {
      "text/plain": [
       "array([ 0.35788555,  1.63005781, -0.0884356 ,  0.93847899,  0.04371671,\n",
       "        0.3978918 ,  0.58350285, -0.06655385,  0.05622995,  0.66439331])"
      ]
     },
     "execution_count": 87,
     "metadata": {},
     "output_type": "execute_result"
    }
   ],
   "source": []
  },
  {
   "cell_type": "code",
   "execution_count": 326,
   "metadata": {},
   "outputs": [],
   "source": [
    "x=np.array([[2,3,6],\n",
    "            [4,5,7]])"
   ]
  },
  {
   "cell_type": "code",
   "execution_count": 327,
   "metadata": {},
   "outputs": [
    {
     "data": {
      "text/plain": [
       "array([[2, 3, 6],\n",
       "       [4, 5, 7]])"
      ]
     },
     "execution_count": 327,
     "metadata": {},
     "output_type": "execute_result"
    }
   ],
   "source": [
    "x"
   ]
  },
  {
   "cell_type": "code",
   "execution_count": 308,
   "metadata": {},
   "outputs": [
    {
     "data": {
      "text/plain": [
       "2"
      ]
     },
     "execution_count": 308,
     "metadata": {},
     "output_type": "execute_result"
    }
   ],
   "source": [
    "x.ndim"
   ]
  },
  {
   "cell_type": "code",
   "execution_count": 265,
   "metadata": {},
   "outputs": [],
   "source": [
    "x=x[:,None]"
   ]
  },
  {
   "cell_type": "code",
   "execution_count": 292,
   "metadata": {},
   "outputs": [
    {
     "data": {
      "text/plain": [
       "array([[2, 3],\n",
       "       [4, 5]])"
      ]
     },
     "execution_count": 292,
     "metadata": {},
     "output_type": "execute_result"
    }
   ],
   "source": [
    "x"
   ]
  },
  {
   "cell_type": "code",
   "execution_count": 328,
   "metadata": {},
   "outputs": [
    {
     "data": {
      "text/plain": [
       "array([[2, 4],\n",
       "       [3, 5],\n",
       "       [6, 7]])"
      ]
     },
     "execution_count": 328,
     "metadata": {},
     "output_type": "execute_result"
    }
   ],
   "source": [
    "x_t=x.transpose()\n",
    "x_t"
   ]
  },
  {
   "cell_type": "code",
   "execution_count": 294,
   "metadata": {},
   "outputs": [
    {
     "data": {
      "text/plain": [
       "array([[2, 3],\n",
       "       [4, 5]])"
      ]
     },
     "execution_count": 294,
     "metadata": {},
     "output_type": "execute_result"
    }
   ],
   "source": [
    "x_t=x\n",
    "x_t"
   ]
  },
  {
   "cell_type": "code",
   "execution_count": 329,
   "metadata": {},
   "outputs": [
    {
     "data": {
      "text/plain": [
       "[array([1., 1.])]"
      ]
     },
     "execution_count": 329,
     "metadata": {},
     "output_type": "execute_result"
    }
   ],
   "source": [
    "features=[np.ones(len(x))]\n",
    "features"
   ]
  },
  {
   "cell_type": "code",
   "execution_count": 330,
   "metadata": {},
   "outputs": [],
   "source": [
    "import itertools\n",
    "import functools\n",
    "import numpy as np"
   ]
  },
  {
   "cell_type": "code",
   "execution_count": 331,
   "metadata": {},
   "outputs": [
    {
     "data": {
      "text/plain": [
       "array([[2, 4],\n",
       "       [3, 5],\n",
       "       [6, 7]])"
      ]
     },
     "execution_count": 331,
     "metadata": {},
     "output_type": "execute_result"
    }
   ],
   "source": [
    "x_t"
   ]
  },
  {
   "cell_type": "code",
   "execution_count": 332,
   "metadata": {},
   "outputs": [
    {
     "name": "stdout",
     "output_type": "stream",
     "text": [
      "\n",
      "degree= 1\n",
      "item= (array([2, 4]),)\n",
      "feat\n",
      "[array([2, 4])]\n",
      "item= (array([3, 5]),)\n",
      "feat\n",
      "[array([2, 4]), array([3, 5])]\n",
      "item= (array([6, 7]),)\n",
      "feat\n",
      "[array([2, 4]), array([3, 5]), array([6, 7])]\n",
      "\n",
      "degree= 2\n",
      "item= (array([2, 4]), array([2, 4]))\n",
      "feat\n",
      "[array([2, 4]), array([3, 5]), array([6, 7]), array([ 4, 16])]\n",
      "item= (array([2, 4]), array([3, 5]))\n",
      "feat\n",
      "[array([2, 4]), array([3, 5]), array([6, 7]), array([ 4, 16]), array([ 6, 20])]\n",
      "item= (array([2, 4]), array([6, 7]))\n",
      "feat\n",
      "[array([2, 4]), array([3, 5]), array([6, 7]), array([ 4, 16]), array([ 6, 20]), array([12, 28])]\n",
      "item= (array([3, 5]), array([3, 5]))\n",
      "feat\n",
      "[array([2, 4]), array([3, 5]), array([6, 7]), array([ 4, 16]), array([ 6, 20]), array([12, 28]), array([ 9, 25])]\n",
      "item= (array([3, 5]), array([6, 7]))\n",
      "feat\n",
      "[array([2, 4]), array([3, 5]), array([6, 7]), array([ 4, 16]), array([ 6, 20]), array([12, 28]), array([ 9, 25]), array([18, 35])]\n",
      "item= (array([6, 7]), array([6, 7]))\n",
      "feat\n",
      "[array([2, 4]), array([3, 5]), array([6, 7]), array([ 4, 16]), array([ 6, 20]), array([12, 28]), array([ 9, 25]), array([18, 35]), array([36, 49])]\n",
      "\n",
      "degree= 3\n",
      "item= (array([2, 4]), array([2, 4]), array([2, 4]))\n",
      "feat\n",
      "[array([2, 4]), array([3, 5]), array([6, 7]), array([ 4, 16]), array([ 6, 20]), array([12, 28]), array([ 9, 25]), array([18, 35]), array([36, 49]), array([ 8, 64])]\n",
      "item= (array([2, 4]), array([2, 4]), array([3, 5]))\n",
      "feat\n",
      "[array([2, 4]), array([3, 5]), array([6, 7]), array([ 4, 16]), array([ 6, 20]), array([12, 28]), array([ 9, 25]), array([18, 35]), array([36, 49]), array([ 8, 64]), array([12, 80])]\n",
      "item= (array([2, 4]), array([2, 4]), array([6, 7]))\n",
      "feat\n",
      "[array([2, 4]), array([3, 5]), array([6, 7]), array([ 4, 16]), array([ 6, 20]), array([12, 28]), array([ 9, 25]), array([18, 35]), array([36, 49]), array([ 8, 64]), array([12, 80]), array([ 24, 112])]\n",
      "item= (array([2, 4]), array([3, 5]), array([3, 5]))\n",
      "feat\n",
      "[array([2, 4]), array([3, 5]), array([6, 7]), array([ 4, 16]), array([ 6, 20]), array([12, 28]), array([ 9, 25]), array([18, 35]), array([36, 49]), array([ 8, 64]), array([12, 80]), array([ 24, 112]), array([ 18, 100])]\n",
      "item= (array([2, 4]), array([3, 5]), array([6, 7]))\n",
      "feat\n",
      "[array([2, 4]), array([3, 5]), array([6, 7]), array([ 4, 16]), array([ 6, 20]), array([12, 28]), array([ 9, 25]), array([18, 35]), array([36, 49]), array([ 8, 64]), array([12, 80]), array([ 24, 112]), array([ 18, 100]), array([ 36, 140])]\n",
      "item= (array([2, 4]), array([6, 7]), array([6, 7]))\n",
      "feat\n",
      "[array([2, 4]), array([3, 5]), array([6, 7]), array([ 4, 16]), array([ 6, 20]), array([12, 28]), array([ 9, 25]), array([18, 35]), array([36, 49]), array([ 8, 64]), array([12, 80]), array([ 24, 112]), array([ 18, 100]), array([ 36, 140]), array([ 72, 196])]\n",
      "item= (array([3, 5]), array([3, 5]), array([3, 5]))\n",
      "feat\n",
      "[array([2, 4]), array([3, 5]), array([6, 7]), array([ 4, 16]), array([ 6, 20]), array([12, 28]), array([ 9, 25]), array([18, 35]), array([36, 49]), array([ 8, 64]), array([12, 80]), array([ 24, 112]), array([ 18, 100]), array([ 36, 140]), array([ 72, 196]), array([ 27, 125])]\n",
      "item= (array([3, 5]), array([3, 5]), array([6, 7]))\n",
      "feat\n",
      "[array([2, 4]), array([3, 5]), array([6, 7]), array([ 4, 16]), array([ 6, 20]), array([12, 28]), array([ 9, 25]), array([18, 35]), array([36, 49]), array([ 8, 64]), array([12, 80]), array([ 24, 112]), array([ 18, 100]), array([ 36, 140]), array([ 72, 196]), array([ 27, 125]), array([ 54, 175])]\n",
      "item= (array([3, 5]), array([6, 7]), array([6, 7]))\n",
      "feat\n",
      "[array([2, 4]), array([3, 5]), array([6, 7]), array([ 4, 16]), array([ 6, 20]), array([12, 28]), array([ 9, 25]), array([18, 35]), array([36, 49]), array([ 8, 64]), array([12, 80]), array([ 24, 112]), array([ 18, 100]), array([ 36, 140]), array([ 72, 196]), array([ 27, 125]), array([ 54, 175]), array([108, 245])]\n",
      "item= (array([6, 7]), array([6, 7]), array([6, 7]))\n",
      "feat\n",
      "[array([2, 4]), array([3, 5]), array([6, 7]), array([ 4, 16]), array([ 6, 20]), array([12, 28]), array([ 9, 25]), array([18, 35]), array([36, 49]), array([ 8, 64]), array([12, 80]), array([ 24, 112]), array([ 18, 100]), array([ 36, 140]), array([ 72, 196]), array([ 27, 125]), array([ 54, 175]), array([108, 245]), array([216, 343])]\n"
     ]
    }
   ],
   "source": [
    "feat=[]\n",
    "for degree in range(1,4):\n",
    "    print()\n",
    "    print('degree=',degree)\n",
    "    for items in itertools.combinations_with_replacement(x_t,degree):\n",
    "        print('item=',items)\n",
    "        feat.append(functools.reduce(lambda x,y:x*y,items))\n",
    "        print('feat')\n",
    "        print(feat)     \n",
    "        "
   ]
  },
  {
   "cell_type": "code",
   "execution_count": 298,
   "metadata": {},
   "outputs": [
    {
     "data": {
      "text/plain": [
       "[array([2, 3, 4]), array([ 4,  9, 16])]"
      ]
     },
     "execution_count": 298,
     "metadata": {},
     "output_type": "execute_result"
    }
   ],
   "source": [
    "f"
   ]
  },
  {
   "cell_type": "code",
   "execution_count": 300,
   "metadata": {},
   "outputs": [
    {
     "data": {
      "text/plain": [
       "array([[ 1.,  1.],\n",
       "       [ 2.,  3.],\n",
       "       [ 4.,  5.],\n",
       "       [ 4.,  9.],\n",
       "       [ 8., 15.],\n",
       "       [16., 25.]])"
      ]
     },
     "execution_count": 300,
     "metadata": {},
     "output_type": "execute_result"
    }
   ],
   "source": [
    "np.asarray(features)"
   ]
  },
  {
   "cell_type": "code",
   "execution_count": 251,
   "metadata": {},
   "outputs": [
    {
     "data": {
      "text/plain": [
       "array([2, 3, 4])"
      ]
     },
     "execution_count": 251,
     "metadata": {},
     "output_type": "execute_result"
    }
   ],
   "source": [
    "item= (np.array([2, 3, 4]),)\n",
    "       \n",
    "functools.reduce(lambda x,y:x*y,item)"
   ]
  },
  {
   "cell_type": "code",
   "execution_count": 229,
   "metadata": {},
   "outputs": [
    {
     "data": {
      "text/plain": [
       "array([ 4,  9, 16])"
      ]
     },
     "execution_count": 229,
     "metadata": {},
     "output_type": "execute_result"
    }
   ],
   "source": [
    "item= (np.array([2, 3, 4]), np.array([2, 3, 4]))\n",
    "functools.reduce(lambda x,y:x*y,item)"
   ]
  },
  {
   "cell_type": "code",
   "execution_count": 230,
   "metadata": {},
   "outputs": [
    {
     "data": {
      "text/plain": [
       "[array([1., 1., 1.])]"
      ]
     },
     "execution_count": 230,
     "metadata": {},
     "output_type": "execute_result"
    }
   ],
   "source": [
    "features"
   ]
  },
  {
   "cell_type": "code",
   "execution_count": 273,
   "metadata": {},
   "outputs": [
    {
     "data": {
      "text/plain": [
       "array([[ 1.,  2.,  4.],\n",
       "       [ 1.,  3.,  9.],\n",
       "       [ 1.,  4., 16.]])"
      ]
     },
     "execution_count": 273,
     "metadata": {},
     "output_type": "execute_result"
    }
   ],
   "source": [
    "np.asarray(features).transpose()"
   ]
  },
  {
   "cell_type": "code",
   "execution_count": null,
   "metadata": {},
   "outputs": [],
   "source": []
  },
  {
   "cell_type": "code",
   "execution_count": null,
   "metadata": {},
   "outputs": [],
   "source": []
  }
 ],
 "metadata": {
  "kernelspec": {
   "display_name": "Python 3",
   "language": "python",
   "name": "python3"
  },
  "language_info": {
   "codemirror_mode": {
    "name": "ipython",
    "version": 3
   },
   "file_extension": ".py",
   "mimetype": "text/x-python",
   "name": "python",
   "nbconvert_exporter": "python",
   "pygments_lexer": "ipython3",
   "version": "3.7.6"
  }
 },
 "nbformat": 4,
 "nbformat_minor": 4
}
