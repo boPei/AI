{
 "cells": [
  {
   "cell_type": "code",
   "execution_count": 33,
   "metadata": {},
   "outputs": [],
   "source": [
    "%matplotlib inline\n",
    "\n",
    "import numpy as np\n",
    "from tqdm import tqdm\n",
    "from aif360.datasets import BinaryLabelDataset\n",
    "from aif360.datasets import AdultDataset,GermanDataset,CompasDataset\n",
    "from aif360.metrics import BinaryLabelDatasetMetric\n",
    "from aif360.metrics import ClassificationMetric\n",
    "from aif360.algorithms.preprocessing.optim_preproc import OptimPreproc\n",
    "from aif360.algorithms.preprocessing.optim_preproc_helpers.data_preproc_functions\\\n",
    "        import load_preproc_data_adult,load_preproc_data_german,load_preproc_data_compas\n",
    "from aif360.algorithms.preprocessing.optim_preproc_helpers.distortion_functions\\\n",
    "        import get_distortion_adult,get_distortion_compas,get_distortion_german\n",
    "\n",
    "from aif360.algorithms.preprocessing.optim_preproc_helpers.opt_tools import OptTools\n",
    "\n",
    "\n",
    "\n",
    "from common_utils import compute_metrics\n",
    "from IPython.display import Markdown,display\n",
    "import matplotlib.pyplot as plt"
   ]
  },
  {
   "cell_type": "markdown",
   "metadata": {},
   "source": [
    "### Load dataset and Specify Options"
   ]
  },
  {
   "cell_type": "code",
   "execution_count": 2,
   "metadata": {},
   "outputs": [],
   "source": [
    "dataset_used='adult'\n",
    "protected_attribute_used=1\n",
    "\n",
    "if dataset_used=='adult':\n",
    "    if protected_attribute_used==1:\n",
    "        privileged_groups=[{'sex':1}]\n",
    "        unprivileged_groups=[{'sex':0}]\n",
    "        dataset_orig=load_preproc_data_adult(['sex'])\n",
    "    else:\n",
    "        privileged_groups=[{'race':1}]\n",
    "        unprivilege_groups=[{'race':0}]\n",
    "        dataset_orig=load_preproc_data_adult(['race'])\n",
    "        \n",
    "    optim_options={'distortion_fun':get_distortion_adult,\n",
    "                  'epsilon':0.05,\n",
    "                  'clist':[0.99,1.99,2.99],\n",
    "                  'dlist':[.1,.05,0]}\n",
    "elif dataset_used=='german':\n",
    "    if protected_attribute_used==1:\n",
    "        privileged_groups=[{'sex':1}]\n",
    "        unprivileged_groups=[{'sex':0}]\n",
    "        dataset_orig=load_preproc_data_german(['sex'])\n",
    "    else:\n",
    "        privileged_groups=[{'race':1}]\n",
    "        unprivileged_groups=[{'race':0}]\n",
    "        dataset_orig=load_preproc_data_german(['race'])\n",
    "    optim_options={'distortion_fun':get_distortion_german,\n",
    "                  'epsilon':0.05,\n",
    "                  'clist':[0.99,1.99,2.99],\n",
    "                  'dlist':[0.1,0.05,0]}\n",
    "elif dataset_used=='compas':\n",
    "    if protected_attribute_used==1:\n",
    "        privileged_groups=[{'sex':1}]\n",
    "        unprivileged_groups=[{'sex':0}]\n",
    "        dataset_orig=load_preproc_data_compas(['sex'])\n",
    "    else:\n",
    "        privileged_groups=[{'race':1}]\n",
    "        unprivileged_groups=[{'race':0}]\n",
    "        dataset_orig=load_preproc_data_compas(['race'])\n",
    "    optim_options={'distortion_fun':get_distortion_compas,\n",
    "              'epsilon':0.05,\n",
    "              'clist':[0.99,1.99,2.99],\n",
    "              'dlist':[0.1,0.05,0]}\n",
    "    \n",
    "np.random.seed(0)\n",
    "dataset_orig_train,dataset_orig_vt=dataset_orig.split([0.7],shuffle=True)\n",
    "dataset_orig_validation,dataset_orig_test=dataset_orig_vt.split([0.5],shuffle=True)\n",
    "        "
   ]
  },
  {
   "cell_type": "markdown",
   "metadata": {},
   "source": [
    "### Display dataset attributes"
   ]
  },
  {
   "cell_type": "code",
   "execution_count": 3,
   "metadata": {},
   "outputs": [
    {
     "data": {
      "text/markdown": [
       "#### Training Dataset shape"
      ],
      "text/plain": [
       "<IPython.core.display.Markdown object>"
      ]
     },
     "metadata": {},
     "output_type": "display_data"
    },
    {
     "name": "stdout",
     "output_type": "stream",
     "text": [
      "(34189, 18)\n"
     ]
    },
    {
     "data": {
      "text/markdown": [
       "#### Favorable and unfavorable labels"
      ],
      "text/plain": [
       "<IPython.core.display.Markdown object>"
      ]
     },
     "metadata": {},
     "output_type": "display_data"
    },
    {
     "name": "stdout",
     "output_type": "stream",
     "text": [
      "1.0 0.0\n"
     ]
    },
    {
     "data": {
      "text/markdown": [
       "#### Protected attributes name"
      ],
      "text/plain": [
       "<IPython.core.display.Markdown object>"
      ]
     },
     "metadata": {},
     "output_type": "display_data"
    },
    {
     "name": "stdout",
     "output_type": "stream",
     "text": [
      "['sex']\n"
     ]
    },
    {
     "data": {
      "text/markdown": [
       "#### Previleged and unprivileged protected attribute values"
      ],
      "text/plain": [
       "<IPython.core.display.Markdown object>"
      ]
     },
     "metadata": {},
     "output_type": "display_data"
    },
    {
     "name": "stdout",
     "output_type": "stream",
     "text": [
      "[array([1.])] [array([0.])]\n"
     ]
    },
    {
     "data": {
      "text/markdown": [
       "#### Dataset feature names"
      ],
      "text/plain": [
       "<IPython.core.display.Markdown object>"
      ]
     },
     "metadata": {},
     "output_type": "display_data"
    },
    {
     "name": "stdout",
     "output_type": "stream",
     "text": [
      "['race', 'sex', 'Age (decade)=10', 'Age (decade)=20', 'Age (decade)=30', 'Age (decade)=40', 'Age (decade)=50', 'Age (decade)=60', 'Age (decade)=>=70', 'Education Years=6', 'Education Years=7', 'Education Years=8', 'Education Years=9', 'Education Years=10', 'Education Years=11', 'Education Years=12', 'Education Years=<6', 'Education Years=>12']\n"
     ]
    }
   ],
   "source": [
    "# print out some labels,names,etc.\n",
    "display(Markdown('#### Training Dataset shape'))\n",
    "print(dataset_orig_train.features.shape)\n",
    "\n",
    "display(Markdown('#### Favorable and unfavorable labels'))\n",
    "print(dataset_orig_train.favorable_label,dataset_orig_train.unfavorable_label)\n",
    "\n",
    "display(Markdown('#### Protected attributes name'))\n",
    "print(dataset_orig_train.protected_attribute_names)\n",
    "\n",
    "display(Markdown('#### Previleged and unprivileged protected attribute values'))\n",
    "print(dataset_orig_train.privileged_protected_attributes,dataset_orig_train.unprivileged_protected_attributes)\n",
    "\n",
    "display(Markdown('#### Dataset feature names'))\n",
    "print(dataset_orig_train.feature_names)"
   ]
  },
  {
   "cell_type": "markdown",
   "metadata": {},
   "source": [
    "### Metric for orignal training dataset"
   ]
  },
  {
   "cell_type": "code",
   "execution_count": 4,
   "metadata": {},
   "outputs": [
    {
     "data": {
      "text/markdown": [
       "#### Original training dataset"
      ],
      "text/plain": [
       "<IPython.core.display.Markdown object>"
      ]
     },
     "metadata": {},
     "output_type": "display_data"
    },
    {
     "name": "stdout",
     "output_type": "stream",
     "text": [
      "Difference in mean outcomes between unprivileged and privileged groups = -0.193075\n"
     ]
    }
   ],
   "source": [
    "# metric for the original dataset\n",
    "metric_orig_train=BinaryLabelDatasetMetric(dataset_orig_train,\n",
    "                                           privileged_groups=privileged_groups,\n",
    "                                           unprivileged_groups=unprivileged_groups)\n",
    "display(Markdown('#### Original training dataset'))\n",
    "print('Difference in mean outcomes between unprivileged and privileged groups = %f'%metric_orig_train.mean_difference())"
   ]
  },
  {
   "cell_type": "markdown",
   "metadata": {},
   "source": [
    "### Train and transform the original training data"
   ]
  },
  {
   "cell_type": "code",
   "execution_count": 5,
   "metadata": {},
   "outputs": [
    {
     "name": "stderr",
     "output_type": "stream",
     "text": [
      "Privileged and unprivileged groups specified will not be used. The protected attributes are directly specified in the data preprocessing function. The current implementation automatically adjusts for discrimination across all groups. This can be changed by changing the optimization code.\n",
      "\n",
      "This use of ``*`` has resulted in matrix multiplication.\n",
      "Using ``*`` for matrix multiplication has been deprecated since CVXPY 1.1.\n",
      "    Use ``*`` for matrix-scalar and vector-scalar multiplication.\n",
      "    Use ``@`` for matrix-matrix and matrix-vector multiplication.\n",
      "    Use ``multiply`` for elementwise multiplication.\n",
      "This code path has been hit 1 times so far.\n",
      "\n",
      "\n",
      "This use of ``*`` has resulted in matrix multiplication.\n",
      "Using ``*`` for matrix multiplication has been deprecated since CVXPY 1.1.\n",
      "    Use ``*`` for matrix-scalar and vector-scalar multiplication.\n",
      "    Use ``@`` for matrix-matrix and matrix-vector multiplication.\n",
      "    Use ``multiply`` for elementwise multiplication.\n",
      "This code path has been hit 2 times so far.\n",
      "\n",
      "\n",
      "This use of ``*`` has resulted in matrix multiplication.\n",
      "Using ``*`` for matrix multiplication has been deprecated since CVXPY 1.1.\n",
      "    Use ``*`` for matrix-scalar and vector-scalar multiplication.\n",
      "    Use ``@`` for matrix-matrix and matrix-vector multiplication.\n",
      "    Use ``multiply`` for elementwise multiplication.\n",
      "This code path has been hit 3 times so far.\n",
      "\n",
      "\n",
      "This use of ``*`` has resulted in matrix multiplication.\n",
      "Using ``*`` for matrix multiplication has been deprecated since CVXPY 1.1.\n",
      "    Use ``*`` for matrix-scalar and vector-scalar multiplication.\n",
      "    Use ``@`` for matrix-matrix and matrix-vector multiplication.\n",
      "    Use ``multiply`` for elementwise multiplication.\n",
      "This code path has been hit 4 times so far.\n",
      "\n"
     ]
    },
    {
     "name": "stdout",
     "output_type": "stream",
     "text": [
      "Optimized Preprocessing: Objective converged to 0.011652\n"
     ]
    }
   ],
   "source": [
    "OP=OptimPreproc(OptTools,\n",
    "               optim_options,\n",
    "               unprivileged_groups=unprivileged_groups,\n",
    "               privileged_groups=privileged_groups)\n",
    "OP=OP.fit(dataset_orig_train)\n",
    "\n",
    "dataset_transf_train=OP.transform(dataset_orig_train)\n",
    "dataset_transf_train=dataset_orig_train.align_datasets(dataset_transf_train)"
   ]
  },
  {
   "cell_type": "markdown",
   "metadata": {},
   "source": [
    "### Metrics with the transformed train data"
   ]
  },
  {
   "cell_type": "code",
   "execution_count": 6,
   "metadata": {},
   "outputs": [
    {
     "data": {
      "text/markdown": [
       "#### Transformed training dataset"
      ],
      "text/plain": [
       "<IPython.core.display.Markdown object>"
      ]
     },
     "metadata": {},
     "output_type": "display_data"
    },
    {
     "name": "stdout",
     "output_type": "stream",
     "text": [
      "Difference in mean outcomes between unprivileged and privileged groups=-0.051548\n"
     ]
    }
   ],
   "source": [
    "metric_transf_train=BinaryLabelDatasetMetric(dataset_transf_train,\n",
    "                                            unprivileged_groups=unprivileged_groups,\n",
    "                                            privileged_groups=privileged_groups)\n",
    "display(Markdown('#### Transformed training dataset'))\n",
    "print('Difference in mean outcomes between unprivileged and privileged groups=%f'%metric_transf_train.mean_difference())"
   ]
  },
  {
   "cell_type": "code",
   "execution_count": 7,
   "metadata": {},
   "outputs": [],
   "source": [
    "#### Testing\n",
    "assert np.abs(metric_transf_train.mean_difference())<np.abs(metric_orig_train.mean_difference())"
   ]
  },
  {
   "cell_type": "markdown",
   "metadata": {},
   "source": [
    "### Load, clean up original test data and compute metric"
   ]
  },
  {
   "cell_type": "code",
   "execution_count": 8,
   "metadata": {},
   "outputs": [
    {
     "data": {
      "text/markdown": [
       "#### Testing Dataset shape"
      ],
      "text/plain": [
       "<IPython.core.display.Markdown object>"
      ]
     },
     "metadata": {},
     "output_type": "display_data"
    },
    {
     "name": "stdout",
     "output_type": "stream",
     "text": [
      "(7327, 18)\n"
     ]
    },
    {
     "data": {
      "text/markdown": [
       "#### Original test dataset"
      ],
      "text/plain": [
       "<IPython.core.display.Markdown object>"
      ]
     },
     "metadata": {},
     "output_type": "display_data"
    },
    {
     "name": "stdout",
     "output_type": "stream",
     "text": [
      "Difference in mean difference between unprivileged and privileged groups =-0.199265\n"
     ]
    }
   ],
   "source": [
    "dataset_orig_test=dataset_transf_train.align_datasets(dataset_orig_test)\n",
    "display(Markdown('#### Testing Dataset shape'))\n",
    "print(dataset_orig_test.features.shape)\n",
    "\n",
    "metric_orig_test=BinaryLabelDatasetMetric(dataset_orig_test,\n",
    "                                         unprivileged_groups=unprivileged_groups,\n",
    "                                         privileged_groups=privileged_groups)\n",
    "display(Markdown('#### Original test dataset'))\n",
    "print('Difference in mean difference between unprivileged and privileged groups =%f'%metric_orig_test.mean_difference())"
   ]
  },
  {
   "cell_type": "markdown",
   "metadata": {},
   "source": [
    "### Transform test data and compute metric"
   ]
  },
  {
   "cell_type": "code",
   "execution_count": 9,
   "metadata": {},
   "outputs": [
    {
     "data": {
      "text/markdown": [
       "#### Transform test dataset"
      ],
      "text/plain": [
       "<IPython.core.display.Markdown object>"
      ]
     },
     "metadata": {},
     "output_type": "display_data"
    },
    {
     "name": "stdout",
     "output_type": "stream",
     "text": [
      "Difference in mean difference between unprivileged and privileged groups =-0.051017\n"
     ]
    }
   ],
   "source": [
    "dataset_transf_test=OP.transform(dataset_orig_test,transform_Y=True)\n",
    "dataset_transf_test=dataset_orig_test.align_datasets(dataset_transf_test)\n",
    "\n",
    "metric_transf_test=BinaryLabelDatasetMetric(dataset_transf_test,\n",
    "                                           unprivileged_groups=unprivileged_groups,\n",
    "                                           privileged_groups=privileged_groups)\n",
    "display(Markdown('#### Transform test dataset'))\n",
    "print('Difference in mean difference between unprivileged and privileged groups =%f'%metric_transf_test.mean_difference())"
   ]
  },
  {
   "cell_type": "code",
   "execution_count": 10,
   "metadata": {},
   "outputs": [],
   "source": [
    "#### Testing\n",
    "assert np.abs(metric_transf_test.mean_difference())<np.abs(metric_orig_test.mean_difference())"
   ]
  },
  {
   "cell_type": "markdown",
   "metadata": {},
   "source": [
    "### Train Classifier on transformed data and obtain predictions with its fairness metrics"
   ]
  },
  {
   "cell_type": "code",
   "execution_count": 11,
   "metadata": {},
   "outputs": [],
   "source": [
    "from sklearn.preprocessing import StandardScaler\n",
    "from sklearn.linear_model import LogisticRegression"
   ]
  },
  {
   "cell_type": "code",
   "execution_count": 12,
   "metadata": {},
   "outputs": [],
   "source": [
    "scale_transf=StandardScaler()\n",
    "X_train=scale_transf.fit_transform(dataset_orig_train.features)\n",
    "y_train=dataset_orig_train.labels.ravel()"
   ]
  },
  {
   "cell_type": "code",
   "execution_count": 13,
   "metadata": {},
   "outputs": [],
   "source": [
    "lmod=LogisticRegression()\n",
    "lmod.fit(X_train,y_train)\n",
    "y_train_pred=lmod.predict(X_train)\n",
    "\n",
    "dataset_transf_train_pred=dataset_transf_train.copy()\n",
    "dataset_transf_train_pred.labels=y_train_pred"
   ]
  },
  {
   "cell_type": "code",
   "execution_count": 14,
   "metadata": {},
   "outputs": [
    {
     "data": {
      "text/plain": [
       "1"
      ]
     },
     "execution_count": 14,
     "metadata": {},
     "output_type": "execute_result"
    }
   ],
   "source": [
    "pos_ind=np.where(lmod.classes_==dataset_orig_train.favorable_label)[0][0]\n",
    "pos_ind"
   ]
  },
  {
   "cell_type": "markdown",
   "metadata": {},
   "source": [
    "### Obtain Scores original test set"
   ]
  },
  {
   "cell_type": "code",
   "execution_count": 16,
   "metadata": {},
   "outputs": [],
   "source": [
    "dataset_orig_valid_pred=dataset_orig_validation.copy(deepcopy=True)\n",
    "X_valid=scale_transf.transform(dataset_orig_valid_pred.features)\n",
    "y_valid=dataset_orig_valid_pred.labels\n",
    "dataset_orig_valid_pred.scores=lmod.predict_proba(X_valid)[:,pos_ind].reshape(-1,1)\n",
    "\n",
    "dataset_orig_test_pred=dataset_orig_test.copy(deepcopy=True)\n",
    "X_test=scale_transf.transform(dataset_orig_test.features)\n",
    "y_test=dataset_orig_test_pred.labels\n",
    "dataset_orig_test_pred.scores=lmod.predict_proba(X_test)[:,pos_ind].reshape(-1,1)\n"
   ]
  },
  {
   "cell_type": "markdown",
   "metadata": {},
   "source": [
    "### Find the optimal classification threshold from the validation set"
   ]
  },
  {
   "cell_type": "code",
   "execution_count": 29,
   "metadata": {},
   "outputs": [
    {
     "name": "stdout",
     "output_type": "stream",
     "text": [
      "Best balance accuracy (no fairness contraints) =0.7414\n",
      "Optimal classification threshold (no fairness constraints)=0.2674\n"
     ]
    },
    {
     "name": "stderr",
     "output_type": "stream",
     "text": [
      "invalid value encountered in double_scalars\n"
     ]
    }
   ],
   "source": [
    "num_thresh=100\n",
    "ba_arr=np.zeros(num_thresh)\n",
    "class_thresh_arr=np.linspace(0.01,0.99,num_thresh)\n",
    "\n",
    "for ind,class_thresh in enumerate(class_thresh_arr):\n",
    "    fav_inds=dataset_orig_valid_pred.scores>class_thresh\n",
    "    dataset_orig_valid_pred.labels[fav_inds]=dataset_orig_valid_pred.favorable_label\n",
    "    dataset_orig_valid_pred.labels[~fav_inds]=dataset_orig_valid_pred.unfavorable_label\n",
    "    \n",
    "    classified_metric_orig_valid=ClassificationMetric(dataset_orig_validation,\n",
    "                                                     dataset_orig_valid_pred,\n",
    "                                                     unprivileged_groups=unprivileged_groups,\n",
    "                                                     privileged_groups=privileged_groups)\n",
    "    ba_arr[ind]=0.5*(classified_metric_orig_valid.true_positive_rate()\\\n",
    "                    +classified_metric_orig_valid.true_negative_rate())\n",
    "    \n",
    "best_ind=np.where(ba_arr==np.max(ba_arr))[0][0]\n",
    "best_class_thresh=class_thresh_arr[best_ind]\n",
    "\n",
    "print('Best balance accuracy (no fairness contraints) =%.4f'%np.max(ba_arr))\n",
    "print('Optimal classification threshold (no fairness constraints)=%.4f'%best_class_thresh)"
   ]
  },
  {
   "cell_type": "markdown",
   "metadata": {},
   "source": [
    "### Predictions and fairness metrics from original testset"
   ]
  },
  {
   "cell_type": "code",
   "execution_count": 30,
   "metadata": {},
   "outputs": [
    {
     "data": {
      "text/markdown": [
       "#### Predictions from original testing dataset"
      ],
      "text/plain": [
       "<IPython.core.display.Markdown object>"
      ]
     },
     "metadata": {},
     "output_type": "display_data"
    },
    {
     "data": {
      "text/markdown": [
       "#### Testing set"
      ],
      "text/plain": [
       "<IPython.core.display.Markdown object>"
      ]
     },
     "metadata": {},
     "output_type": "display_data"
    },
    {
     "data": {
      "text/markdown": [
       "#### Raw predictions - No fairnes constraints"
      ],
      "text/plain": [
       "<IPython.core.display.Markdown object>"
      ]
     },
     "metadata": {},
     "output_type": "display_data"
    },
    {
     "name": "stderr",
     "output_type": "stream",
     "text": [
      " 69%|███████████████████████████████████████████████████████▏                        | 69/100 [00:00<00:00, 225.54it/s]"
     ]
    },
    {
     "name": "stdout",
     "output_type": "stream",
     "text": [
      "Balanced accuracy = 0.7463\n",
      "Statistical parity difference = -0.3536\n",
      "Disparate impact = 0.2836\n",
      "Average odds difference = -0.2795\n",
      "Equal opportunity difference = -0.2947\n",
      "Theil index = 0.1095\n"
     ]
    },
    {
     "name": "stderr",
     "output_type": "stream",
     "text": [
      "invalid value encountered in double_scalars\n",
      "100%|███████████████████████████████████████████████████████████████████████████████| 100/100 [00:00<00:00, 223.83it/s]\n"
     ]
    }
   ],
   "source": [
    "display(Markdown(\"#### Predictions from original testing dataset\"))\n",
    "bal_acc_arr_orig=[]\n",
    "disp_imp_arr_orig=[]\n",
    "avg_odds_diff_arr_orig=[]\n",
    "\n",
    "display(Markdown('#### Testing set'))\n",
    "display(Markdown('#### Raw predictions - No fairnes constraints'))\n",
    "\n",
    "for thresh in tqdm(class_thresh_arr):\n",
    "    fav_inds=dataset_orig_test_pred.scores>thresh\n",
    "    dataset_orig_test_pred.labels[fav_inds]=dataset_orig_test_pred.favorable_label\n",
    "    dataset_orig_test_pred.labels[~fav_inds]=dataset_orig_test_pred.unfavorable_label\n",
    "    \n",
    "    if(thresh==best_class_thresh):\n",
    "        disp=True\n",
    "    else:\n",
    "        disp=False\n",
    "    \n",
    "    metric_test_bef=compute_metrics(dataset_orig_test,dataset_orig_test_pred,\n",
    "                                   unprivileged_groups,privileged_groups,disp)\n",
    "    \n",
    "    bal_acc_arr_orig.append(metric_test_bef['Balanced accuracy'])\n",
    "    avg_odds_diff_arr_orig.append(metric_test_bef['Average odds difference'])\n",
    "    disp_imp_arr_orig.append(metric_test_bef['Disparate impact'])"
   ]
  },
  {
   "cell_type": "code",
   "execution_count": 43,
   "metadata": {},
   "outputs": [
    {
     "name": "stdout",
     "output_type": "stream",
     "text": [
      "0.716427035412478\n"
     ]
    },
    {
     "data": {
      "image/png": "[encoded data removed]",
      "text/plain": [
       "<Figure size 720x504 with 2 Axes>"
      ]
     },
     "metadata": {
      "needs_background": "light"
     },
     "output_type": "display_data"
    }
   ],
   "source": [
    "fig,ax1=plt.subplots(figsize=(10,7))\n",
    "ax1.plot(class_thresh_arr,bal_acc_arr_orig)\n",
    "ax1.set_xlabel('Classification Thresholds',fontsize=16,fontweight='bold')\n",
    "ax1.set_ylabel('Balanced Accuracy',fontsize=16,fontweight='bold',c='b')\n",
    "ax1.xaxis.set_tick_params(labelsize=14)\n",
    "ax1.yaxis.set_tick_params(labelsize=14)\n",
    "\n",
    "ax2=ax1.twinx()\n",
    "ax2.plot(class_thresh_arr,np.abs(1.0-np.array(disp_imp_arr_orig)),color='r')\n",
    "ax2.set_ylabel('abs(1-disparate impact)',color='r',fontsize=16,weight='bold')\n",
    "ax2.axvline(np.array(class_thresh_arr)[best_ind],\n",
    "           color='k',linestyle=':')\n",
    "ax2.yaxis.set_tick_params(labelsize=14)\n",
    "ax2.grid(True)\n",
    "disp_imp_at_best_bal_acc_orig=np.abs(1.0-np.array(disp_imp_arr_orig))[best_ind]\n",
    "print(disp_imp_at_best_bal_acc_orig)"
   ]
  },
  {
   "cell_type": "markdown",
   "metadata": {},
   "source": [
    "### Train classifier on transformed data and obtain predictions with its fairness metrics"
   ]
  },
  {
   "cell_type": "code",
   "execution_count": 44,
   "metadata": {},
   "outputs": [],
   "source": [
    "scale_transf=StandardScaler()\n",
    "X_train=scale_transf.fit_transform(dataset_transf_train.features)\n",
    "y_train=dataset_transf_train.labels.ravel()\n",
    "\n",
    "lmod=LogisticRegression()\n",
    "lmod.fit(X_train,y_train)\n",
    "y_train_pred=lmod.predict(X_train)\n",
    "\n",
    "dataset_transf_train_pred=dataset_transf_train.copy()\n",
    "dataset_transf_train_pred.labels=y_train_pred"
   ]
  },
  {
   "cell_type": "markdown",
   "metadata": {},
   "source": [
    "### Predictions and fairness metrics from transformed testset"
   ]
  },
  {
   "cell_type": "code",
   "execution_count": 46,
   "metadata": {},
   "outputs": [],
   "source": [
    "dataset_transf_test_pred=dataset_transf_test.copy(deepcopy=True)\n",
    "X_test=scale_transf.transform(dataset_transf_test_pred.features)\n",
    "y_test=dataset_transf_test_pred.labels\n",
    "dataset_transf_test_pred.scores=lmod.predict_proba(X_test)[:,pos_ind].reshape(-1,1)"
   ]
  },
  {
   "cell_type": "code",
   "execution_count": 48,
   "metadata": {},
   "outputs": [
    {
     "data": {
      "text/markdown": [
       "#### Predictions from the transformed test data"
      ],
      "text/plain": [
       "<IPython.core.display.Markdown object>"
      ]
     },
     "metadata": {},
     "output_type": "display_data"
    },
    {
     "data": {
      "text/markdown": [
       "#### Testing set"
      ],
      "text/plain": [
       "<IPython.core.display.Markdown object>"
      ]
     },
     "metadata": {},
     "output_type": "display_data"
    },
    {
     "data": {
      "text/markdown": [
       "#### Transformed predictions - No fairness constraints"
      ],
      "text/plain": [
       "<IPython.core.display.Markdown object>"
      ]
     },
     "metadata": {},
     "output_type": "display_data"
    },
    {
     "name": "stderr",
     "output_type": "stream",
     "text": [
      " 45%|████████████████████████████████████                                            | 45/100 [00:00<00:00, 221.79it/s]invalid value encountered in double_scalars\n",
      " 70%|████████████████████████████████████████████████████████                        | 70/100 [00:00<00:00, 230.40it/s]"
     ]
    },
    {
     "name": "stdout",
     "output_type": "stream",
     "text": [
      "Balanced accuracy = 0.6969\n",
      "Statistical parity difference = -0.0757\n",
      "Disparate impact = 0.8069\n",
      "Average odds difference = -0.0706\n",
      "Equal opportunity difference = -0.0975\n",
      "Theil index = 0.1372\n"
     ]
    },
    {
     "name": "stderr",
     "output_type": "stream",
     "text": [
      "100%|███████████████████████████████████████████████████████████████████████████████| 100/100 [00:00<00:00, 229.87it/s]\n"
     ]
    }
   ],
   "source": [
    "display(Markdown('#### Predictions from the transformed test data'))\n",
    "bal_acc_arr_transf=[]\n",
    "disp_imp_arr_transf=[]\n",
    "avg_odds_diff_arr_transf=[]\n",
    "\n",
    "display(Markdown('#### Testing set'))\n",
    "display(Markdown('#### Transformed predictions - No fairness constraints'))\n",
    "for thresh in tqdm(class_thresh_arr):\n",
    "    fav_inds=dataset_transf_test_pred.scores>thresh\n",
    "    dataset_transf_test_pred.labels[fav_inds]=dataset_transf_test_pred.favorable_label\n",
    "    dataset_transf_test_pred.labels[~fav_inds]=dataset_transf_test_pred.unfavorable_label\n",
    "    \n",
    "    if thresh==best_class_thresh:\n",
    "        disp=True\n",
    "    else:\n",
    "        disp=False\n",
    "        \n",
    "    metric_test_bef=compute_metrics(dataset_transf_test,\n",
    "                                   dataset_transf_test_pred,\n",
    "                                   unprivileged_groups,\n",
    "                                   privileged_groups,\n",
    "                                   disp)\n",
    "    \n",
    "    bal_acc_arr_transf.append(metric_test_bef['Balanced accuracy'])\n",
    "    disp_imp_arr_transf.append(metric_test_bef['Disparate impact'])\n",
    "    avg_odds_diff_arr_transf.append(metric_test_bef['Average odds difference'])"
   ]
  },
  {
   "cell_type": "code",
   "execution_count": 60,
   "metadata": {},
   "outputs": [
    {
     "name": "stdout",
     "output_type": "stream",
     "text": [
      "0.19312249656244396\n"
     ]
    },
    {
     "data": {
      "image/png": "[encoded data removed]",
      "text/plain": [
       "<Figure size 720x504 with 2 Axes>"
      ]
     },
     "metadata": {
      "needs_background": "light"
     },
     "output_type": "display_data"
    }
   ],
   "source": [
    "fig,ax1=plt.subplots(figsize=(10,7))\n",
    "ax1.plot(class_thresh_arr,bal_acc_arr_transf)\n",
    "ax1.set_xlabel('Classification Threshold',fontsize=16,fontweight='bold')\n",
    "ax1.set_ylabel('Balanced Accuracy',fontsize=16,fontweight='bold',color='b')\n",
    "ax1.xaxis.set_tick_params(labelsize=14)\n",
    "ax1.yaxis.set_tick_params(labelsize=14)\n",
    "\n",
    "ax2=ax1.twinx()\n",
    "ax2.plot(class_thresh_arr,np.abs(1.0-np.array(disp_imp_arr_transf)),color='r')\n",
    "ax2.set_ylabel('abs(1-disparate impact)',fontsize=16,fontweight='bold',color='r')\n",
    "ax2.yaxis.set_tick_params(labelsize=14)\n",
    "ax2.grid(True)\n",
    "ax2.axvline(np.array(class_thresh_arr)[best_ind],\n",
    "           color='k',linestyle=':')\n",
    "disp_imp_at_best_bal_acc_transf=np.abs(1.0-np.array(disp_imp_arr_transf))[best_ind]\n",
    "print(disp_imp_at_best_bal_acc_transf)"
   ]
  },
  {
   "cell_type": "code",
   "execution_count": null,
   "metadata": {},
   "outputs": [],
   "source": []
  },
  {
   "cell_type": "code",
   "execution_count": null,
   "metadata": {},
   "outputs": [],
   "source": []
  },
  {
   "cell_type": "code",
   "execution_count": null,
   "metadata": {},
   "outputs": [],
   "source": []
  },
  {
   "cell_type": "code",
   "execution_count": null,
   "metadata": {},
   "outputs": [],
   "source": []
  },
  {
   "cell_type": "markdown",
   "metadata": {},
   "source": [
    "### Predictions and fairness metrics from transformed test set"
   ]
  },
  {
   "cell_type": "code",
   "execution_count": null,
   "metadata": {},
   "outputs": [],
   "source": [
    "dataset_transf_test_pred=dataset_transf_test.copy(deepcopy=True)\n",
    "X_test=scale_transf.transform(dataset_transf_test_pred.features)\n",
    "y_test=dataset_transf_test_pred.labels\n",
    "dataset_transf_test_pred.scores=lmod.predict_proba(X_test)[:,]"
   ]
  },
  {
   "cell_type": "code",
   "execution_count": null,
   "metadata": {},
   "outputs": [],
   "source": []
  },
  {
   "cell_type": "code",
   "execution_count": null,
   "metadata": {},
   "outputs": [],
   "source": []
  },
  {
   "cell_type": "code",
   "execution_count": null,
   "metadata": {},
   "outputs": [],
   "source": []
  },
  {
   "cell_type": "code",
   "execution_count": 35,
   "metadata": {},
   "outputs": [
    {
     "data": {
      "text/plain": [
       "array([1., 1., 1., ..., 0., 0., 0.])"
      ]
     },
     "execution_count": 35,
     "metadata": {},
     "output_type": "execute_result"
    }
   ],
   "source": [
    "y_train_pred"
   ]
  },
  {
   "cell_type": "code",
   "execution_count": 36,
   "metadata": {},
   "outputs": [
    {
     "data": {
      "text/plain": [
       "array([0., 1.])"
      ]
     },
     "execution_count": 36,
     "metadata": {},
     "output_type": "execute_result"
    }
   ],
   "source": [
    "lmod.classes_==da"
   ]
  },
  {
   "cell_type": "code",
   "execution_count": null,
   "metadata": {},
   "outputs": [],
   "source": []
  },
  {
   "cell_type": "code",
   "execution_count": null,
   "metadata": {},
   "outputs": [],
   "source": []
  },
  {
   "cell_type": "code",
   "execution_count": null,
   "metadata": {},
   "outputs": [],
   "source": []
  },
  {
   "cell_type": "code",
   "execution_count": null,
   "metadata": {},
   "outputs": [],
   "source": []
  },
  {
   "cell_type": "code",
   "execution_count": 31,
   "metadata": {},
   "outputs": [
    {
     "data": {
      "text/plain": [
       "array([[0.],\n",
       "       [1.],\n",
       "       [1.],\n",
       "       ...,\n",
       "       [0.],\n",
       "       [0.],\n",
       "       [0.]])"
      ]
     },
     "execution_count": 31,
     "metadata": {},
     "output_type": "execute_result"
    }
   ],
   "source": [
    "dataset_orig_train.labels"
   ]
  },
  {
   "cell_type": "code",
   "execution_count": null,
   "metadata": {},
   "outputs": [],
   "source": []
  }
 ],
 "metadata": {
  "kernelspec": {
   "display_name": "Python 3",
   "language": "python",
   "name": "python3"
  },
  "language_info": {
   "codemirror_mode": {
    "name": "ipython",
    "version": 3
   },
   "file_extension": ".py",
   "mimetype": "text/x-python",
   "name": "python",
   "nbconvert_exporter": "python",
   "pygments_lexer": "ipython3",
   "version": "3.7.6"
  }
 },
 "nbformat": 4,
 "nbformat_minor": 4
}
