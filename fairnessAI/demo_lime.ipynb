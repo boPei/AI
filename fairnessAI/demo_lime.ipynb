{
 "cells": [
  {
   "cell_type": "markdown",
   "metadata": {},
   "source": [
    "# LIME AND AIF360 for generating explanations of model predictions"
   ]
  },
  {
   "cell_type": "code",
   "execution_count": 2,
   "metadata": {},
   "outputs": [],
   "source": [
    "from __future__ import print_function\n",
    "import numpy as np\n",
    "from tqdm import tqdm\n",
    "import matplotlib.pyplot as plt\n",
    "from collections import OrderedDict\n",
    "from IPython.display import Markdown,display"
   ]
  },
  {
   "cell_type": "code",
   "execution_count": 126,
   "metadata": {},
   "outputs": [],
   "source": [
    "from sklearn.model_selection import train_test_split\n",
    "from sklearn.ensemble import RandomForestClassifier\n",
    "from sklearn.linear_model import LogisticRegression\n",
    "from sklearn.metrics import accuracy_score,precision_score,recall_score,f1_score\n",
    "from sklearn.preprocessing import StandardScaler"
   ]
  },
  {
   "cell_type": "code",
   "execution_count": 85,
   "metadata": {},
   "outputs": [],
   "source": [
    "from aif360.datasets import BinaryLabelDataset\n",
    "from aif360.datasets.adult_dataset import AdultDataset\n",
    "from aif360.metrics.binary_label_dataset_metric import BinaryLabelDatasetMetric\n",
    "from aif360.metrics.classification_metric import ClassificationMetric\n",
    "from aif360.algorithms.preprocessing.reweighing import Reweighing\n",
    "from aif360.algorithms.preprocessing.optim_preproc_helpers.data_preproc_functions import load_preproc_data_adult"
   ]
  },
  {
   "cell_type": "code",
   "execution_count": 103,
   "metadata": {},
   "outputs": [],
   "source": [
    "from aif360.datasets.lime_encoder import LimeEncoder\n",
    "import lime"
   ]
  },
  {
   "cell_type": "markdown",
   "metadata": {},
   "source": [
    "## Bias detection and mitigation"
   ]
  },
  {
   "cell_type": "code",
   "execution_count": 92,
   "metadata": {},
   "outputs": [
    {
     "name": "stderr",
     "output_type": "stream",
     "text": [
      "WARNING:root:Missing Data: 3620 rows removed from AdultDataset.\n"
     ]
    }
   ],
   "source": [
    "np.random.seed(1)\n",
    "dataset_orig=AdultDataset()\n",
    "dataset_orig_train,dataset_orig_test=dataset_orig.split([0.7],shuffle=True)"
   ]
  },
  {
   "cell_type": "code",
   "execution_count": 203,
   "metadata": {},
   "outputs": [],
   "source": [
    "scaler=StandardScaler().fit(dataset_orig_train.features)\n",
    "dataset_orig_train.features=scaler.transform(dataset_orig_train.features)\n",
    "dataset_orig_test.features=scaler.transform(dataset_orig_test.features)"
   ]
  },
  {
   "cell_type": "code",
   "execution_count": 204,
   "metadata": {},
   "outputs": [
    {
     "data": {
      "text/html": [
       "<div>\n",
       "<style scoped>\n",
       "    .dataframe tbody tr th:only-of-type {\n",
       "        vertical-align: middle;\n",
       "    }\n",
       "\n",
       "    .dataframe tbody tr th {\n",
       "        vertical-align: top;\n",
       "    }\n",
       "\n",
       "    .dataframe thead th {\n",
       "        text-align: right;\n",
       "    }\n",
       "</style>\n",
       "<table border=\"1\" class=\"dataframe\">\n",
       "  <thead>\n",
       "    <tr style=\"text-align: right;\">\n",
       "      <th></th>\n",
       "      <th>age</th>\n",
       "      <th>education-num</th>\n",
       "      <th>race</th>\n",
       "      <th>sex</th>\n",
       "      <th>capital-gain</th>\n",
       "      <th>capital-loss</th>\n",
       "      <th>hours-per-week</th>\n",
       "      <th>workclass=Federal-gov</th>\n",
       "      <th>workclass=Local-gov</th>\n",
       "      <th>workclass=Private</th>\n",
       "      <th>...</th>\n",
       "      <th>native-country=Puerto-Rico</th>\n",
       "      <th>native-country=Scotland</th>\n",
       "      <th>native-country=South</th>\n",
       "      <th>native-country=Taiwan</th>\n",
       "      <th>native-country=Thailand</th>\n",
       "      <th>native-country=Trinadad&amp;Tobago</th>\n",
       "      <th>native-country=United-States</th>\n",
       "      <th>native-country=Vietnam</th>\n",
       "      <th>native-country=Yugoslavia</th>\n",
       "      <th>income-per-year</th>\n",
       "    </tr>\n",
       "  </thead>\n",
       "  <tbody>\n",
       "    <tr>\n",
       "      <th>42093</th>\n",
       "      <td>1.922382</td>\n",
       "      <td>-0.051168</td>\n",
       "      <td>1.0</td>\n",
       "      <td>0.0</td>\n",
       "      <td>-0.147624</td>\n",
       "      <td>-0.220478</td>\n",
       "      <td>-0.073497</td>\n",
       "      <td>-0.180053</td>\n",
       "      <td>-0.272359</td>\n",
       "      <td>0.598088</td>\n",
       "      <td>...</td>\n",
       "      <td>-0.060646</td>\n",
       "      <td>-0.017777</td>\n",
       "      <td>-0.04501</td>\n",
       "      <td>-0.036881</td>\n",
       "      <td>-0.021035</td>\n",
       "      <td>-0.021035</td>\n",
       "      <td>0.306354</td>\n",
       "      <td>-0.040564</td>\n",
       "      <td>-0.023853</td>\n",
       "      <td>0.0</td>\n",
       "    </tr>\n",
       "    <tr>\n",
       "      <th>31739</th>\n",
       "      <td>1.317618</td>\n",
       "      <td>-2.014006</td>\n",
       "      <td>1.0</td>\n",
       "      <td>1.0</td>\n",
       "      <td>-0.147624</td>\n",
       "      <td>-0.220478</td>\n",
       "      <td>-0.073497</td>\n",
       "      <td>-0.180053</td>\n",
       "      <td>-0.272359</td>\n",
       "      <td>0.598088</td>\n",
       "      <td>...</td>\n",
       "      <td>-0.060646</td>\n",
       "      <td>-0.017777</td>\n",
       "      <td>-0.04501</td>\n",
       "      <td>-0.036881</td>\n",
       "      <td>-0.021035</td>\n",
       "      <td>-0.021035</td>\n",
       "      <td>0.306354</td>\n",
       "      <td>-0.040564</td>\n",
       "      <td>-0.023853</td>\n",
       "      <td>0.0</td>\n",
       "    </tr>\n",
       "    <tr>\n",
       "      <th>10773</th>\n",
       "      <td>-0.194291</td>\n",
       "      <td>-2.014006</td>\n",
       "      <td>1.0</td>\n",
       "      <td>1.0</td>\n",
       "      <td>-0.147624</td>\n",
       "      <td>-0.220478</td>\n",
       "      <td>1.591412</td>\n",
       "      <td>-0.180053</td>\n",
       "      <td>-0.272359</td>\n",
       "      <td>0.598088</td>\n",
       "      <td>...</td>\n",
       "      <td>-0.060646</td>\n",
       "      <td>-0.017777</td>\n",
       "      <td>-0.04501</td>\n",
       "      <td>-0.036881</td>\n",
       "      <td>-0.021035</td>\n",
       "      <td>-0.021035</td>\n",
       "      <td>0.306354</td>\n",
       "      <td>-0.040564</td>\n",
       "      <td>-0.023853</td>\n",
       "      <td>0.0</td>\n",
       "    </tr>\n",
       "    <tr>\n",
       "      <th>15850</th>\n",
       "      <td>-1.479414</td>\n",
       "      <td>-0.443736</td>\n",
       "      <td>0.0</td>\n",
       "      <td>1.0</td>\n",
       "      <td>-0.147624</td>\n",
       "      <td>-0.220478</td>\n",
       "      <td>-0.323233</td>\n",
       "      <td>-0.180053</td>\n",
       "      <td>-0.272359</td>\n",
       "      <td>0.598088</td>\n",
       "      <td>...</td>\n",
       "      <td>-0.060646</td>\n",
       "      <td>-0.017777</td>\n",
       "      <td>-0.04501</td>\n",
       "      <td>-0.036881</td>\n",
       "      <td>-0.021035</td>\n",
       "      <td>-0.021035</td>\n",
       "      <td>0.306354</td>\n",
       "      <td>-0.040564</td>\n",
       "      <td>-0.023853</td>\n",
       "      <td>0.0</td>\n",
       "    </tr>\n",
       "    <tr>\n",
       "      <th>40645</th>\n",
       "      <td>-0.496673</td>\n",
       "      <td>0.733967</td>\n",
       "      <td>1.0</td>\n",
       "      <td>1.0</td>\n",
       "      <td>-0.147624</td>\n",
       "      <td>-0.220478</td>\n",
       "      <td>0.342730</td>\n",
       "      <td>-0.180053</td>\n",
       "      <td>-0.272359</td>\n",
       "      <td>0.598088</td>\n",
       "      <td>...</td>\n",
       "      <td>-0.060646</td>\n",
       "      <td>-0.017777</td>\n",
       "      <td>-0.04501</td>\n",
       "      <td>-0.036881</td>\n",
       "      <td>-0.021035</td>\n",
       "      <td>-0.021035</td>\n",
       "      <td>0.306354</td>\n",
       "      <td>-0.040564</td>\n",
       "      <td>-0.023853</td>\n",
       "      <td>1.0</td>\n",
       "    </tr>\n",
       "  </tbody>\n",
       "</table>\n",
       "<p>5 rows × 99 columns</p>\n",
       "</div>"
      ],
      "text/plain": [
       "            age  education-num  race  sex  capital-gain  capital-loss  \\\n",
       "42093  1.922382      -0.051168   1.0  0.0     -0.147624     -0.220478   \n",
       "31739  1.317618      -2.014006   1.0  1.0     -0.147624     -0.220478   \n",
       "10773 -0.194291      -2.014006   1.0  1.0     -0.147624     -0.220478   \n",
       "15850 -1.479414      -0.443736   0.0  1.0     -0.147624     -0.220478   \n",
       "40645 -0.496673       0.733967   1.0  1.0     -0.147624     -0.220478   \n",
       "\n",
       "       hours-per-week  workclass=Federal-gov  workclass=Local-gov  \\\n",
       "42093       -0.073497              -0.180053            -0.272359   \n",
       "31739       -0.073497              -0.180053            -0.272359   \n",
       "10773        1.591412              -0.180053            -0.272359   \n",
       "15850       -0.323233              -0.180053            -0.272359   \n",
       "40645        0.342730              -0.180053            -0.272359   \n",
       "\n",
       "       workclass=Private  ...  native-country=Puerto-Rico  \\\n",
       "42093           0.598088  ...                   -0.060646   \n",
       "31739           0.598088  ...                   -0.060646   \n",
       "10773           0.598088  ...                   -0.060646   \n",
       "15850           0.598088  ...                   -0.060646   \n",
       "40645           0.598088  ...                   -0.060646   \n",
       "\n",
       "       native-country=Scotland  native-country=South  native-country=Taiwan  \\\n",
       "42093                -0.017777              -0.04501              -0.036881   \n",
       "31739                -0.017777              -0.04501              -0.036881   \n",
       "10773                -0.017777              -0.04501              -0.036881   \n",
       "15850                -0.017777              -0.04501              -0.036881   \n",
       "40645                -0.017777              -0.04501              -0.036881   \n",
       "\n",
       "       native-country=Thailand  native-country=Trinadad&Tobago  \\\n",
       "42093                -0.021035                       -0.021035   \n",
       "31739                -0.021035                       -0.021035   \n",
       "10773                -0.021035                       -0.021035   \n",
       "15850                -0.021035                       -0.021035   \n",
       "40645                -0.021035                       -0.021035   \n",
       "\n",
       "       native-country=United-States  native-country=Vietnam  \\\n",
       "42093                      0.306354               -0.040564   \n",
       "31739                      0.306354               -0.040564   \n",
       "10773                      0.306354               -0.040564   \n",
       "15850                      0.306354               -0.040564   \n",
       "40645                      0.306354               -0.040564   \n",
       "\n",
       "       native-country=Yugoslavia  income-per-year  \n",
       "42093                  -0.023853              0.0  \n",
       "31739                  -0.023853              0.0  \n",
       "10773                  -0.023853              0.0  \n",
       "15850                  -0.023853              0.0  \n",
       "40645                  -0.023853              1.0  \n",
       "\n",
       "[5 rows x 99 columns]"
      ]
     },
     "execution_count": 204,
     "metadata": {},
     "output_type": "execute_result"
    }
   ],
   "source": [
    "dataset_df=dataset_orig_train.convert_to_dataframe()[0]\n",
    "dataset_df.head()"
   ]
  },
  {
   "cell_type": "code",
   "execution_count": 205,
   "metadata": {},
   "outputs": [],
   "source": [
    "# 自动获得 privileged_groups和unprivilged_groups\n",
    "def get_attributes(dataset,idx):\n",
    "#     assert idx<len(dataset.protected_attribute_names)\n",
    "    attr_name=dataset.protected_attribute_names[idx]\n",
    "    attr_idx=dataset.protected_attribute_names.index(attr_name)\n",
    "    priv_val=dataset.privileged_protected_attributes[attr_idx][0]\n",
    "    unpriv_val=dataset.unprivileged_protected_attributes[attr_idx][0]\n",
    "    privileged_groups=[{attr_name:priv_val}]\n",
    "    unprivileged_groups=[{attr_name:unpriv_val}]\n",
    "    return privileged_groups,unprivileged_groups\n",
    "\n",
    "train_privileged_groups,train_unprivileged_groups=get_attributes(dataset_orig_train,0)\n",
    "test_privileged_groups,test_unprivileged_groups=get_attributes(dataset_orig_test,0)"
   ]
  },
  {
   "cell_type": "code",
   "execution_count": 206,
   "metadata": {},
   "outputs": [],
   "source": [
    "# dataset level bias metrics\n",
    "# - mean difference\n",
    "# - disparate impact\n",
    "def dataset_metrics(dataset,\n",
    "                   unprivileged_groups,\n",
    "                   privileged_groups):\n",
    "    metric_dataset=BinaryLabelDatasetMetric(dataset,\n",
    "                                           unprivileged_groups=train_unprivileged_groups,\n",
    "                                           privileged_groups=train_privileged_groups)\n",
    "    metrics=OrderedDict()\n",
    "    metrics['Mean difference']=metric_dataset.mean_difference()\n",
    "    metrics['Disparate impact']=metric_dataset.disparate_impact()\n",
    "    return metrics"
   ]
  },
  {
   "cell_type": "code",
   "execution_count": 207,
   "metadata": {},
   "outputs": [],
   "source": [
    "# classifier based metrics\n",
    "def classification_metrics(dataset,\n",
    "                          dataset_pred,\n",
    "                          unprivileged_groups,\n",
    "                          privileged_groups):\n",
    "    metric_classifier=ClassificationMetric(dataset,\n",
    "                                          dataset_pred,\n",
    "                                          unprivileged_groups=unprivileged_groups,\n",
    "                                          privileged_groups=privileged_groups)\n",
    "    metrics=OrderedDict()\n",
    "    metrics[\"Balanced accuracy\"] = 0.5*(metric_classifier.true_positive_rate()+\n",
    "                                             metric_classifier.true_negative_rate())\n",
    "    metrics[\"Statistical parity difference\"] = metric_classifier.statistical_parity_difference()\n",
    "    metrics[\"Disparate impact\"] = metric_classifier.disparate_impact()\n",
    "    metrics[\"Average odds difference\"] = metric_classifier.average_odds_difference()\n",
    "    metrics[\"Equal opportunity difference\"] = metric_classifier.equal_opportunity_difference()\n",
    "    metrics[\"Theil index\"] = metric_classifier.theil_index()\n",
    "    return metrics"
   ]
  },
  {
   "cell_type": "code",
   "execution_count": 208,
   "metadata": {},
   "outputs": [],
   "source": [
    "metric_orig_Train=dataset_metrics(dataset_orig_train,\n",
    "                             privileged_groups=train_privileged_groups,\n",
    "                             unprivileged_groups=train_unprivileged_groups)\n",
    "metric_orig_Test=dataset_metrics(dataset_orig_test,\n",
    "                          privileged_groups=test_privileged_groups,\n",
    "                          unprivileged_groups=test_unprivileged_groups)"
   ]
  },
  {
   "cell_type": "code",
   "execution_count": 209,
   "metadata": {},
   "outputs": [],
   "source": [
    "# print the metrics\n",
    "def metrics_print(metrics):\n",
    "    for i in range(len(metrics)):\n",
    "        item=list(metrics.items())[i][0]\n",
    "        display(Markdown('#### %s'%item))\n",
    "        print(metrics[item])"
   ]
  },
  {
   "cell_type": "code",
   "execution_count": 210,
   "metadata": {},
   "outputs": [
    {
     "data": {
      "text/markdown": [
       "#### Mean difference"
      ],
      "text/plain": [
       "<IPython.core.display.Markdown object>"
      ]
     },
     "metadata": {},
     "output_type": "display_data"
    },
    {
     "name": "stdout",
     "output_type": "stream",
     "text": [
      "-0.09709386740311857\n"
     ]
    },
    {
     "data": {
      "text/markdown": [
       "#### Disparate impact"
      ],
      "text/plain": [
       "<IPython.core.display.Markdown object>"
      ]
     },
     "metadata": {},
     "output_type": "display_data"
    },
    {
     "name": "stdout",
     "output_type": "stream",
     "text": [
      "0.627876156298822\n"
     ]
    }
   ],
   "source": [
    "metrics_print(metric_orig_Test)"
   ]
  },
  {
   "cell_type": "markdown",
   "metadata": {},
   "source": [
    "### Transform data using Re-weighing algorithm"
   ]
  },
  {
   "cell_type": "code",
   "execution_count": 211,
   "metadata": {},
   "outputs": [],
   "source": [
    "RW=Reweighing(unprivileged_groups=train_unprivileged_groups,\n",
    "             privileged_groups=train_privileged_groups)\n",
    "RW.fit(dataset_orig_train)\n",
    "dataset_transf_train=RW.transform(dataset_orig_train)\n",
    "dataset_transf_train=dataset_orig_train.align_datasets(dataset_transf_train)\n",
    "\n",
    "dataset_transf_test=RW.transform(dataset_orig_test)\n",
    "dataset_transf_test=dataset_orig_test.align_datasets(dataset_transf_test)"
   ]
  },
  {
   "cell_type": "code",
   "execution_count": 212,
   "metadata": {},
   "outputs": [
    {
     "data": {
      "text/markdown": [
       "#### Mean difference"
      ],
      "text/plain": [
       "<IPython.core.display.Markdown object>"
      ]
     },
     "metadata": {},
     "output_type": "display_data"
    },
    {
     "name": "stdout",
     "output_type": "stream",
     "text": [
      "2.7755575615628914e-17\n"
     ]
    },
    {
     "data": {
      "text/markdown": [
       "#### Disparate impact"
      ],
      "text/plain": [
       "<IPython.core.display.Markdown object>"
      ]
     },
     "metadata": {},
     "output_type": "display_data"
    },
    {
     "name": "stdout",
     "output_type": "stream",
     "text": [
      "1.0000000000000002\n"
     ]
    }
   ],
   "source": [
    "metric_transf_train=dataset_metrics(dataset_transf_train,\n",
    "                                   unprivileged_groups=train_unprivileged_groups,\n",
    "                                   privileged_groups=train_privileged_groups)\n",
    "metrics_print(metric_transf_train)"
   ]
  },
  {
   "cell_type": "code",
   "execution_count": 213,
   "metadata": {},
   "outputs": [
    {
     "data": {
      "text/markdown": [
       "#### Mean difference"
      ],
      "text/plain": [
       "<IPython.core.display.Markdown object>"
      ]
     },
     "metadata": {},
     "output_type": "display_data"
    },
    {
     "name": "stdout",
     "output_type": "stream",
     "text": [
      "0.01298977595547382\n"
     ]
    },
    {
     "data": {
      "text/markdown": [
       "#### Disparate impact"
      ],
      "text/plain": [
       "<IPython.core.display.Markdown object>"
      ]
     },
     "metadata": {},
     "output_type": "display_data"
    },
    {
     "name": "stdout",
     "output_type": "stream",
     "text": [
      "1.0527650295069613\n"
     ]
    }
   ],
   "source": [
    "metric_transf_test=dataset_metrics(dataset_transf_test,\n",
    "                                   unprivileged_groups=train_unprivileged_groups,\n",
    "                                   privileged_groups=train_privileged_groups)\n",
    "metrics_print(metric_transf_test)"
   ]
  },
  {
   "cell_type": "markdown",
   "metadata": {},
   "source": [
    "### Train a classifier on dataset_transf_train and evaluated on dataset_transf_test"
   ]
  },
  {
   "cell_type": "code",
   "execution_count": 214,
   "metadata": {},
   "outputs": [],
   "source": [
    "dataset=dataset_transf_train.copy()\n",
    "X_train=dataset.features\n",
    "y_train=dataset.labels.ravel()\n",
    "lr_transf_mod=LogisticRegression().fit(X_train,y_train,sample_weight=dataset.instance_weights)"
   ]
  },
  {
   "cell_type": "code",
   "execution_count": 215,
   "metadata": {},
   "outputs": [],
   "source": [
    "num_thresh=50\n",
    "thresh_arr=np.linspace(0.01,0.99,num_thresh)\n",
    "dataset_transf_test_pred=dataset_transf_test.copy(deepcopy=True)\n",
    "\n",
    "X_test=dataset_transf_test_pred.features\n",
    "y_test=dataset_transf_test.labels\n",
    "\n",
    "pos_ind=np.where(lr_transf_mod.classes_==dataset_transf_test_pred.favorable_label)[0][0]\n",
    "\n",
    "y_pred_score=lr_mod.predict_proba(X_test)[:,pos_ind].reshape(-1,1)\n",
    "dataset_transf_test_pred.scores=y_pred_score"
   ]
  },
  {
   "cell_type": "code",
   "execution_count": 216,
   "metadata": {},
   "outputs": [
    {
     "name": "stderr",
     "output_type": "stream",
     "text": [
      "100%|██████████████████████████████████████████████████████████████████████████████████| 50/50 [00:00<00:00, 97.65it/s]\n"
     ]
    }
   ],
   "source": [
    "acc_arr=[]\n",
    "mean_diff=[]\n",
    "disp_imp_dataset=[]\n",
    "bal_acc=[]\n",
    "stat_par_diff=[]\n",
    "disp_imp_cls=[]\n",
    "avg_odds_diff=[]\n",
    "eq_opp_diff=[]\n",
    "theil_indx=[]\n",
    "for thresh in tqdm(thresh_arr):\n",
    "    fav_ind=dataset_transf_test_pred.scores>thresh\n",
    "#     print(sum(fav_ind))\n",
    "    dataset_transf_test_pred.labels[fav_ind]=dataset_transf_test_pred.favorable_label\n",
    "    dataset_transf_test_pred.labels[~fav_ind]=dataset_transf_test_pred.unfavorable_label\n",
    "    \n",
    "    dataset_metric=dataset_metrics(dataset_transf_test_pred,\n",
    "                                  unprivileged_groups=test_unprivileged_groups,\n",
    "                                  privileged_groups=test_privileged_groups)\n",
    "    classified_metric=classification_metrics(dataset_transf_test,\n",
    "                                            dataset_transf_test_pred,\n",
    "                                            unprivileged_groups=test_unprivileged_groups,\n",
    "                                            privileged_groups=test_privileged_groups)\n",
    "    acc_arr.append(accuracy_score(y_test,dataset_transf_test_pred.labels))\n",
    "    mean_diff.append(dataset_metric['Mean difference'])\n",
    "    disp_imp_dataset.append(dataset_metric['Disparate impact'])\n",
    "    bal_acc.append(classified_metric['Balanced accuracy'])\n",
    "    stat_par_diff.append(classified_metric['Statistical parity difference'])\n",
    "    disp_imp_cls.append(classified_metric['Disparate impact'])\n",
    "    avg_odds_diff.append(classified_metric['Average odds difference'])\n",
    "    eq_opp_diff.append(classified_metric['Equal opportunity difference'])\n",
    "    theil_indx.append(classified_metric['Theil index'])\n",
    "#     metrics_print(dataset_metric)\n",
    "#     metrics_print(classified_metric)"
   ]
  },
  {
   "cell_type": "code",
   "execution_count": 217,
   "metadata": {},
   "outputs": [
    {
     "name": "stdout",
     "output_type": "stream",
     "text": [
      "Threshold corresponding to Best balance accuracy: 0.1900\n",
      "Best balance accuracy: 0.8243\n",
      "Corresponding abs(1-disparate impact) value: 0.9300\n",
      "Corresponding average odds difference value: -0.0233\n"
     ]
    }
   ],
   "source": [
    "best_thresh_arr_ind=np.where(bal_acc==np.max(bal_acc))[0][0]\n",
    "thresh_arr_best=thresh_arr[best_thresh_arr_ind]\n",
    "best_bal_acc=bal_acc[best_thresh_arr_ind]\n",
    "disp_imp_at_best_bal_acc=np.abs(1.0-np.array(disp_imp_cls))[best_thresh_arr_ind]\n",
    "avg_odds_diff_at_best_bal_acc=avg_odds_diff[best_thresh_arr_ind]\n",
    "print(\"Threshold corresponding to Best balance accuracy: %6.4f\" %thresh_arr_best)\n",
    "print(\"Best balance accuracy: %6.4f\"%best_bal_acc)\n",
    "print(\"Corresponding abs(1-disparate impact) value: %6.4f\" % np.abs(1.0-np.array(disp_imp_at_best_bal_acc)))\n",
    "print(\"Corresponding average odds difference value: %6.4f\" % avg_odds_diff_at_best_bal_acc)"
   ]
  },
  {
   "cell_type": "code",
   "execution_count": 218,
   "metadata": {},
   "outputs": [
    {
     "data": {
      "image/png": "[encoded data removed]",
      "text/plain": [
       "<Figure size 720x504 with 2 Axes>"
      ]
     },
     "metadata": {
      "needs_background": "light"
     },
     "output_type": "display_data"
    }
   ],
   "source": [
    "def plot_metrics(metricLabel1,metric1,metricLabel2,metric2):\n",
    "    fig,ax1=plt.subplots(figsize=(10,7))\n",
    "    ax1.plot(thresh_arr,metric1,color='b')\n",
    "    ax1.set_xlabel('Classification Threshold',fontsize=16,fontweight='bold')\n",
    "    ax1.set_ylabel(metricLabel1,fontsize=16,fontweight='bold',color='b')\n",
    "    ax1.yaxis.set_tick_params(labelsize=14)\n",
    "\n",
    "    ax2=ax1.twinx()\n",
    "    ax2.plot(thresh_arr,metric2,color='r')\n",
    "    ax2.set_ylabel(metricLabel2,fontsize=16,fontweight='bold',c='r')\n",
    "    ax2.yaxis.set_tick_params(labelsize=14)\n",
    "    ax1.yaxis.set_tick_params(labelsize=14)\n",
    "    \n",
    "    ax2.axvline(thresh_arr_best,color='k',linestyle=':')\n",
    "    ax2.grid(True)\n",
    "plot_metrics('Mean diff',mean_diff,'Disparate Impact',disp_imp_dataset)"
   ]
  },
  {
   "cell_type": "code",
   "execution_count": 219,
   "metadata": {},
   "outputs": [
    {
     "data": {
      "image/png": "[encoded data removed]",
      "text/plain": [
       "<Figure size 720x504 with 2 Axes>"
      ]
     },
     "metadata": {
      "needs_background": "light"
     },
     "output_type": "display_data"
    }
   ],
   "source": [
    "plot_metrics('Balanced Accuracy',bal_acc,'abd(1-Disparate Impact)',np.abs(1.0-np.array(disp_imp_cls)))"
   ]
  },
  {
   "cell_type": "code",
   "execution_count": 220,
   "metadata": {},
   "outputs": [
    {
     "data": {
      "image/png": "[encoded data removed]",
      "text/plain": [
       "<Figure size 720x504 with 2 Axes>"
      ]
     },
     "metadata": {
      "needs_background": "light"
     },
     "output_type": "display_data"
    }
   ],
   "source": [
    "plot_metrics('Balanced Accuracy',bal_acc,'avg. odds diff',avg_odds_diff)"
   ]
  },
  {
   "cell_type": "markdown",
   "metadata": {},
   "source": [
    "## Use LIME to generate explanations for predictions made using the learned classifier"
   ]
  },
  {
   "cell_type": "markdown",
   "metadata": {},
   "source": [
    "### Working on original dataset"
   ]
  },
  {
   "cell_type": "code",
   "execution_count": 221,
   "metadata": {},
   "outputs": [
    {
     "name": "stderr",
     "output_type": "stream",
     "text": [
      "WARNING:root:Missing Data: 3620 rows removed from AdultDataset.\n"
     ]
    }
   ],
   "source": [
    "np.random.seed(1)\n",
    "dataset_orig=AdultDataset()\n",
    "dataset_orig_train,dataset_orig_test=dataset_orig.split([0.7],shuffle=True)\n"
   ]
  },
  {
   "cell_type": "code",
   "execution_count": 222,
   "metadata": {},
   "outputs": [],
   "source": [
    "scaler=StandardScaler().fit(dataset_orig_train.features)\n",
    "# dataset_orig_train.features=scaler.transform(dataset_orig_train.features)\n",
    "# dataset_orig_test.features=scaler.transform(dataset_orig_test.features)\n",
    "\n",
    "# 若是执行了scaler transform结果将会出错\n",
    "limeData = LimeEncoder().fit(dataset_orig_train)\n",
    "s_train = limeData.transform(dataset_orig_train.features)\n",
    "s_test = limeData.transform(dataset_orig_test.features)"
   ]
  },
  {
   "cell_type": "code",
   "execution_count": 223,
   "metadata": {},
   "outputs": [],
   "source": [
    "X_orig_train=scaler.transform(dataset_orig_train.features)\n",
    "\n",
    "X_orig_test=scaler.transform(dataset_orig_test.features)\n",
    "y_orig_train=dataset_orig_train.labels.ravel()\n",
    "lr_orig_mod=LogisticRegression(solver='newton-cg').fit(X_orig_train,y_orig_train)\n",
    "y_test_pred=lr_orig_mod.predict(X_orig_test)"
   ]
  },
  {
   "cell_type": "code",
   "execution_count": 224,
   "metadata": {},
   "outputs": [
    {
     "name": "stdout",
     "output_type": "stream",
     "text": [
      "prediction acc 0.8505933515147048\n",
      "prediction pre 0.60381861575179\n",
      "prediction rec 0.7432978332721263\n",
      "prediction f1 0.6663374485596708\n"
     ]
    }
   ],
   "source": [
    "acc=accuracy_score(y_test_pred,dataset_orig_test.labels)\n",
    "pre=precision_score(y_test_pred,dataset_orig_test.labels)\n",
    "rec=recall_score(y_test_pred,dataset_orig_test.labels)\n",
    "f1=f1_score(y_test_pred,dataset_orig_test.labels.ravel())\n",
    "print('prediction acc',acc)\n",
    "print('prediction pre',pre)\n",
    "print('prediction rec',rec)\n",
    "print('prediction f1',f1)"
   ]
  },
  {
   "cell_type": "code",
   "execution_count": 225,
   "metadata": {},
   "outputs": [
    {
     "name": "stdout",
     "output_type": "stream",
     "text": [
      "Actual label [0.]\n",
      "Predicted label 0.0\n"
     ]
    },
    {
     "data": {
      "text/plain": [
       "<Figure size 2160x3600 with 0 Axes>"
      ]
     },
     "metadata": {},
     "output_type": "display_data"
    },
    {
     "data": {
      "image/png": "[encoded data removed]",
      "text/plain": [
       "<Figure size 432x288 with 1 Axes>"
      ]
     },
     "metadata": {
      "needs_background": "light"
     },
     "output_type": "display_data"
    }
   ],
   "source": [
    "explainer=lime.lime_tabular.LimeTabularExplainer(s_train,\n",
    "                                                class_names=limeData.s_class_names,\n",
    "                                                feature_names=limeData.s_feature_names,\n",
    "                                                categorical_features=limeData.s_categorical_features,\n",
    "                                                categorical_names=limeData.s_categorical_names,\n",
    "                                                kernel_width=3,\n",
    "                                                verbose=False,\n",
    "                                                discretize_continuous=True)\n",
    "s_predict_fn=lambda x:lr_orig_mod.predict_proba(scaler.transform(limeData.inverse_transform(x)))# 将Lime类型数据转变回来，再用prediction Model\n",
    "\n",
    "inst1=2\n",
    "exp=explainer.explain_instance(s_test[inst1],s_predict_fn,num_features=5)\n",
    "plt.figure(figsize=(30,50)) \n",
    "exp.as_pyplot_figure()\n",
    "# plt.tight_layout()\n",
    "print('Actual label '+str(dataset_orig_test.labels[inst1]))\n",
    "print('Predicted label '+str(lr_orig_mod.predict(X_orig_test)[inst1]))"
   ]
  },
  {
   "cell_type": "markdown",
   "metadata": {},
   "source": [
    "### Working on the transformed data"
   ]
  },
  {
   "cell_type": "code",
   "execution_count": 226,
   "metadata": {},
   "outputs": [],
   "source": [
    "# 若是执行了scaler transform结果将会出错\n",
    "\n",
    "dataset_transf_train=RW.transform(dataset_orig_train)\n",
    "dataset_transf_train=dataset_orig_train.align_datasets(dataset_transf_train)\n",
    "\n",
    "dataset_transf_test=RW.transform(dataset_orig_test)\n",
    "dataset_transf_test=dataset_orig_test.align_datasets(dataset_transf_test)\n",
    "\n",
    "limeData = LimeEncoder().fit(dataset_transf_train)\n",
    "s_transf_train = limeData.transform(dataset_transf_train.features)\n",
    "s_transf_test = limeData.transform(dataset_transf_test.features)"
   ]
  },
  {
   "cell_type": "code",
   "execution_count": 227,
   "metadata": {},
   "outputs": [],
   "source": [
    "scaler_transf=StandardScaler().fit(dataset_transf_train.features)\n",
    "X_transf_train=scaler_transf.transform(dataset_transf_train.features)\n",
    "y_transf_train=dataset_transf_train.labels.ravel()\n",
    "\n",
    "X_transf_test=scaler_transf.transform(dataset_transf_test.features)\n",
    "y_transf_test=dataset_transf_test.labels.ravel()\n",
    "# lr_mod_transf=LogisticRegression().fit(X_transf_train,y_transf_train,sample_weight=dataset_transf_train.instance_weights)\n",
    "y_transf_test_pred=lr_mod_transf.predict(X_transf_test)"
   ]
  },
  {
   "cell_type": "code",
   "execution_count": 228,
   "metadata": {},
   "outputs": [
    {
     "name": "stdout",
     "output_type": "stream",
     "text": [
      "prediction acc 0.8494140193115648\n",
      "prediction pre 0.6002386634844868\n",
      "prediction rec 0.7410681399631676\n",
      "prediction f1 0.6632602604252513\n"
     ]
    }
   ],
   "source": [
    "acc=accuracy_score(y_transf_test_pred,dataset_transf_test.labels)\n",
    "pre=precision_score(y_transf_test_pred,dataset_transf_test.labels)\n",
    "rec=recall_score(y_transf_test_pred,dataset_transf_test.labels)\n",
    "f1=f1_score(y_transf_test_pred,dataset_transf_test.labels.ravel())\n",
    "print('prediction acc',acc)\n",
    "print('prediction pre',pre)\n",
    "print('prediction rec',rec)\n",
    "print('prediction f1',f1)"
   ]
  },
  {
   "cell_type": "code",
   "execution_count": 229,
   "metadata": {},
   "outputs": [],
   "source": [
    "explainer=lime.lime_tabular.LimeTabularExplainer(s_transf_train,\n",
    "                                                 class_names=limeData.s_class_names,\n",
    "                                                 feature_names=limeData.s_feature_names,\n",
    "                                                 categorical_names=limeData.s_categorical_names,\n",
    "                                                 categorical_features=limeData.s_categorical_features,\n",
    "                                                 kernel_width=3,\n",
    "                                                 verbose=False,\n",
    "                                                 discretize_continuous=True\n",
    "                                                )"
   ]
  },
  {
   "cell_type": "code",
   "execution_count": 230,
   "metadata": {},
   "outputs": [],
   "source": [
    "s_predict_fn=lambda x:lr_mod_transf.predict_proba(scaler_transf.transform(limeData.inverse_transform(x)))"
   ]
  },
  {
   "cell_type": "code",
   "execution_count": 231,
   "metadata": {},
   "outputs": [
    {
     "name": "stdout",
     "output_type": "stream",
     "text": [
      "Actual Label  0.0\n",
      "Predicted Label  0.0\n"
     ]
    },
    {
     "data": {
      "image/png": "[encoded data removed]",
      "text/plain": [
       "<Figure size 432x288 with 1 Axes>"
      ]
     },
     "metadata": {
      "needs_background": "light"
     },
     "output_type": "display_data"
    }
   ],
   "source": [
    "exp=explainer.explain_instance(s_transf_test[1],\n",
    "                              s_predict_fn,\n",
    "                              num_features=5)\n",
    "exp.as_pyplot_figure()\n",
    "print('Actual Label ',y_transf_test[3])\n",
    "print('Predicted Label ',lr_mod_transf.predict(X_transf_test)[3])"
   ]
  },
  {
   "cell_type": "code",
   "execution_count": null,
   "metadata": {},
   "outputs": [],
   "source": []
  }
 ],
 "metadata": {
  "kernelspec": {
   "display_name": "Python 3",
   "language": "python",
   "name": "python3"
  },
  "language_info": {
   "codemirror_mode": {
    "name": "ipython",
    "version": 3
   },
   "file_extension": ".py",
   "mimetype": "text/x-python",
   "name": "python",
   "nbconvert_exporter": "python",
   "pygments_lexer": "ipython3",
   "version": "3.7.6"
  }
 },
 "nbformat": 4,
 "nbformat_minor": 4
}
